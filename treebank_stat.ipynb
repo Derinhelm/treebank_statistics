{
  "nbformat": 4,
  "nbformat_minor": 0,
  "metadata": {
    "colab": {
      "provenance": [],
      "authorship_tag": "ABX9TyNGED42GOhM5d8v+OmemCdj",
      "include_colab_link": true
    },
    "kernelspec": {
      "name": "python3",
      "display_name": "Python 3"
    },
    "language_info": {
      "name": "python"
    }
  },
  "cells": [
    {
      "cell_type": "markdown",
      "metadata": {
        "id": "view-in-github",
        "colab_type": "text"
      },
      "source": [
        "<a href=\"https://colab.research.google.com/github/Derinhelm/treebank_statistics/blob/main/treebank_stat.ipynb\" target=\"_parent\"><img src=\"https://colab.research.google.com/assets/colab-badge.svg\" alt=\"Open In Colab\"/></a>"
      ]
    },
    {
      "cell_type": "markdown",
      "source": [
        "# Загрузка датасетов"
      ],
      "metadata": {
        "id": "NEQsypAOmAdt"
      }
    },
    {
      "cell_type": "code",
      "source": [
        "from IPython.display import clear_output"
      ],
      "metadata": {
        "id": "7k1doCGgZv12"
      },
      "execution_count": 1,
      "outputs": []
    },
    {
      "cell_type": "markdown",
      "source": [
        "## Датасет на русском языке"
      ],
      "metadata": {
        "id": "Gq0XOuJ31H0b"
      }
    },
    {
      "cell_type": "code",
      "source": [
        "!wget -m https://github.com/UniversalDependencies/UD_Russian-SynTagRus/raw/master/ru_syntagrus-ud-train-a.conllu\n",
        "!wget -m https://github.com/UniversalDependencies/UD_Russian-SynTagRus/raw/master/ru_syntagrus-ud-train-b.conllu\n",
        "!wget -m https://github.com/UniversalDependencies/UD_Russian-SynTagRus/raw/master/ru_syntagrus-ud-train-c.conllu\n",
        "\n",
        "!wget -m https://github.com/UniversalDependencies/UD_Russian-SynTagRus/raw/master/ru_syntagrus-ud-dev.conllu\n",
        "!wget -m https://github.com/UniversalDependencies/UD_Russian-SynTagRus/raw/master/ru_syntagrus-ud-test.conllu\n",
        "\n",
        "!mv /content/github.com/UniversalDependencies/UD_Russian-SynTagRus/raw/master/ru_syntagrus-ud-train-a.conllu /content/ru_syntagrus-ud-train-a.conllu\n",
        "!mv /content/github.com/UniversalDependencies/UD_Russian-SynTagRus/raw/master/ru_syntagrus-ud-train-b.conllu /content/ru_syntagrus-ud-train-b.conllu\n",
        "!mv /content/github.com/UniversalDependencies/UD_Russian-SynTagRus/raw/master/ru_syntagrus-ud-train-c.conllu /content/ru_syntagrus-ud-train-c.conllu\n",
        "\n",
        "!mv /content/github.com/UniversalDependencies/UD_Russian-SynTagRus/raw/master/ru_syntagrus-ud-dev.conllu /content/ru_syntagrus-ud-dev.conllu\n",
        "\n",
        "!mv /content/github.com/UniversalDependencies/UD_Russian-SynTagRus/raw/master/ru_syntagrus-ud-test.conllu /content/ru_syntagrus-ud-test.conllu\n",
        "\n",
        "clear_output()"
      ],
      "metadata": {
        "id": "TetUqwkHl_fp"
      },
      "execution_count": 2,
      "outputs": []
    },
    {
      "cell_type": "markdown",
      "source": [
        "## Датасет на английском языке"
      ],
      "metadata": {
        "id": "4oRm1Vh0Z95U"
      }
    },
    {
      "cell_type": "code",
      "source": [
        "!wget -m https://github.com/UniversalDependencies/UD_English-EWT/raw/master/en_ewt-ud-train.conllu\n",
        "!wget -m https://github.com/UniversalDependencies/UD_English-EWT/raw/master/en_ewt-ud-dev.conllu\n",
        "!wget -m https://github.com/UniversalDependencies/UD_English-EWT/raw/master/en_ewt-ud-test.conllu\n",
        "\n",
        "!mv /content/github.com/UniversalDependencies/UD_English-EWT/raw/master/en_ewt-ud-train.conllu /content/en_ewt-ud-train.conllu\n",
        "!mv /content/github.com/UniversalDependencies/UD_English-EWT/raw/master/en_ewt-ud-dev.conllu /content/en_ewt-ud-dev.conllu\n",
        "!mv /content/github.com/UniversalDependencies/UD_English-EWT/raw/master/en_ewt-ud-test.conllu /content/en_ewt-ud-test.conllu\n",
        "\n",
        "clear_output()"
      ],
      "metadata": {
        "id": "FninJwgoZ-ey"
      },
      "execution_count": 3,
      "outputs": []
    },
    {
      "cell_type": "markdown",
      "source": [
        "## Датасет на китайском языке"
      ],
      "metadata": {
        "id": "apeHziRhZ-Ds"
      }
    },
    {
      "cell_type": "code",
      "source": [
        "!wget -m https://github.com/UniversalDependencies/UD_Chinese-GSD/raw/master/zh_gsd-ud-train.conllu\n",
        "!wget -m https://github.com/UniversalDependencies/UD_Chinese-GSD/raw/master/zh_gsd-ud-dev.conllu\n",
        "!wget -m https://github.com/UniversalDependencies/UD_Chinese-GSD/raw/master/zh_gsd-ud-test.conllu\n",
        "\n",
        "!mv /content/github.com/UniversalDependencies/UD_Chinese-GSD/raw/master/zh_gsd-ud-train.conllu /content/zh_gsd-ud-train.conllu\n",
        "!mv /content/github.com/UniversalDependencies/UD_Chinese-GSD/raw/master/zh_gsd-ud-dev.conllu /content/zh_gsd-ud-dev.conllu\n",
        "!mv /content/github.com/UniversalDependencies/UD_Chinese-GSD/raw/master/zh_gsd-ud-test.conllu /content/zh_gsd-ud-test.conllu\n",
        "\n",
        "clear_output()"
      ],
      "metadata": {
        "id": "xdwEpsvHaJ1e"
      },
      "execution_count": 4,
      "outputs": []
    },
    {
      "cell_type": "code",
      "source": [
        "!rm -r /content/github.com\n",
        "clear_output()"
      ],
      "metadata": {
        "id": "8RpohT46av_-"
      },
      "execution_count": 5,
      "outputs": []
    },
    {
      "cell_type": "markdown",
      "source": [
        "# Хранение токенов и предложения\n",
        "\n"
      ],
      "metadata": {
        "id": "texKU7AWqFGH"
      }
    },
    {
      "cell_type": "code",
      "source": [
        "class ConllEntry:\n",
        "    def __init__(self, id, form, lemma, pos, cpos, feats=None, \\\n",
        "                 parent_id=None, relation=None,deps=None, misc=None):\n",
        "        self.id = id\n",
        "        self.form = form\n",
        "        self.lemma = lemma\n",
        "        self.pos = pos\n",
        "        self.cpos = cpos\n",
        "        self.feats = feats\n",
        "        self.parent_id = parent_id\n",
        "        self.relation = relation\n",
        "        self.deps = deps\n",
        "        self.misc = misc"
      ],
      "metadata": {
        "id": "Y3JJJ-5aqKD3"
      },
      "execution_count": 6,
      "outputs": []
    },
    {
      "cell_type": "code",
      "source": [
        "class Sentence:\n",
        "    def __init__(self):\n",
        "        self.text = \"\"\n",
        "        self.sent_id = \"\"\n",
        "        self.words = []\n",
        "\n",
        "    def add_word(self, word):\n",
        "        self.words.append(word)\n",
        "\n",
        "    def set_sent_id(self, sent_id):\n",
        "        self.sent_id = sent_id\n",
        "\n",
        "    def set_text(self, text):\n",
        "        self.text = text\n",
        "\n",
        "    def is_not_empty(self):\n",
        "        return len(self.words) > 0\n"
      ],
      "metadata": {
        "id": "C6LK0INJraFl"
      },
      "execution_count": 7,
      "outputs": []
    },
    {
      "cell_type": "markdown",
      "source": [
        "# Чтение информации из файла"
      ],
      "metadata": {
        "id": "j62mVokE004a"
      }
    },
    {
      "cell_type": "code",
      "source": [
        "def read_conll(filename):\n",
        "    fh = open(filename,'r',encoding='utf-8')\n",
        "    sents_read = 0\n",
        "    sents = []\n",
        "    comments = set()\n",
        "\n",
        "    sent = Sentence()\n",
        "    for line in fh:\n",
        "        tok = line.strip().split('\\t')\n",
        "        if not tok or line.strip() == '': # empty line, add sentence to list\n",
        "            if sent.is_not_empty:\n",
        "                sents_read += 1\n",
        "                sents.append(sent)\n",
        "            sent = Sentence()\n",
        "        else:\n",
        "            if line[0] == '#' or '-' in tok[0]: # a comment line\n",
        "                line = line.strip()\n",
        "                if line[:12] == \"# sent_id = \":\n",
        "                    sent.set_sent_id(line[12:])\n",
        "                elif line[:9] == \"# text = \":\n",
        "                    sent.set_text(line[9:])\n",
        "                else:\n",
        "                    comments.add(line)\n",
        "\n",
        "            else: # an actual ConllEntry, add to tokens\n",
        "                if tok[2] == \"_\":\n",
        "                    tok[2] = tok[1].lower()\n",
        "\n",
        "                word = ConllEntry(*tok)\n",
        "                sent.add_word(word)\n",
        "    fh.close()\n",
        "    return sents"
      ],
      "metadata": {
        "id": "bfX1Ulkrmra3"
      },
      "execution_count": 8,
      "outputs": []
    },
    {
      "cell_type": "code",
      "source": [
        "def create_lang_dicts():\n",
        "  return {'rus': {'train': [], 'dev': [], 'test': []},\n",
        "          'eng': {'train': [], 'dev': [], 'test': []},\n",
        "          'chi': {'train': [], 'dev': [], 'test': []}}"
      ],
      "metadata": {
        "id": "rsSh67-2gNHG"
      },
      "execution_count": 9,
      "outputs": []
    },
    {
      "cell_type": "code",
      "source": [
        "splitted_sents = {'rus': {'train': [], 'dev': [], 'test': []},\n",
        "          'eng': {'train': [], 'dev': [], 'test': []},\n",
        "          'chi': {'train': [], 'dev': [], 'test': []}}"
      ],
      "metadata": {
        "id": "UocWUOurdqEa"
      },
      "execution_count": 10,
      "outputs": []
    },
    {
      "cell_type": "code",
      "source": [
        "splitted_sents['rus']['train'] = read_conll(\"/content/ru_syntagrus-ud-train-a.conllu\") + \\\n",
        "                                 read_conll(\"/content/ru_syntagrus-ud-train-b.conllu\") + \\\n",
        "                                 read_conll(\"/content/ru_syntagrus-ud-train-c.conllu\")\n",
        "\n",
        "splitted_sents['rus']['dev'] = read_conll(\"/content/ru_syntagrus-ud-dev.conllu\")\n",
        "splitted_sents['rus']['test'] = read_conll(\"/content/ru_syntagrus-ud-test.conllu\")"
      ],
      "metadata": {
        "id": "_KK-pT7edGQs"
      },
      "execution_count": 11,
      "outputs": []
    },
    {
      "cell_type": "code",
      "source": [
        "splitted_sents['eng']['train'] = read_conll(\"/content/en_ewt-ud-train.conllu\")\n",
        "splitted_sents['eng']['dev'] = read_conll(\"/content/en_ewt-ud-dev.conllu\")\n",
        "splitted_sents['eng']['test'] = read_conll(\"/content/en_ewt-ud-test.conllu\")\n",
        "\n",
        "splitted_sents['chi']['train'] = read_conll(\"/content/zh_gsd-ud-train.conllu\")\n",
        "splitted_sents['chi']['dev'] = read_conll(\"/content/zh_gsd-ud-dev.conllu\")\n",
        "splitted_sents['chi']['test'] = read_conll(\"/content/zh_gsd-ud-test.conllu\")"
      ],
      "metadata": {
        "id": "AhyCTv9KMsD2"
      },
      "execution_count": 12,
      "outputs": []
    },
    {
      "cell_type": "code",
      "source": [
        "for lang in splitted_sents:\n",
        "    print(lang, \":\", [(k, len(v)) for k, v in splitted_sents[lang].items()])"
      ],
      "metadata": {
        "colab": {
          "base_uri": "https://localhost:8080/"
        },
        "id": "cfxTpeRQ3VH1",
        "outputId": "fe75d9e5-9191-434b-8f85-69ae02a2bd32"
      },
      "execution_count": 13,
      "outputs": [
        {
          "output_type": "stream",
          "name": "stdout",
          "text": [
            "rus : [('train', 69630), ('dev', 8906), ('test', 8800)]\n",
            "eng : [('train', 12544), ('dev', 2001), ('test', 2077)]\n",
            "chi : [('train', 3997), ('dev', 500), ('test', 500)]\n"
          ]
        }
      ]
    },
    {
      "cell_type": "code",
      "source": [
        "def sentence_is_not_complex(s):\n",
        "  return all('.' not in w.id for w in s.words)\n",
        "\n",
        "sents = {}\n",
        "for lang in splitted_sents:\n",
        "    lang_sents = splitted_sents[lang]['train'] + \\\n",
        "                  splitted_sents[lang]['dev'] + \\\n",
        "                  splitted_sents[lang]['test']\n",
        "    sents[lang] = [s for s in lang_sents if sentence_is_not_complex(s)]\n",
        "    print(lang, \". Normal sentence amount: \", len(sents[lang]), \", complex sentence amount: \", len(lang_sents) - len(sents[lang]), sep=\"\")"
      ],
      "metadata": {
        "colab": {
          "base_uri": "https://localhost:8080/"
        },
        "id": "B4bEaZWz8Ail",
        "outputId": "625e90e9-285a-49f8-9ad2-cc1395311d7b"
      },
      "execution_count": 14,
      "outputs": [
        {
          "output_type": "stream",
          "name": "stdout",
          "text": [
            "rus. Normal sentence amount: 85572, complex sentence amount: 1764\n",
            "eng. Normal sentence amount: 16582, complex sentence amount: 40\n",
            "chi. Normal sentence amount: 4997, complex sentence amount: 0\n"
          ]
        }
      ]
    },
    {
      "cell_type": "code",
      "source": [
        "languages = sents.keys()\n",
        "languages"
      ],
      "metadata": {
        "colab": {
          "base_uri": "https://localhost:8080/"
        },
        "id": "O5Rro5rPw13d",
        "outputId": "0b76c287-614f-4833-b12d-0ff5c58c900e"
      },
      "execution_count": 15,
      "outputs": [
        {
          "output_type": "execute_result",
          "data": {
            "text/plain": [
              "dict_keys(['rus', 'eng', 'chi'])"
            ]
          },
          "metadata": {},
          "execution_count": 15
        }
      ]
    },
    {
      "cell_type": "markdown",
      "source": [
        "# Количество токенов в предложении"
      ],
      "metadata": {
        "id": "CEoprqM2KCdo"
      }
    },
    {
      "cell_type": "code",
      "source": [
        "from collections import Counter"
      ],
      "metadata": {
        "id": "smXNsBj5KWF3"
      },
      "execution_count": 16,
      "outputs": []
    },
    {
      "cell_type": "code",
      "source": [
        "token_counters = {lang: Counter([len(s.words) for s in lang_sents]) for lang, lang_sents in sents.items()}"
      ],
      "metadata": {
        "id": "7-bEvlkJKFjR"
      },
      "execution_count": 17,
      "outputs": []
    },
    {
      "cell_type": "code",
      "source": [
        "for lang, lang_counter in token_counters.items():\n",
        "  print(lang, \". All token amount: \", sum([length * rate for length, rate in token_counters[lang].items()]), sep=\"\")"
      ],
      "metadata": {
        "colab": {
          "base_uri": "https://localhost:8080/"
        },
        "id": "sRAo41xk0jCH",
        "outputId": "b235a2cb-b414-4387-fd48-f80b3625a6fa"
      },
      "execution_count": 18,
      "outputs": [
        {
          "output_type": "stream",
          "name": "stdout",
          "text": [
            "rus. All token amount: 1474199\n",
            "eng. All token amount: 253634\n",
            "chi. All token amount: 123291\n"
          ]
        }
      ]
    },
    {
      "cell_type": "code",
      "source": [
        "for lang, lang_counter in token_counters.items():\n",
        "  print(lang, \". Average token amount: \", sum([token_amount * rate for token_amount, rate in lang_counter.items()]) / lang_counter.total(), sep=\"\")"
      ],
      "metadata": {
        "colab": {
          "base_uri": "https://localhost:8080/"
        },
        "id": "ljZjLZp3BkhF",
        "outputId": "d7742fe4-79ab-4bb4-e547-d388d95e30c1"
      },
      "execution_count": 19,
      "outputs": [
        {
          "output_type": "stream",
          "name": "stdout",
          "text": [
            "rus. Average token amount: 17.227586126302995\n",
            "eng. Average token amount: 15.295742371245929\n",
            "chi. Average token amount: 24.673003802281368\n"
          ]
        }
      ]
    },
    {
      "cell_type": "code",
      "source": [
        "for lang, token_counter in token_counters.items():\n",
        "    lang_token_lengths = token_counter.keys()\n",
        "    print(lang, \". The shortest sentence length: \", min(lang_token_lengths), \", the longest sentence length: \", max(lang_token_lengths), sep=\"\")"
      ],
      "metadata": {
        "colab": {
          "base_uri": "https://localhost:8080/"
        },
        "id": "_PRPsiCaKllA",
        "outputId": "efc1d49b-b6ad-4ad4-8bd3-e3f7fcd55b0f"
      },
      "execution_count": 20,
      "outputs": [
        {
          "output_type": "stream",
          "name": "stdout",
          "text": [
            "rus. The shortest sentence length: 2, the longest sentence length: 205\n",
            "eng. The shortest sentence length: 1, the longest sentence length: 159\n",
            "chi. The shortest sentence length: 4, the longest sentence length: 111\n"
          ]
        }
      ]
    },
    {
      "cell_type": "code",
      "source": [
        "len_lang = {lang: t_counter.total() for lang, t_counter in token_counters.items()}"
      ],
      "metadata": {
        "id": "52pgRrxGORhy"
      },
      "execution_count": 21,
      "outputs": []
    },
    {
      "cell_type": "code",
      "source": [
        "lang_russian_title = {'rus': 'русский', 'eng': 'английский', 'chi': 'китайский'}"
      ],
      "metadata": {
        "id": "APiOHj3GV2lR"
      },
      "execution_count": 22,
      "outputs": []
    },
    {
      "cell_type": "code",
      "source": [
        "import matplotlib.pyplot as plt"
      ],
      "metadata": {
        "id": "a2PWqvmQJ5X9"
      },
      "execution_count": 23,
      "outputs": []
    },
    {
      "cell_type": "code",
      "source": [
        "#define grid of plots\n",
        "fig, axs = plt.subplots(nrows= 3 , ncols= 1, sharex=True, figsize=(5, 8))\n",
        "\n",
        "#add title\n",
        "fig.suptitle('Распределение количества токенов в предложении')\n",
        "\n",
        "#add data to plots\n",
        "for bar_i, lang in enumerate(token_counters):\n",
        "  x, y = zip(*([(i, j / len_lang[lang]) for i, j in token_counters[lang].items() if i <= 50]))\n",
        "  axs[bar_i].bar(x, height=y)\n",
        "  axs[bar_i].title.set_text(lang_russian_title[lang])\n"
      ],
      "metadata": {
        "colab": {
          "base_uri": "https://localhost:8080/",
          "height": 776
        },
        "id": "iIMJsWoYLbAb",
        "outputId": "a63b974d-9e4f-4338-d8e2-1330f2656334"
      },
      "execution_count": 24,
      "outputs": [
        {
          "output_type": "display_data",
          "data": {
            "text/plain": [
              "<Figure size 500x800 with 3 Axes>"
            ],
            "image/png": "[encoded data removed]"
          },
          "metadata": {}
        }
      ]
    },
    {
      "cell_type": "code",
      "source": [
        "fig, ax = plt.subplots(nrows=1, ncols=3, figsize = (10,8), sharey=True)\n",
        "fig.suptitle('Распределение количества токенов в предложении')\n",
        "\n",
        "for col_i, lang in enumerate(token_counters):\n",
        "    ax[col_i].boxplot(x=token_counters[lang], showfliers=False,showcaps=True)\n",
        "    ax[col_i].title.set_text(lang_russian_title[lang])\n",
        "\n",
        "plt.show()"
      ],
      "metadata": {
        "colab": {
          "base_uri": "https://localhost:8080/",
          "height": 776
        },
        "id": "R-bZD_TlWwmX",
        "outputId": "87b50602-abe5-4ac4-9851-161899b84697"
      },
      "execution_count": 25,
      "outputs": [
        {
          "output_type": "display_data",
          "data": {
            "text/plain": [
              "<Figure size 1000x800 with 3 Axes>"
            ],
            "image/png": "[encoded data removed]"
          },
          "metadata": {}
        }
      ]
    },
    {
      "cell_type": "markdown",
      "source": [
        "## Группировка датасетов по токенам"
      ],
      "metadata": {
        "id": "eKuq9qo2AmPS"
      }
    },
    {
      "cell_type": "code",
      "source": [
        "import pandas as pd"
      ],
      "metadata": {
        "id": "WRPKG2IPAlPE"
      },
      "execution_count": 26,
      "outputs": []
    },
    {
      "cell_type": "code",
      "source": [
        "def create_node_df(cur_sents):\n",
        "    info = []\n",
        "    for sent_i, sent in enumerate(cur_sents):\n",
        "      for w_i, w in enumerate(sent.words):\n",
        "        info.append((w.id, w.parent_id, w.relation, w.pos, w.form, w.lemma, sent_i))\n",
        "    info_df = pd.DataFrame(info, columns=[\"id\", \"parent_id\", \"relation\", \"pos\", \"form\", \"lemma\", \"sent_i\"])\n",
        "    return info_df"
      ],
      "metadata": {
        "id": "clb2DC9nBZ16"
      },
      "execution_count": 27,
      "outputs": []
    },
    {
      "cell_type": "code",
      "source": [
        "node_df_dict = {}\n",
        "for lang in sents:\n",
        "    node_df_dict[lang] = create_node_df(sents[lang])"
      ],
      "metadata": {
        "id": "z1YyOFcRCJgl"
      },
      "execution_count": 28,
      "outputs": []
    },
    {
      "cell_type": "code",
      "source": [
        "node_df_dict['rus']"
      ],
      "metadata": {
        "colab": {
          "base_uri": "https://localhost:8080/",
          "height": 444
        },
        "id": "iVO_-uXnYRFv",
        "outputId": "c4fe3957-d556-4ed8-9b97-2e522cde022c"
      },
      "execution_count": 29,
      "outputs": [
        {
          "output_type": "execute_result",
          "data": {
            "text/plain": [
              "         id parent_id relation    pos        form       lemma  sent_i\n",
              "0         1         0     root   NOUN      Анкета      анкета       0\n",
              "1         2         1    punct  PUNCT           .           .       0\n",
              "2         1         8    nsubj   NOUN   Начальник   начальник       1\n",
              "3         2         3     amod    ADJ  областного   областной       1\n",
              "4         3         1     nmod   NOUN  управления  управление       1\n",
              "...      ..       ...      ...    ...         ...         ...     ...\n",
              "1474194  10         9    nsubj   PRON         она         она   85571\n",
              "1474195  11        13       cc  CCONJ           и           и   85571\n",
              "1474196  12        13   advmod    ADV  застенчиво  застенчиво   85571\n",
              "1474197  13         9     conj   VERB  улыбнулась  улыбнуться   85571\n",
              "1474198  14         3    punct  PUNCT           .           .   85571\n",
              "\n",
              "[1474199 rows x 7 columns]"
            ],
            "text/html": [
              "\n",
              "  <div id=\"df-781c1029-887d-42f4-8168-42e3dfdf1086\" class=\"colab-df-container\">\n",
              "    <div>\n",
              "<style scoped>\n",
              "    .dataframe tbody tr th:only-of-type {\n",
              "        vertical-align: middle;\n",
              "    }\n",
              "\n",
              "    .dataframe tbody tr th {\n",
              "        vertical-align: top;\n",
              "    }\n",
              "\n",
              "    .dataframe thead th {\n",
              "        text-align: right;\n",
              "    }\n",
              "</style>\n",
              "<table border=\"1\" class=\"dataframe\">\n",
              "  <thead>\n",
              "    <tr style=\"text-align: right;\">\n",
              "      <th></th>\n",
              "      <th>id</th>\n",
              "      <th>parent_id</th>\n",
              "      <th>relation</th>\n",
              "      <th>pos</th>\n",
              "      <th>form</th>\n",
              "      <th>lemma</th>\n",
              "      <th>sent_i</th>\n",
              "    </tr>\n",
              "  </thead>\n",
              "  <tbody>\n",
              "    <tr>\n",
              "      <th>0</th>\n",
              "      <td>1</td>\n",
              "      <td>0</td>\n",
              "      <td>root</td>\n",
              "      <td>NOUN</td>\n",
              "      <td>Анкета</td>\n",
              "      <td>анкета</td>\n",
              "      <td>0</td>\n",
              "    </tr>\n",
              "    <tr>\n",
              "      <th>1</th>\n",
              "      <td>2</td>\n",
              "      <td>1</td>\n",
              "      <td>punct</td>\n",
              "      <td>PUNCT</td>\n",
              "      <td>.</td>\n",
              "      <td>.</td>\n",
              "      <td>0</td>\n",
              "    </tr>\n",
              "    <tr>\n",
              "      <th>2</th>\n",
              "      <td>1</td>\n",
              "      <td>8</td>\n",
              "      <td>nsubj</td>\n",
              "      <td>NOUN</td>\n",
              "      <td>Начальник</td>\n",
              "      <td>начальник</td>\n",
              "      <td>1</td>\n",
              "    </tr>\n",
              "    <tr>\n",
              "      <th>3</th>\n",
              "      <td>2</td>\n",
              "      <td>3</td>\n",
              "      <td>amod</td>\n",
              "      <td>ADJ</td>\n",
              "      <td>областного</td>\n",
              "      <td>областной</td>\n",
              "      <td>1</td>\n",
              "    </tr>\n",
              "    <tr>\n",
              "      <th>4</th>\n",
              "      <td>3</td>\n",
              "      <td>1</td>\n",
              "      <td>nmod</td>\n",
              "      <td>NOUN</td>\n",
              "      <td>управления</td>\n",
              "      <td>управление</td>\n",
              "      <td>1</td>\n",
              "    </tr>\n",
              "    <tr>\n",
              "      <th>...</th>\n",
              "      <td>...</td>\n",
              "      <td>...</td>\n",
              "      <td>...</td>\n",
              "      <td>...</td>\n",
              "      <td>...</td>\n",
              "      <td>...</td>\n",
              "      <td>...</td>\n",
              "    </tr>\n",
              "    <tr>\n",
              "      <th>1474194</th>\n",
              "      <td>10</td>\n",
              "      <td>9</td>\n",
              "      <td>nsubj</td>\n",
              "      <td>PRON</td>\n",
              "      <td>она</td>\n",
              "      <td>она</td>\n",
              "      <td>85571</td>\n",
              "    </tr>\n",
              "    <tr>\n",
              "      <th>1474195</th>\n",
              "      <td>11</td>\n",
              "      <td>13</td>\n",
              "      <td>cc</td>\n",
              "      <td>CCONJ</td>\n",
              "      <td>и</td>\n",
              "      <td>и</td>\n",
              "      <td>85571</td>\n",
              "    </tr>\n",
              "    <tr>\n",
              "      <th>1474196</th>\n",
              "      <td>12</td>\n",
              "      <td>13</td>\n",
              "      <td>advmod</td>\n",
              "      <td>ADV</td>\n",
              "      <td>застенчиво</td>\n",
              "      <td>застенчиво</td>\n",
              "      <td>85571</td>\n",
              "    </tr>\n",
              "    <tr>\n",
              "      <th>1474197</th>\n",
              "      <td>13</td>\n",
              "      <td>9</td>\n",
              "      <td>conj</td>\n",
              "      <td>VERB</td>\n",
              "      <td>улыбнулась</td>\n",
              "      <td>улыбнуться</td>\n",
              "      <td>85571</td>\n",
              "    </tr>\n",
              "    <tr>\n",
              "      <th>1474198</th>\n",
              "      <td>14</td>\n",
              "      <td>3</td>\n",
              "      <td>punct</td>\n",
              "      <td>PUNCT</td>\n",
              "      <td>.</td>\n",
              "      <td>.</td>\n",
              "      <td>85571</td>\n",
              "    </tr>\n",
              "  </tbody>\n",
              "</table>\n",
              "<p>1474199 rows × 7 columns</p>\n",
              "</div>\n",
              "    <div class=\"colab-df-buttons\">\n",
              "\n",
              "  <div class=\"colab-df-container\">\n",
              "    <button class=\"colab-df-convert\" onclick=\"convertToInteractive('df-781c1029-887d-42f4-8168-42e3dfdf1086')\"\n",
              "            title=\"Convert this dataframe to an interactive table.\"\n",
              "            style=\"display:none;\">\n",
              "\n",
              "  <svg xmlns=\"http://www.w3.org/2000/svg\" height=\"24px\" viewBox=\"0 -960 960 960\">\n",
              "    <path d=\"M120-120v-720h720v720H120Zm60-500h600v-160H180v160Zm220 220h160v-160H400v160Zm0 220h160v-160H400v160ZM180-400h160v-160H180v160Zm440 0h160v-160H620v160ZM180-180h160v-160H180v160Zm440 0h160v-160H620v160Z\"/>\n",
              "  </svg>\n",
              "    </button>\n",
              "\n",
              "  <style>\n",
              "    .colab-df-container {\n",
              "      display:flex;\n",
              "      gap: 12px;\n",
              "    }\n",
              "\n",
              "    .colab-df-convert {\n",
              "      background-color: #E8F0FE;\n",
              "      border: none;\n",
              "      border-radius: 50%;\n",
              "      cursor: pointer;\n",
              "      display: none;\n",
              "      fill: #1967D2;\n",
              "      height: 32px;\n",
              "      padding: 0 0 0 0;\n",
              "      width: 32px;\n",
              "    }\n",
              "\n",
              "    .colab-df-convert:hover {\n",
              "      background-color: #E2EBFA;\n",
              "      box-shadow: 0px 1px 2px rgba(60, 64, 67, 0.3), 0px 1px 3px 1px rgba(60, 64, 67, 0.15);\n",
              "      fill: #174EA6;\n",
              "    }\n",
              "\n",
              "    .colab-df-buttons div {\n",
              "      margin-bottom: 4px;\n",
              "    }\n",
              "\n",
              "    [theme=dark] .colab-df-convert {\n",
              "      background-color: #3B4455;\n",
              "      fill: #D2E3FC;\n",
              "    }\n",
              "\n",
              "    [theme=dark] .colab-df-convert:hover {\n",
              "      background-color: #434B5C;\n",
              "      box-shadow: 0px 1px 3px 1px rgba(0, 0, 0, 0.15);\n",
              "      filter: drop-shadow(0px 1px 2px rgba(0, 0, 0, 0.3));\n",
              "      fill: #FFFFFF;\n",
              "    }\n",
              "  </style>\n",
              "\n",
              "    <script>\n",
              "      const buttonEl =\n",
              "        document.querySelector('#df-781c1029-887d-42f4-8168-42e3dfdf1086 button.colab-df-convert');\n",
              "      buttonEl.style.display =\n",
              "        google.colab.kernel.accessAllowed ? 'block' : 'none';\n",
              "\n",
              "      async function convertToInteractive(key) {\n",
              "        const element = document.querySelector('#df-781c1029-887d-42f4-8168-42e3dfdf1086');\n",
              "        const dataTable =\n",
              "          await google.colab.kernel.invokeFunction('convertToInteractive',\n",
              "                                                    [key], {});\n",
              "        if (!dataTable) return;\n",
              "\n",
              "        const docLinkHtml = 'Like what you see? Visit the ' +\n",
              "          '<a target=\"_blank\" href=https://colab.research.google.com/notebooks/data_table.ipynb>data table notebook</a>'\n",
              "          + ' to learn more about interactive tables.';\n",
              "        element.innerHTML = '';\n",
              "        dataTable['output_type'] = 'display_data';\n",
              "        await google.colab.output.renderOutput(dataTable, element);\n",
              "        const docLink = document.createElement('div');\n",
              "        docLink.innerHTML = docLinkHtml;\n",
              "        element.appendChild(docLink);\n",
              "      }\n",
              "    </script>\n",
              "  </div>\n",
              "\n",
              "\n",
              "<div id=\"df-ce193203-30d3-4c98-8d14-3f85bdbbafdb\">\n",
              "  <button class=\"colab-df-quickchart\" onclick=\"quickchart('df-ce193203-30d3-4c98-8d14-3f85bdbbafdb')\"\n",
              "            title=\"Suggest charts\"\n",
              "            style=\"display:none;\">\n",
              "\n",
              "<svg xmlns=\"http://www.w3.org/2000/svg\" height=\"24px\"viewBox=\"0 0 24 24\"\n",
              "     width=\"24px\">\n",
              "    <g>\n",
              "        <path d=\"M19 3H5c-1.1 0-2 .9-2 2v14c0 1.1.9 2 2 2h14c1.1 0 2-.9 2-2V5c0-1.1-.9-2-2-2zM9 17H7v-7h2v7zm4 0h-2V7h2v10zm4 0h-2v-4h2v4z\"/>\n",
              "    </g>\n",
              "</svg>\n",
              "  </button>\n",
              "\n",
              "<style>\n",
              "  .colab-df-quickchart {\n",
              "      --bg-color: #E8F0FE;\n",
              "      --fill-color: #1967D2;\n",
              "      --hover-bg-color: #E2EBFA;\n",
              "      --hover-fill-color: #174EA6;\n",
              "      --disabled-fill-color: #AAA;\n",
              "      --disabled-bg-color: #DDD;\n",
              "  }\n",
              "\n",
              "  [theme=dark] .colab-df-quickchart {\n",
              "      --bg-color: #3B4455;\n",
              "      --fill-color: #D2E3FC;\n",
              "      --hover-bg-color: #434B5C;\n",
              "      --hover-fill-color: #FFFFFF;\n",
              "      --disabled-bg-color: #3B4455;\n",
              "      --disabled-fill-color: #666;\n",
              "  }\n",
              "\n",
              "  .colab-df-quickchart {\n",
              "    background-color: var(--bg-color);\n",
              "    border: none;\n",
              "    border-radius: 50%;\n",
              "    cursor: pointer;\n",
              "    display: none;\n",
              "    fill: var(--fill-color);\n",
              "    height: 32px;\n",
              "    padding: 0;\n",
              "    width: 32px;\n",
              "  }\n",
              "\n",
              "  .colab-df-quickchart:hover {\n",
              "    background-color: var(--hover-bg-color);\n",
              "    box-shadow: 0 1px 2px rgba(60, 64, 67, 0.3), 0 1px 3px 1px rgba(60, 64, 67, 0.15);\n",
              "    fill: var(--button-hover-fill-color);\n",
              "  }\n",
              "\n",
              "  .colab-df-quickchart-complete:disabled,\n",
              "  .colab-df-quickchart-complete:disabled:hover {\n",
              "    background-color: var(--disabled-bg-color);\n",
              "    fill: var(--disabled-fill-color);\n",
              "    box-shadow: none;\n",
              "  }\n",
              "\n",
              "  .colab-df-spinner {\n",
              "    border: 2px solid var(--fill-color);\n",
              "    border-color: transparent;\n",
              "    border-bottom-color: var(--fill-color);\n",
              "    animation:\n",
              "      spin 1s steps(1) infinite;\n",
              "  }\n",
              "\n",
              "  @keyframes spin {\n",
              "    0% {\n",
              "      border-color: transparent;\n",
              "      border-bottom-color: var(--fill-color);\n",
              "      border-left-color: var(--fill-color);\n",
              "    }\n",
              "    20% {\n",
              "      border-color: transparent;\n",
              "      border-left-color: var(--fill-color);\n",
              "      border-top-color: var(--fill-color);\n",
              "    }\n",
              "    30% {\n",
              "      border-color: transparent;\n",
              "      border-left-color: var(--fill-color);\n",
              "      border-top-color: var(--fill-color);\n",
              "      border-right-color: var(--fill-color);\n",
              "    }\n",
              "    40% {\n",
              "      border-color: transparent;\n",
              "      border-right-color: var(--fill-color);\n",
              "      border-top-color: var(--fill-color);\n",
              "    }\n",
              "    60% {\n",
              "      border-color: transparent;\n",
              "      border-right-color: var(--fill-color);\n",
              "    }\n",
              "    80% {\n",
              "      border-color: transparent;\n",
              "      border-right-color: var(--fill-color);\n",
              "      border-bottom-color: var(--fill-color);\n",
              "    }\n",
              "    90% {\n",
              "      border-color: transparent;\n",
              "      border-bottom-color: var(--fill-color);\n",
              "    }\n",
              "  }\n",
              "</style>\n",
              "\n",
              "  <script>\n",
              "    async function quickchart(key) {\n",
              "      const quickchartButtonEl =\n",
              "        document.querySelector('#' + key + ' button');\n",
              "      quickchartButtonEl.disabled = true;  // To prevent multiple clicks.\n",
              "      quickchartButtonEl.classList.add('colab-df-spinner');\n",
              "      try {\n",
              "        const charts = await google.colab.kernel.invokeFunction(\n",
              "            'suggestCharts', [key], {});\n",
              "      } catch (error) {\n",
              "        console.error('Error during call to suggestCharts:', error);\n",
              "      }\n",
              "      quickchartButtonEl.classList.remove('colab-df-spinner');\n",
              "      quickchartButtonEl.classList.add('colab-df-quickchart-complete');\n",
              "    }\n",
              "    (() => {\n",
              "      let quickchartButtonEl =\n",
              "        document.querySelector('#df-ce193203-30d3-4c98-8d14-3f85bdbbafdb button');\n",
              "      quickchartButtonEl.style.display =\n",
              "        google.colab.kernel.accessAllowed ? 'block' : 'none';\n",
              "    })();\n",
              "  </script>\n",
              "</div>\n",
              "    </div>\n",
              "  </div>\n"
            ],
            "application/vnd.google.colaboratory.intrinsic+json": {
              "type": "dataframe"
            }
          },
          "metadata": {},
          "execution_count": 29
        }
      ]
    },
    {
      "cell_type": "markdown",
      "source": [
        "# Начальная форма"
      ],
      "metadata": {
        "id": "r96EXnzDvFrj"
      }
    },
    {
      "cell_type": "code",
      "source": [
        "for lang, node_df_lang in node_df_dict.items():\n",
        "  print(lang, f\"{len(set(node_df_dict[lang]['lemma'])) / len(node_df_dict[lang]):.2f}\")"
      ],
      "metadata": {
        "colab": {
          "base_uri": "https://localhost:8080/"
        },
        "id": "LXFWbptuvGX6",
        "outputId": "f56431f3-bdeb-4074-a8fe-aff5b52a2e7f"
      },
      "execution_count": 30,
      "outputs": [
        {
          "output_type": "stream",
          "name": "stdout",
          "text": [
            "rus 0.04\n",
            "eng 0.07\n",
            "chi 0.16\n"
          ]
        }
      ]
    },
    {
      "cell_type": "markdown",
      "source": [
        "# Часть речи"
      ],
      "metadata": {
        "id": "MQC9EIBYEmC3"
      }
    },
    {
      "cell_type": "code",
      "source": [
        "from matplotlib_venn import venn3_unweighted, venn3_circles\n",
        "\n",
        "pos_set = [set(node_df_dict[lang]['pos']) for lang in languages]\n",
        "\n",
        "venn3_unweighted(pos_set,\n",
        "      set_colors=('#ffffff', '#ffffff', '#ffffff'),\n",
        "      set_labels = [lang_russian_title[lang] for lang in languages],\n",
        "      alpha=0.75)\n",
        "venn3_circles((1,1,1,1,1,1,1), lw=0.7)\n",
        "\n",
        "plt.show()"
      ],
      "metadata": {
        "colab": {
          "base_uri": "https://localhost:8080/",
          "height": 428
        },
        "id": "ablA1Lag5M8T",
        "outputId": "c6ac6413-b72b-4a40-ca32-1ef64bc56c48"
      },
      "execution_count": 31,
      "outputs": [
        {
          "output_type": "display_data",
          "data": {
            "text/plain": [
              "<Figure size 640x480 with 1 Axes>"
            ],
            "image/png": "[encoded data removed]"
          },
          "metadata": {}
        }
      ]
    },
    {
      "cell_type": "code",
      "source": [
        "(set(node_df_dict['rus']['pos']) & set(node_df_dict['eng']['pos'])) - set(node_df_dict['chi']['pos'])"
      ],
      "metadata": {
        "colab": {
          "base_uri": "https://localhost:8080/"
        },
        "id": "dXKyqHpAFOKz",
        "outputId": "00379efa-d162-4d9e-f2ac-9974205636bc"
      },
      "execution_count": 32,
      "outputs": [
        {
          "output_type": "execute_result",
          "data": {
            "text/plain": [
              "{'INTJ'}"
            ]
          },
          "metadata": {},
          "execution_count": 32
        }
      ]
    },
    {
      "cell_type": "code",
      "source": [
        "relative_pos_rate = {}\n",
        "for lang, node_df in node_df_dict.items():\n",
        "  node_amount = len(node_df)\n",
        "  relative_pos_rate[lang] = {i: j / node_amount for i, j in node_df.groupby('pos').size().items()}"
      ],
      "metadata": {
        "id": "sB8q1Rri5EBz"
      },
      "execution_count": 33,
      "outputs": []
    },
    {
      "cell_type": "code",
      "source": [
        "pos_df_list = []\n",
        "pos_rows = []\n",
        "for pos in relative_pos_rate['rus']:\n",
        "  pos_df_list.append([relative_pos_rate[lang].get(pos, 0) for lang in languages])\n",
        "  pos_rows.append(pos)\n",
        "pos_df = pd.DataFrame(pos_df_list, pos_rows, languages)"
      ],
      "metadata": {
        "id": "zDX72PGfFNmo"
      },
      "execution_count": 34,
      "outputs": []
    },
    {
      "cell_type": "code",
      "source": [
        "pos_df.round(4)"
      ],
      "metadata": {
        "colab": {
          "base_uri": "https://localhost:8080/",
          "height": 603
        },
        "id": "zDT8UmqcInxa",
        "outputId": "db005e41-fef7-4168-e653-dc8c945744c7"
      },
      "execution_count": 35,
      "outputs": [
        {
          "output_type": "execute_result",
          "data": {
            "text/plain": [
              "          rus     eng     chi\n",
              "ADJ    0.0965  0.0660  0.0246\n",
              "ADP    0.0928  0.0858  0.0457\n",
              "ADV    0.0504  0.0491  0.0250\n",
              "AUX    0.0091  0.0625  0.0316\n",
              "CCONJ  0.0360  0.0321  0.0141\n",
              "DET    0.0272  0.0789  0.0108\n",
              "INTJ   0.0002  0.0037  0.0000\n",
              "NOUN   0.2380  0.1692  0.2761\n",
              "NUM    0.0125  0.0198  0.0540\n",
              "PART   0.0328  0.0277  0.0802\n",
              "PRON   0.0483  0.0904  0.0144\n",
              "PROPN  0.0367  0.0651  0.0871\n",
              "PUNCT  0.1845  0.1168  0.1384\n",
              "SCONJ  0.0188  0.0181  0.0422\n",
              "SYM    0.0008  0.0036  0.0003\n",
              "VERB   0.1147  0.1095  0.1478\n",
              "X      0.0007  0.0018  0.0078"
            ],
            "text/html": [
              "\n",
              "  <div id=\"df-26133642-4f3d-438a-a3de-874a05e11ec1\" class=\"colab-df-container\">\n",
              "    <div>\n",
              "<style scoped>\n",
              "    .dataframe tbody tr th:only-of-type {\n",
              "        vertical-align: middle;\n",
              "    }\n",
              "\n",
              "    .dataframe tbody tr th {\n",
              "        vertical-align: top;\n",
              "    }\n",
              "\n",
              "    .dataframe thead th {\n",
              "        text-align: right;\n",
              "    }\n",
              "</style>\n",
              "<table border=\"1\" class=\"dataframe\">\n",
              "  <thead>\n",
              "    <tr style=\"text-align: right;\">\n",
              "      <th></th>\n",
              "      <th>rus</th>\n",
              "      <th>eng</th>\n",
              "      <th>chi</th>\n",
              "    </tr>\n",
              "  </thead>\n",
              "  <tbody>\n",
              "    <tr>\n",
              "      <th>ADJ</th>\n",
              "      <td>0.0965</td>\n",
              "      <td>0.0660</td>\n",
              "      <td>0.0246</td>\n",
              "    </tr>\n",
              "    <tr>\n",
              "      <th>ADP</th>\n",
              "      <td>0.0928</td>\n",
              "      <td>0.0858</td>\n",
              "      <td>0.0457</td>\n",
              "    </tr>\n",
              "    <tr>\n",
              "      <th>ADV</th>\n",
              "      <td>0.0504</td>\n",
              "      <td>0.0491</td>\n",
              "      <td>0.0250</td>\n",
              "    </tr>\n",
              "    <tr>\n",
              "      <th>AUX</th>\n",
              "      <td>0.0091</td>\n",
              "      <td>0.0625</td>\n",
              "      <td>0.0316</td>\n",
              "    </tr>\n",
              "    <tr>\n",
              "      <th>CCONJ</th>\n",
              "      <td>0.0360</td>\n",
              "      <td>0.0321</td>\n",
              "      <td>0.0141</td>\n",
              "    </tr>\n",
              "    <tr>\n",
              "      <th>DET</th>\n",
              "      <td>0.0272</td>\n",
              "      <td>0.0789</td>\n",
              "      <td>0.0108</td>\n",
              "    </tr>\n",
              "    <tr>\n",
              "      <th>INTJ</th>\n",
              "      <td>0.0002</td>\n",
              "      <td>0.0037</td>\n",
              "      <td>0.0000</td>\n",
              "    </tr>\n",
              "    <tr>\n",
              "      <th>NOUN</th>\n",
              "      <td>0.2380</td>\n",
              "      <td>0.1692</td>\n",
              "      <td>0.2761</td>\n",
              "    </tr>\n",
              "    <tr>\n",
              "      <th>NUM</th>\n",
              "      <td>0.0125</td>\n",
              "      <td>0.0198</td>\n",
              "      <td>0.0540</td>\n",
              "    </tr>\n",
              "    <tr>\n",
              "      <th>PART</th>\n",
              "      <td>0.0328</td>\n",
              "      <td>0.0277</td>\n",
              "      <td>0.0802</td>\n",
              "    </tr>\n",
              "    <tr>\n",
              "      <th>PRON</th>\n",
              "      <td>0.0483</td>\n",
              "      <td>0.0904</td>\n",
              "      <td>0.0144</td>\n",
              "    </tr>\n",
              "    <tr>\n",
              "      <th>PROPN</th>\n",
              "      <td>0.0367</td>\n",
              "      <td>0.0651</td>\n",
              "      <td>0.0871</td>\n",
              "    </tr>\n",
              "    <tr>\n",
              "      <th>PUNCT</th>\n",
              "      <td>0.1845</td>\n",
              "      <td>0.1168</td>\n",
              "      <td>0.1384</td>\n",
              "    </tr>\n",
              "    <tr>\n",
              "      <th>SCONJ</th>\n",
              "      <td>0.0188</td>\n",
              "      <td>0.0181</td>\n",
              "      <td>0.0422</td>\n",
              "    </tr>\n",
              "    <tr>\n",
              "      <th>SYM</th>\n",
              "      <td>0.0008</td>\n",
              "      <td>0.0036</td>\n",
              "      <td>0.0003</td>\n",
              "    </tr>\n",
              "    <tr>\n",
              "      <th>VERB</th>\n",
              "      <td>0.1147</td>\n",
              "      <td>0.1095</td>\n",
              "      <td>0.1478</td>\n",
              "    </tr>\n",
              "    <tr>\n",
              "      <th>X</th>\n",
              "      <td>0.0007</td>\n",
              "      <td>0.0018</td>\n",
              "      <td>0.0078</td>\n",
              "    </tr>\n",
              "  </tbody>\n",
              "</table>\n",
              "</div>\n",
              "    <div class=\"colab-df-buttons\">\n",
              "\n",
              "  <div class=\"colab-df-container\">\n",
              "    <button class=\"colab-df-convert\" onclick=\"convertToInteractive('df-26133642-4f3d-438a-a3de-874a05e11ec1')\"\n",
              "            title=\"Convert this dataframe to an interactive table.\"\n",
              "            style=\"display:none;\">\n",
              "\n",
              "  <svg xmlns=\"http://www.w3.org/2000/svg\" height=\"24px\" viewBox=\"0 -960 960 960\">\n",
              "    <path d=\"M120-120v-720h720v720H120Zm60-500h600v-160H180v160Zm220 220h160v-160H400v160Zm0 220h160v-160H400v160ZM180-400h160v-160H180v160Zm440 0h160v-160H620v160ZM180-180h160v-160H180v160Zm440 0h160v-160H620v160Z\"/>\n",
              "  </svg>\n",
              "    </button>\n",
              "\n",
              "  <style>\n",
              "    .colab-df-container {\n",
              "      display:flex;\n",
              "      gap: 12px;\n",
              "    }\n",
              "\n",
              "    .colab-df-convert {\n",
              "      background-color: #E8F0FE;\n",
              "      border: none;\n",
              "      border-radius: 50%;\n",
              "      cursor: pointer;\n",
              "      display: none;\n",
              "      fill: #1967D2;\n",
              "      height: 32px;\n",
              "      padding: 0 0 0 0;\n",
              "      width: 32px;\n",
              "    }\n",
              "\n",
              "    .colab-df-convert:hover {\n",
              "      background-color: #E2EBFA;\n",
              "      box-shadow: 0px 1px 2px rgba(60, 64, 67, 0.3), 0px 1px 3px 1px rgba(60, 64, 67, 0.15);\n",
              "      fill: #174EA6;\n",
              "    }\n",
              "\n",
              "    .colab-df-buttons div {\n",
              "      margin-bottom: 4px;\n",
              "    }\n",
              "\n",
              "    [theme=dark] .colab-df-convert {\n",
              "      background-color: #3B4455;\n",
              "      fill: #D2E3FC;\n",
              "    }\n",
              "\n",
              "    [theme=dark] .colab-df-convert:hover {\n",
              "      background-color: #434B5C;\n",
              "      box-shadow: 0px 1px 3px 1px rgba(0, 0, 0, 0.15);\n",
              "      filter: drop-shadow(0px 1px 2px rgba(0, 0, 0, 0.3));\n",
              "      fill: #FFFFFF;\n",
              "    }\n",
              "  </style>\n",
              "\n",
              "    <script>\n",
              "      const buttonEl =\n",
              "        document.querySelector('#df-26133642-4f3d-438a-a3de-874a05e11ec1 button.colab-df-convert');\n",
              "      buttonEl.style.display =\n",
              "        google.colab.kernel.accessAllowed ? 'block' : 'none';\n",
              "\n",
              "      async function convertToInteractive(key) {\n",
              "        const element = document.querySelector('#df-26133642-4f3d-438a-a3de-874a05e11ec1');\n",
              "        const dataTable =\n",
              "          await google.colab.kernel.invokeFunction('convertToInteractive',\n",
              "                                                    [key], {});\n",
              "        if (!dataTable) return;\n",
              "\n",
              "        const docLinkHtml = 'Like what you see? Visit the ' +\n",
              "          '<a target=\"_blank\" href=https://colab.research.google.com/notebooks/data_table.ipynb>data table notebook</a>'\n",
              "          + ' to learn more about interactive tables.';\n",
              "        element.innerHTML = '';\n",
              "        dataTable['output_type'] = 'display_data';\n",
              "        await google.colab.output.renderOutput(dataTable, element);\n",
              "        const docLink = document.createElement('div');\n",
              "        docLink.innerHTML = docLinkHtml;\n",
              "        element.appendChild(docLink);\n",
              "      }\n",
              "    </script>\n",
              "  </div>\n",
              "\n",
              "\n",
              "<div id=\"df-79ba6caf-8871-4f92-9760-55180436a623\">\n",
              "  <button class=\"colab-df-quickchart\" onclick=\"quickchart('df-79ba6caf-8871-4f92-9760-55180436a623')\"\n",
              "            title=\"Suggest charts\"\n",
              "            style=\"display:none;\">\n",
              "\n",
              "<svg xmlns=\"http://www.w3.org/2000/svg\" height=\"24px\"viewBox=\"0 0 24 24\"\n",
              "     width=\"24px\">\n",
              "    <g>\n",
              "        <path d=\"M19 3H5c-1.1 0-2 .9-2 2v14c0 1.1.9 2 2 2h14c1.1 0 2-.9 2-2V5c0-1.1-.9-2-2-2zM9 17H7v-7h2v7zm4 0h-2V7h2v10zm4 0h-2v-4h2v4z\"/>\n",
              "    </g>\n",
              "</svg>\n",
              "  </button>\n",
              "\n",
              "<style>\n",
              "  .colab-df-quickchart {\n",
              "      --bg-color: #E8F0FE;\n",
              "      --fill-color: #1967D2;\n",
              "      --hover-bg-color: #E2EBFA;\n",
              "      --hover-fill-color: #174EA6;\n",
              "      --disabled-fill-color: #AAA;\n",
              "      --disabled-bg-color: #DDD;\n",
              "  }\n",
              "\n",
              "  [theme=dark] .colab-df-quickchart {\n",
              "      --bg-color: #3B4455;\n",
              "      --fill-color: #D2E3FC;\n",
              "      --hover-bg-color: #434B5C;\n",
              "      --hover-fill-color: #FFFFFF;\n",
              "      --disabled-bg-color: #3B4455;\n",
              "      --disabled-fill-color: #666;\n",
              "  }\n",
              "\n",
              "  .colab-df-quickchart {\n",
              "    background-color: var(--bg-color);\n",
              "    border: none;\n",
              "    border-radius: 50%;\n",
              "    cursor: pointer;\n",
              "    display: none;\n",
              "    fill: var(--fill-color);\n",
              "    height: 32px;\n",
              "    padding: 0;\n",
              "    width: 32px;\n",
              "  }\n",
              "\n",
              "  .colab-df-quickchart:hover {\n",
              "    background-color: var(--hover-bg-color);\n",
              "    box-shadow: 0 1px 2px rgba(60, 64, 67, 0.3), 0 1px 3px 1px rgba(60, 64, 67, 0.15);\n",
              "    fill: var(--button-hover-fill-color);\n",
              "  }\n",
              "\n",
              "  .colab-df-quickchart-complete:disabled,\n",
              "  .colab-df-quickchart-complete:disabled:hover {\n",
              "    background-color: var(--disabled-bg-color);\n",
              "    fill: var(--disabled-fill-color);\n",
              "    box-shadow: none;\n",
              "  }\n",
              "\n",
              "  .colab-df-spinner {\n",
              "    border: 2px solid var(--fill-color);\n",
              "    border-color: transparent;\n",
              "    border-bottom-color: var(--fill-color);\n",
              "    animation:\n",
              "      spin 1s steps(1) infinite;\n",
              "  }\n",
              "\n",
              "  @keyframes spin {\n",
              "    0% {\n",
              "      border-color: transparent;\n",
              "      border-bottom-color: var(--fill-color);\n",
              "      border-left-color: var(--fill-color);\n",
              "    }\n",
              "    20% {\n",
              "      border-color: transparent;\n",
              "      border-left-color: var(--fill-color);\n",
              "      border-top-color: var(--fill-color);\n",
              "    }\n",
              "    30% {\n",
              "      border-color: transparent;\n",
              "      border-left-color: var(--fill-color);\n",
              "      border-top-color: var(--fill-color);\n",
              "      border-right-color: var(--fill-color);\n",
              "    }\n",
              "    40% {\n",
              "      border-color: transparent;\n",
              "      border-right-color: var(--fill-color);\n",
              "      border-top-color: var(--fill-color);\n",
              "    }\n",
              "    60% {\n",
              "      border-color: transparent;\n",
              "      border-right-color: var(--fill-color);\n",
              "    }\n",
              "    80% {\n",
              "      border-color: transparent;\n",
              "      border-right-color: var(--fill-color);\n",
              "      border-bottom-color: var(--fill-color);\n",
              "    }\n",
              "    90% {\n",
              "      border-color: transparent;\n",
              "      border-bottom-color: var(--fill-color);\n",
              "    }\n",
              "  }\n",
              "</style>\n",
              "\n",
              "  <script>\n",
              "    async function quickchart(key) {\n",
              "      const quickchartButtonEl =\n",
              "        document.querySelector('#' + key + ' button');\n",
              "      quickchartButtonEl.disabled = true;  // To prevent multiple clicks.\n",
              "      quickchartButtonEl.classList.add('colab-df-spinner');\n",
              "      try {\n",
              "        const charts = await google.colab.kernel.invokeFunction(\n",
              "            'suggestCharts', [key], {});\n",
              "      } catch (error) {\n",
              "        console.error('Error during call to suggestCharts:', error);\n",
              "      }\n",
              "      quickchartButtonEl.classList.remove('colab-df-spinner');\n",
              "      quickchartButtonEl.classList.add('colab-df-quickchart-complete');\n",
              "    }\n",
              "    (() => {\n",
              "      let quickchartButtonEl =\n",
              "        document.querySelector('#df-79ba6caf-8871-4f92-9760-55180436a623 button');\n",
              "      quickchartButtonEl.style.display =\n",
              "        google.colab.kernel.accessAllowed ? 'block' : 'none';\n",
              "    })();\n",
              "  </script>\n",
              "</div>\n",
              "    </div>\n",
              "  </div>\n"
            ],
            "application/vnd.google.colaboratory.intrinsic+json": {
              "type": "dataframe",
              "summary": "{\n  \"name\": \"pos_df\",\n  \"rows\": 17,\n  \"fields\": [\n    {\n      \"column\": \"rus\",\n      \"properties\": {\n        \"dtype\": \"number\",\n        \"std\": 0.06748434567931073,\n        \"min\": 0.0002,\n        \"max\": 0.238,\n        \"num_unique_values\": 17,\n        \"samples\": [\n          0.0965,\n          0.0928,\n          0.0272\n        ],\n        \"semantic_type\": \"\",\n        \"description\": \"\"\n      }\n    },\n    {\n      \"column\": \"eng\",\n      \"properties\": {\n        \"dtype\": \"number\",\n        \"std\": 0.04653167959446932,\n        \"min\": 0.0018,\n        \"max\": 0.1692,\n        \"num_unique_values\": 17,\n        \"samples\": [\n          0.066,\n          0.0858,\n          0.0789\n        ],\n        \"semantic_type\": \"\",\n        \"description\": \"\"\n      }\n    },\n    {\n      \"column\": \"chi\",\n      \"properties\": {\n        \"dtype\": \"number\",\n        \"std\": 0.0715941492433729,\n        \"min\": 0.0,\n        \"max\": 0.2761,\n        \"num_unique_values\": 17,\n        \"samples\": [\n          0.0246,\n          0.0457,\n          0.0108\n        ],\n        \"semantic_type\": \"\",\n        \"description\": \"\"\n      }\n    }\n  ]\n}"
            }
          },
          "metadata": {},
          "execution_count": 35
        }
      ]
    },
    {
      "cell_type": "code",
      "source": [
        "for lang in languages:\n",
        "    print(lang)\n",
        "    print(pos_df[lang].sort_values(ascending=False)[:5].round(2))"
      ],
      "metadata": {
        "colab": {
          "base_uri": "https://localhost:8080/"
        },
        "id": "y45YlECDKSKZ",
        "outputId": "8f83cbfb-17bf-49f4-a52a-0350b6f0ff24"
      },
      "execution_count": 36,
      "outputs": [
        {
          "output_type": "stream",
          "name": "stdout",
          "text": [
            "rus\n",
            "NOUN     0.24\n",
            "PUNCT    0.18\n",
            "VERB     0.11\n",
            "ADJ      0.10\n",
            "ADP      0.09\n",
            "Name: rus, dtype: float64\n",
            "eng\n",
            "NOUN     0.17\n",
            "PUNCT    0.12\n",
            "VERB     0.11\n",
            "PRON     0.09\n",
            "ADP      0.09\n",
            "Name: eng, dtype: float64\n",
            "chi\n",
            "NOUN     0.28\n",
            "VERB     0.15\n",
            "PUNCT    0.14\n",
            "PROPN    0.09\n",
            "PART     0.08\n",
            "Name: chi, dtype: float64\n"
          ]
        }
      ]
    },
    {
      "cell_type": "markdown",
      "source": [
        "# Тип связи"
      ],
      "metadata": {
        "id": "8-JcOKtBE1sC"
      }
    },
    {
      "cell_type": "code",
      "source": [
        "for lang in languages:\n",
        "  print(lang, len(set(node_df_dict[lang]['relation'])))"
      ],
      "metadata": {
        "colab": {
          "base_uri": "https://localhost:8080/"
        },
        "id": "ZSbCu2wpNXQd",
        "outputId": "0d127455-8928-46f7-a159-cc31f9d8c668"
      },
      "execution_count": 37,
      "outputs": [
        {
          "output_type": "stream",
          "name": "stdout",
          "text": [
            "rus 45\n",
            "eng 52\n",
            "chi 43\n"
          ]
        }
      ]
    },
    {
      "cell_type": "code",
      "source": [
        "from matplotlib_venn import venn3_unweighted, venn3_circles\n",
        "\n",
        "relations_set = [set(node_df_dict[lang]['relation']) for lang in languages]\n",
        "\n",
        "venn3_unweighted(relations_set,\n",
        "      set_colors=('#ffffff', '#ffffff', '#ffffff'),\n",
        "      set_labels = [lang_russian_title[lang] for lang in languages],\n",
        "      alpha=0.75)\n",
        "venn3_circles((1,1,1,1,1,1,1), lw=0.7)\n",
        "\n",
        "plt.show()"
      ],
      "metadata": {
        "colab": {
          "base_uri": "https://localhost:8080/",
          "height": 428
        },
        "id": "XCQ2Q48WE8mQ",
        "outputId": "53e948ee-84df-4e99-91dc-543e7c4f064d"
      },
      "execution_count": 38,
      "outputs": [
        {
          "output_type": "display_data",
          "data": {
            "text/plain": [
              "<Figure size 640x480 with 1 Axes>"
            ],
            "image/png": "[encoded data removed]"
          },
          "metadata": {}
        }
      ]
    },
    {
      "cell_type": "code",
      "source": [
        "relative_relation_rate = {}\n",
        "for lang, node_df in node_df_dict.items():\n",
        "  node_amount = len(node_df)\n",
        "  relative_relation_rate[lang] = {i: (j / node_amount) for i, j in node_df.groupby('relation').size().items()}"
      ],
      "metadata": {
        "id": "S_ukSo3bMOV1"
      },
      "execution_count": 39,
      "outputs": []
    },
    {
      "cell_type": "code",
      "source": [
        "relation_set = {r for lang in languages for r in relative_relation_rate[lang]}"
      ],
      "metadata": {
        "id": "vYnGixB0Mgnp"
      },
      "execution_count": 40,
      "outputs": []
    },
    {
      "cell_type": "code",
      "source": [
        "relation_df_list = []\n",
        "relation_rows = list(relation_set)\n",
        "for relation in relation_rows:\n",
        "  relation_df_list.append([relative_relation_rate[lang].get(relation) for lang in languages])\n",
        "relation_df = pd.DataFrame(relation_df_list, relation_rows, languages)"
      ],
      "metadata": {
        "id": "gXQB6XVcMXTH"
      },
      "execution_count": 41,
      "outputs": []
    },
    {
      "cell_type": "code",
      "source": [
        "for lang in languages:\n",
        "    print(lang)\n",
        "    print(relation_df[lang].sort_values(ascending=False)[:5].round(2))"
      ],
      "metadata": {
        "colab": {
          "base_uri": "https://localhost:8080/"
        },
        "id": "OSneZBipMOYf",
        "outputId": "42cff444-a3fa-4d12-d709-e5c71bb840a6"
      },
      "execution_count": 42,
      "outputs": [
        {
          "output_type": "stream",
          "name": "stdout",
          "text": [
            "rus\n",
            "punct    0.18\n",
            "case     0.09\n",
            "nmod     0.08\n",
            "obl      0.08\n",
            "amod     0.08\n",
            "Name: rus, dtype: float64\n",
            "eng\n",
            "punct    0.12\n",
            "case     0.08\n",
            "nsubj    0.08\n",
            "det      0.08\n",
            "root     0.07\n",
            "Name: eng, dtype: float64\n",
            "chi\n",
            "punct    0.14\n",
            "nmod     0.13\n",
            "nsubj    0.08\n",
            "case     0.07\n",
            "obj      0.06\n",
            "Name: chi, dtype: float64\n"
          ]
        }
      ]
    },
    {
      "cell_type": "code",
      "source": [
        "[relation_df[lang] > 0.001 for lang in languages][0]"
      ],
      "metadata": {
        "colab": {
          "base_uri": "https://localhost:8080/"
        },
        "id": "dcrRprVvZsa8",
        "outputId": "7ec65216-7475-4632-fc8e-872a09e763a9"
      },
      "execution_count": 43,
      "outputs": [
        {
          "output_type": "execute_result",
          "data": {
            "text/plain": [
              "obl:tmod        False\n",
              "compound         True\n",
              "flat:name        True\n",
              "nmod:npmod      False\n",
              "csubj            True\n",
              "                ...  \n",
              "aux:pass         True\n",
              "compound:ext    False\n",
              "nsubj            True\n",
              "mark             True\n",
              "det              True\n",
              "Name: rus, Length: 63, dtype: bool"
            ]
          },
          "metadata": {},
          "execution_count": 43
        }
      ]
    },
    {
      "cell_type": "code",
      "source": [
        "relation_df[((relation_df['rus'] > 0.05) | (relation_df['eng'] > 0.05) | (relation_df['chi'] > 0.05))].round(3)"
      ],
      "metadata": {
        "colab": {
          "base_uri": "https://localhost:8080/",
          "height": 414
        },
        "id": "o0uk6B-MZfOt",
        "outputId": "2f384596-b325-45d3-fc7e-27fafe751b9a"
      },
      "execution_count": 44,
      "outputs": [
        {
          "output_type": "execute_result",
          "data": {
            "text/plain": [
              "          rus    eng    chi\n",
              "case    0.092  0.084  0.074\n",
              "punct   0.184  0.116  0.138\n",
              "root    0.058  0.065  0.041\n",
              "amod    0.080  0.048  0.017\n",
              "nmod    0.082  0.033  0.132\n",
              "nummod  0.006  0.012  0.051\n",
              "obl     0.081  0.042  0.027\n",
              "advmod  0.064  0.055  0.026\n",
              "obj     0.033  0.048  0.063\n",
              "nsubj   0.068  0.078  0.076\n",
              "det     0.025  0.076  0.012"
            ],
            "text/html": [
              "\n",
              "  <div id=\"df-c53b599d-6e46-4b24-9748-500999695517\" class=\"colab-df-container\">\n",
              "    <div>\n",
              "<style scoped>\n",
              "    .dataframe tbody tr th:only-of-type {\n",
              "        vertical-align: middle;\n",
              "    }\n",
              "\n",
              "    .dataframe tbody tr th {\n",
              "        vertical-align: top;\n",
              "    }\n",
              "\n",
              "    .dataframe thead th {\n",
              "        text-align: right;\n",
              "    }\n",
              "</style>\n",
              "<table border=\"1\" class=\"dataframe\">\n",
              "  <thead>\n",
              "    <tr style=\"text-align: right;\">\n",
              "      <th></th>\n",
              "      <th>rus</th>\n",
              "      <th>eng</th>\n",
              "      <th>chi</th>\n",
              "    </tr>\n",
              "  </thead>\n",
              "  <tbody>\n",
              "    <tr>\n",
              "      <th>case</th>\n",
              "      <td>0.092</td>\n",
              "      <td>0.084</td>\n",
              "      <td>0.074</td>\n",
              "    </tr>\n",
              "    <tr>\n",
              "      <th>punct</th>\n",
              "      <td>0.184</td>\n",
              "      <td>0.116</td>\n",
              "      <td>0.138</td>\n",
              "    </tr>\n",
              "    <tr>\n",
              "      <th>root</th>\n",
              "      <td>0.058</td>\n",
              "      <td>0.065</td>\n",
              "      <td>0.041</td>\n",
              "    </tr>\n",
              "    <tr>\n",
              "      <th>amod</th>\n",
              "      <td>0.080</td>\n",
              "      <td>0.048</td>\n",
              "      <td>0.017</td>\n",
              "    </tr>\n",
              "    <tr>\n",
              "      <th>nmod</th>\n",
              "      <td>0.082</td>\n",
              "      <td>0.033</td>\n",
              "      <td>0.132</td>\n",
              "    </tr>\n",
              "    <tr>\n",
              "      <th>nummod</th>\n",
              "      <td>0.006</td>\n",
              "      <td>0.012</td>\n",
              "      <td>0.051</td>\n",
              "    </tr>\n",
              "    <tr>\n",
              "      <th>obl</th>\n",
              "      <td>0.081</td>\n",
              "      <td>0.042</td>\n",
              "      <td>0.027</td>\n",
              "    </tr>\n",
              "    <tr>\n",
              "      <th>advmod</th>\n",
              "      <td>0.064</td>\n",
              "      <td>0.055</td>\n",
              "      <td>0.026</td>\n",
              "    </tr>\n",
              "    <tr>\n",
              "      <th>obj</th>\n",
              "      <td>0.033</td>\n",
              "      <td>0.048</td>\n",
              "      <td>0.063</td>\n",
              "    </tr>\n",
              "    <tr>\n",
              "      <th>nsubj</th>\n",
              "      <td>0.068</td>\n",
              "      <td>0.078</td>\n",
              "      <td>0.076</td>\n",
              "    </tr>\n",
              "    <tr>\n",
              "      <th>det</th>\n",
              "      <td>0.025</td>\n",
              "      <td>0.076</td>\n",
              "      <td>0.012</td>\n",
              "    </tr>\n",
              "  </tbody>\n",
              "</table>\n",
              "</div>\n",
              "    <div class=\"colab-df-buttons\">\n",
              "\n",
              "  <div class=\"colab-df-container\">\n",
              "    <button class=\"colab-df-convert\" onclick=\"convertToInteractive('df-c53b599d-6e46-4b24-9748-500999695517')\"\n",
              "            title=\"Convert this dataframe to an interactive table.\"\n",
              "            style=\"display:none;\">\n",
              "\n",
              "  <svg xmlns=\"http://www.w3.org/2000/svg\" height=\"24px\" viewBox=\"0 -960 960 960\">\n",
              "    <path d=\"M120-120v-720h720v720H120Zm60-500h600v-160H180v160Zm220 220h160v-160H400v160Zm0 220h160v-160H400v160ZM180-400h160v-160H180v160Zm440 0h160v-160H620v160ZM180-180h160v-160H180v160Zm440 0h160v-160H620v160Z\"/>\n",
              "  </svg>\n",
              "    </button>\n",
              "\n",
              "  <style>\n",
              "    .colab-df-container {\n",
              "      display:flex;\n",
              "      gap: 12px;\n",
              "    }\n",
              "\n",
              "    .colab-df-convert {\n",
              "      background-color: #E8F0FE;\n",
              "      border: none;\n",
              "      border-radius: 50%;\n",
              "      cursor: pointer;\n",
              "      display: none;\n",
              "      fill: #1967D2;\n",
              "      height: 32px;\n",
              "      padding: 0 0 0 0;\n",
              "      width: 32px;\n",
              "    }\n",
              "\n",
              "    .colab-df-convert:hover {\n",
              "      background-color: #E2EBFA;\n",
              "      box-shadow: 0px 1px 2px rgba(60, 64, 67, 0.3), 0px 1px 3px 1px rgba(60, 64, 67, 0.15);\n",
              "      fill: #174EA6;\n",
              "    }\n",
              "\n",
              "    .colab-df-buttons div {\n",
              "      margin-bottom: 4px;\n",
              "    }\n",
              "\n",
              "    [theme=dark] .colab-df-convert {\n",
              "      background-color: #3B4455;\n",
              "      fill: #D2E3FC;\n",
              "    }\n",
              "\n",
              "    [theme=dark] .colab-df-convert:hover {\n",
              "      background-color: #434B5C;\n",
              "      box-shadow: 0px 1px 3px 1px rgba(0, 0, 0, 0.15);\n",
              "      filter: drop-shadow(0px 1px 2px rgba(0, 0, 0, 0.3));\n",
              "      fill: #FFFFFF;\n",
              "    }\n",
              "  </style>\n",
              "\n",
              "    <script>\n",
              "      const buttonEl =\n",
              "        document.querySelector('#df-c53b599d-6e46-4b24-9748-500999695517 button.colab-df-convert');\n",
              "      buttonEl.style.display =\n",
              "        google.colab.kernel.accessAllowed ? 'block' : 'none';\n",
              "\n",
              "      async function convertToInteractive(key) {\n",
              "        const element = document.querySelector('#df-c53b599d-6e46-4b24-9748-500999695517');\n",
              "        const dataTable =\n",
              "          await google.colab.kernel.invokeFunction('convertToInteractive',\n",
              "                                                    [key], {});\n",
              "        if (!dataTable) return;\n",
              "\n",
              "        const docLinkHtml = 'Like what you see? Visit the ' +\n",
              "          '<a target=\"_blank\" href=https://colab.research.google.com/notebooks/data_table.ipynb>data table notebook</a>'\n",
              "          + ' to learn more about interactive tables.';\n",
              "        element.innerHTML = '';\n",
              "        dataTable['output_type'] = 'display_data';\n",
              "        await google.colab.output.renderOutput(dataTable, element);\n",
              "        const docLink = document.createElement('div');\n",
              "        docLink.innerHTML = docLinkHtml;\n",
              "        element.appendChild(docLink);\n",
              "      }\n",
              "    </script>\n",
              "  </div>\n",
              "\n",
              "\n",
              "<div id=\"df-28e62eeb-4658-429d-afed-2ec19971f403\">\n",
              "  <button class=\"colab-df-quickchart\" onclick=\"quickchart('df-28e62eeb-4658-429d-afed-2ec19971f403')\"\n",
              "            title=\"Suggest charts\"\n",
              "            style=\"display:none;\">\n",
              "\n",
              "<svg xmlns=\"http://www.w3.org/2000/svg\" height=\"24px\"viewBox=\"0 0 24 24\"\n",
              "     width=\"24px\">\n",
              "    <g>\n",
              "        <path d=\"M19 3H5c-1.1 0-2 .9-2 2v14c0 1.1.9 2 2 2h14c1.1 0 2-.9 2-2V5c0-1.1-.9-2-2-2zM9 17H7v-7h2v7zm4 0h-2V7h2v10zm4 0h-2v-4h2v4z\"/>\n",
              "    </g>\n",
              "</svg>\n",
              "  </button>\n",
              "\n",
              "<style>\n",
              "  .colab-df-quickchart {\n",
              "      --bg-color: #E8F0FE;\n",
              "      --fill-color: #1967D2;\n",
              "      --hover-bg-color: #E2EBFA;\n",
              "      --hover-fill-color: #174EA6;\n",
              "      --disabled-fill-color: #AAA;\n",
              "      --disabled-bg-color: #DDD;\n",
              "  }\n",
              "\n",
              "  [theme=dark] .colab-df-quickchart {\n",
              "      --bg-color: #3B4455;\n",
              "      --fill-color: #D2E3FC;\n",
              "      --hover-bg-color: #434B5C;\n",
              "      --hover-fill-color: #FFFFFF;\n",
              "      --disabled-bg-color: #3B4455;\n",
              "      --disabled-fill-color: #666;\n",
              "  }\n",
              "\n",
              "  .colab-df-quickchart {\n",
              "    background-color: var(--bg-color);\n",
              "    border: none;\n",
              "    border-radius: 50%;\n",
              "    cursor: pointer;\n",
              "    display: none;\n",
              "    fill: var(--fill-color);\n",
              "    height: 32px;\n",
              "    padding: 0;\n",
              "    width: 32px;\n",
              "  }\n",
              "\n",
              "  .colab-df-quickchart:hover {\n",
              "    background-color: var(--hover-bg-color);\n",
              "    box-shadow: 0 1px 2px rgba(60, 64, 67, 0.3), 0 1px 3px 1px rgba(60, 64, 67, 0.15);\n",
              "    fill: var(--button-hover-fill-color);\n",
              "  }\n",
              "\n",
              "  .colab-df-quickchart-complete:disabled,\n",
              "  .colab-df-quickchart-complete:disabled:hover {\n",
              "    background-color: var(--disabled-bg-color);\n",
              "    fill: var(--disabled-fill-color);\n",
              "    box-shadow: none;\n",
              "  }\n",
              "\n",
              "  .colab-df-spinner {\n",
              "    border: 2px solid var(--fill-color);\n",
              "    border-color: transparent;\n",
              "    border-bottom-color: var(--fill-color);\n",
              "    animation:\n",
              "      spin 1s steps(1) infinite;\n",
              "  }\n",
              "\n",
              "  @keyframes spin {\n",
              "    0% {\n",
              "      border-color: transparent;\n",
              "      border-bottom-color: var(--fill-color);\n",
              "      border-left-color: var(--fill-color);\n",
              "    }\n",
              "    20% {\n",
              "      border-color: transparent;\n",
              "      border-left-color: var(--fill-color);\n",
              "      border-top-color: var(--fill-color);\n",
              "    }\n",
              "    30% {\n",
              "      border-color: transparent;\n",
              "      border-left-color: var(--fill-color);\n",
              "      border-top-color: var(--fill-color);\n",
              "      border-right-color: var(--fill-color);\n",
              "    }\n",
              "    40% {\n",
              "      border-color: transparent;\n",
              "      border-right-color: var(--fill-color);\n",
              "      border-top-color: var(--fill-color);\n",
              "    }\n",
              "    60% {\n",
              "      border-color: transparent;\n",
              "      border-right-color: var(--fill-color);\n",
              "    }\n",
              "    80% {\n",
              "      border-color: transparent;\n",
              "      border-right-color: var(--fill-color);\n",
              "      border-bottom-color: var(--fill-color);\n",
              "    }\n",
              "    90% {\n",
              "      border-color: transparent;\n",
              "      border-bottom-color: var(--fill-color);\n",
              "    }\n",
              "  }\n",
              "</style>\n",
              "\n",
              "  <script>\n",
              "    async function quickchart(key) {\n",
              "      const quickchartButtonEl =\n",
              "        document.querySelector('#' + key + ' button');\n",
              "      quickchartButtonEl.disabled = true;  // To prevent multiple clicks.\n",
              "      quickchartButtonEl.classList.add('colab-df-spinner');\n",
              "      try {\n",
              "        const charts = await google.colab.kernel.invokeFunction(\n",
              "            'suggestCharts', [key], {});\n",
              "      } catch (error) {\n",
              "        console.error('Error during call to suggestCharts:', error);\n",
              "      }\n",
              "      quickchartButtonEl.classList.remove('colab-df-spinner');\n",
              "      quickchartButtonEl.classList.add('colab-df-quickchart-complete');\n",
              "    }\n",
              "    (() => {\n",
              "      let quickchartButtonEl =\n",
              "        document.querySelector('#df-28e62eeb-4658-429d-afed-2ec19971f403 button');\n",
              "      quickchartButtonEl.style.display =\n",
              "        google.colab.kernel.accessAllowed ? 'block' : 'none';\n",
              "    })();\n",
              "  </script>\n",
              "</div>\n",
              "    </div>\n",
              "  </div>\n"
            ],
            "application/vnd.google.colaboratory.intrinsic+json": {
              "type": "dataframe",
              "summary": "{\n  \"name\": \"relation_df[((relation_df['rus'] > 0\",\n  \"rows\": 11,\n  \"fields\": [\n    {\n      \"column\": \"rus\",\n      \"properties\": {\n        \"dtype\": \"number\",\n        \"std\": 0.04638769429297151,\n        \"min\": 0.006,\n        \"max\": 0.184,\n        \"num_unique_values\": 11,\n        \"samples\": [\n          0.006,\n          0.092,\n          0.068\n        ],\n        \"semantic_type\": \"\",\n        \"description\": \"\"\n      }\n    },\n    {\n      \"column\": \"eng\",\n      \"properties\": {\n        \"dtype\": \"number\",\n        \"std\": 0.028259833365010874,\n        \"min\": 0.012,\n        \"max\": 0.116,\n        \"num_unique_values\": 10,\n        \"samples\": [\n          0.078,\n          0.116,\n          0.012\n        ],\n        \"semantic_type\": \"\",\n        \"description\": \"\"\n      }\n    },\n    {\n      \"column\": \"chi\",\n      \"properties\": {\n        \"dtype\": \"number\",\n        \"std\": 0.04309081319513687,\n        \"min\": 0.012,\n        \"max\": 0.138,\n        \"num_unique_values\": 11,\n        \"samples\": [\n          0.051,\n          0.074,\n          0.076\n        ],\n        \"semantic_type\": \"\",\n        \"description\": \"\"\n      }\n    }\n  ]\n}"
            }
          },
          "metadata": {},
          "execution_count": 44
        }
      ]
    },
    {
      "cell_type": "code",
      "source": [
        "relation_df.round(6)"
      ],
      "metadata": {
        "colab": {
          "base_uri": "https://localhost:8080/",
          "height": 444
        },
        "id": "eMt8JedBPtVL",
        "outputId": "b03fe790-3ddb-4562-9a1c-184e6bbb6565"
      },
      "execution_count": 45,
      "outputs": [
        {
          "output_type": "execute_result",
          "data": {
            "text/plain": [
              "                   rus       eng       chi\n",
              "obl:tmod      0.000543  0.002724       NaN\n",
              "compound      0.001123  0.037538  0.045129\n",
              "flat:name     0.005134       NaN  0.009863\n",
              "nmod:npmod         NaN  0.000627       NaN\n",
              "csubj         0.005406  0.001360  0.003033\n",
              "...                ...       ...       ...\n",
              "aux:pass      0.002266  0.006419  0.003447\n",
              "compound:ext       NaN       NaN  0.000203\n",
              "nsubj         0.067931  0.078097  0.076445\n",
              "mark          0.017629  0.033880  0.036905\n",
              "det           0.025146  0.076311  0.012239\n",
              "\n",
              "[63 rows x 3 columns]"
            ],
            "text/html": [
              "\n",
              "  <div id=\"df-ed981498-3f0f-461f-b89f-fe63f2f65619\" class=\"colab-df-container\">\n",
              "    <div>\n",
              "<style scoped>\n",
              "    .dataframe tbody tr th:only-of-type {\n",
              "        vertical-align: middle;\n",
              "    }\n",
              "\n",
              "    .dataframe tbody tr th {\n",
              "        vertical-align: top;\n",
              "    }\n",
              "\n",
              "    .dataframe thead th {\n",
              "        text-align: right;\n",
              "    }\n",
              "</style>\n",
              "<table border=\"1\" class=\"dataframe\">\n",
              "  <thead>\n",
              "    <tr style=\"text-align: right;\">\n",
              "      <th></th>\n",
              "      <th>rus</th>\n",
              "      <th>eng</th>\n",
              "      <th>chi</th>\n",
              "    </tr>\n",
              "  </thead>\n",
              "  <tbody>\n",
              "    <tr>\n",
              "      <th>obl:tmod</th>\n",
              "      <td>0.000543</td>\n",
              "      <td>0.002724</td>\n",
              "      <td>NaN</td>\n",
              "    </tr>\n",
              "    <tr>\n",
              "      <th>compound</th>\n",
              "      <td>0.001123</td>\n",
              "      <td>0.037538</td>\n",
              "      <td>0.045129</td>\n",
              "    </tr>\n",
              "    <tr>\n",
              "      <th>flat:name</th>\n",
              "      <td>0.005134</td>\n",
              "      <td>NaN</td>\n",
              "      <td>0.009863</td>\n",
              "    </tr>\n",
              "    <tr>\n",
              "      <th>nmod:npmod</th>\n",
              "      <td>NaN</td>\n",
              "      <td>0.000627</td>\n",
              "      <td>NaN</td>\n",
              "    </tr>\n",
              "    <tr>\n",
              "      <th>csubj</th>\n",
              "      <td>0.005406</td>\n",
              "      <td>0.001360</td>\n",
              "      <td>0.003033</td>\n",
              "    </tr>\n",
              "    <tr>\n",
              "      <th>...</th>\n",
              "      <td>...</td>\n",
              "      <td>...</td>\n",
              "      <td>...</td>\n",
              "    </tr>\n",
              "    <tr>\n",
              "      <th>aux:pass</th>\n",
              "      <td>0.002266</td>\n",
              "      <td>0.006419</td>\n",
              "      <td>0.003447</td>\n",
              "    </tr>\n",
              "    <tr>\n",
              "      <th>compound:ext</th>\n",
              "      <td>NaN</td>\n",
              "      <td>NaN</td>\n",
              "      <td>0.000203</td>\n",
              "    </tr>\n",
              "    <tr>\n",
              "      <th>nsubj</th>\n",
              "      <td>0.067931</td>\n",
              "      <td>0.078097</td>\n",
              "      <td>0.076445</td>\n",
              "    </tr>\n",
              "    <tr>\n",
              "      <th>mark</th>\n",
              "      <td>0.017629</td>\n",
              "      <td>0.033880</td>\n",
              "      <td>0.036905</td>\n",
              "    </tr>\n",
              "    <tr>\n",
              "      <th>det</th>\n",
              "      <td>0.025146</td>\n",
              "      <td>0.076311</td>\n",
              "      <td>0.012239</td>\n",
              "    </tr>\n",
              "  </tbody>\n",
              "</table>\n",
              "<p>63 rows × 3 columns</p>\n",
              "</div>\n",
              "    <div class=\"colab-df-buttons\">\n",
              "\n",
              "  <div class=\"colab-df-container\">\n",
              "    <button class=\"colab-df-convert\" onclick=\"convertToInteractive('df-ed981498-3f0f-461f-b89f-fe63f2f65619')\"\n",
              "            title=\"Convert this dataframe to an interactive table.\"\n",
              "            style=\"display:none;\">\n",
              "\n",
              "  <svg xmlns=\"http://www.w3.org/2000/svg\" height=\"24px\" viewBox=\"0 -960 960 960\">\n",
              "    <path d=\"M120-120v-720h720v720H120Zm60-500h600v-160H180v160Zm220 220h160v-160H400v160Zm0 220h160v-160H400v160ZM180-400h160v-160H180v160Zm440 0h160v-160H620v160ZM180-180h160v-160H180v160Zm440 0h160v-160H620v160Z\"/>\n",
              "  </svg>\n",
              "    </button>\n",
              "\n",
              "  <style>\n",
              "    .colab-df-container {\n",
              "      display:flex;\n",
              "      gap: 12px;\n",
              "    }\n",
              "\n",
              "    .colab-df-convert {\n",
              "      background-color: #E8F0FE;\n",
              "      border: none;\n",
              "      border-radius: 50%;\n",
              "      cursor: pointer;\n",
              "      display: none;\n",
              "      fill: #1967D2;\n",
              "      height: 32px;\n",
              "      padding: 0 0 0 0;\n",
              "      width: 32px;\n",
              "    }\n",
              "\n",
              "    .colab-df-convert:hover {\n",
              "      background-color: #E2EBFA;\n",
              "      box-shadow: 0px 1px 2px rgba(60, 64, 67, 0.3), 0px 1px 3px 1px rgba(60, 64, 67, 0.15);\n",
              "      fill: #174EA6;\n",
              "    }\n",
              "\n",
              "    .colab-df-buttons div {\n",
              "      margin-bottom: 4px;\n",
              "    }\n",
              "\n",
              "    [theme=dark] .colab-df-convert {\n",
              "      background-color: #3B4455;\n",
              "      fill: #D2E3FC;\n",
              "    }\n",
              "\n",
              "    [theme=dark] .colab-df-convert:hover {\n",
              "      background-color: #434B5C;\n",
              "      box-shadow: 0px 1px 3px 1px rgba(0, 0, 0, 0.15);\n",
              "      filter: drop-shadow(0px 1px 2px rgba(0, 0, 0, 0.3));\n",
              "      fill: #FFFFFF;\n",
              "    }\n",
              "  </style>\n",
              "\n",
              "    <script>\n",
              "      const buttonEl =\n",
              "        document.querySelector('#df-ed981498-3f0f-461f-b89f-fe63f2f65619 button.colab-df-convert');\n",
              "      buttonEl.style.display =\n",
              "        google.colab.kernel.accessAllowed ? 'block' : 'none';\n",
              "\n",
              "      async function convertToInteractive(key) {\n",
              "        const element = document.querySelector('#df-ed981498-3f0f-461f-b89f-fe63f2f65619');\n",
              "        const dataTable =\n",
              "          await google.colab.kernel.invokeFunction('convertToInteractive',\n",
              "                                                    [key], {});\n",
              "        if (!dataTable) return;\n",
              "\n",
              "        const docLinkHtml = 'Like what you see? Visit the ' +\n",
              "          '<a target=\"_blank\" href=https://colab.research.google.com/notebooks/data_table.ipynb>data table notebook</a>'\n",
              "          + ' to learn more about interactive tables.';\n",
              "        element.innerHTML = '';\n",
              "        dataTable['output_type'] = 'display_data';\n",
              "        await google.colab.output.renderOutput(dataTable, element);\n",
              "        const docLink = document.createElement('div');\n",
              "        docLink.innerHTML = docLinkHtml;\n",
              "        element.appendChild(docLink);\n",
              "      }\n",
              "    </script>\n",
              "  </div>\n",
              "\n",
              "\n",
              "<div id=\"df-146b150f-7ab1-4581-a5c5-8b8597bfdd0b\">\n",
              "  <button class=\"colab-df-quickchart\" onclick=\"quickchart('df-146b150f-7ab1-4581-a5c5-8b8597bfdd0b')\"\n",
              "            title=\"Suggest charts\"\n",
              "            style=\"display:none;\">\n",
              "\n",
              "<svg xmlns=\"http://www.w3.org/2000/svg\" height=\"24px\"viewBox=\"0 0 24 24\"\n",
              "     width=\"24px\">\n",
              "    <g>\n",
              "        <path d=\"M19 3H5c-1.1 0-2 .9-2 2v14c0 1.1.9 2 2 2h14c1.1 0 2-.9 2-2V5c0-1.1-.9-2-2-2zM9 17H7v-7h2v7zm4 0h-2V7h2v10zm4 0h-2v-4h2v4z\"/>\n",
              "    </g>\n",
              "</svg>\n",
              "  </button>\n",
              "\n",
              "<style>\n",
              "  .colab-df-quickchart {\n",
              "      --bg-color: #E8F0FE;\n",
              "      --fill-color: #1967D2;\n",
              "      --hover-bg-color: #E2EBFA;\n",
              "      --hover-fill-color: #174EA6;\n",
              "      --disabled-fill-color: #AAA;\n",
              "      --disabled-bg-color: #DDD;\n",
              "  }\n",
              "\n",
              "  [theme=dark] .colab-df-quickchart {\n",
              "      --bg-color: #3B4455;\n",
              "      --fill-color: #D2E3FC;\n",
              "      --hover-bg-color: #434B5C;\n",
              "      --hover-fill-color: #FFFFFF;\n",
              "      --disabled-bg-color: #3B4455;\n",
              "      --disabled-fill-color: #666;\n",
              "  }\n",
              "\n",
              "  .colab-df-quickchart {\n",
              "    background-color: var(--bg-color);\n",
              "    border: none;\n",
              "    border-radius: 50%;\n",
              "    cursor: pointer;\n",
              "    display: none;\n",
              "    fill: var(--fill-color);\n",
              "    height: 32px;\n",
              "    padding: 0;\n",
              "    width: 32px;\n",
              "  }\n",
              "\n",
              "  .colab-df-quickchart:hover {\n",
              "    background-color: var(--hover-bg-color);\n",
              "    box-shadow: 0 1px 2px rgba(60, 64, 67, 0.3), 0 1px 3px 1px rgba(60, 64, 67, 0.15);\n",
              "    fill: var(--button-hover-fill-color);\n",
              "  }\n",
              "\n",
              "  .colab-df-quickchart-complete:disabled,\n",
              "  .colab-df-quickchart-complete:disabled:hover {\n",
              "    background-color: var(--disabled-bg-color);\n",
              "    fill: var(--disabled-fill-color);\n",
              "    box-shadow: none;\n",
              "  }\n",
              "\n",
              "  .colab-df-spinner {\n",
              "    border: 2px solid var(--fill-color);\n",
              "    border-color: transparent;\n",
              "    border-bottom-color: var(--fill-color);\n",
              "    animation:\n",
              "      spin 1s steps(1) infinite;\n",
              "  }\n",
              "\n",
              "  @keyframes spin {\n",
              "    0% {\n",
              "      border-color: transparent;\n",
              "      border-bottom-color: var(--fill-color);\n",
              "      border-left-color: var(--fill-color);\n",
              "    }\n",
              "    20% {\n",
              "      border-color: transparent;\n",
              "      border-left-color: var(--fill-color);\n",
              "      border-top-color: var(--fill-color);\n",
              "    }\n",
              "    30% {\n",
              "      border-color: transparent;\n",
              "      border-left-color: var(--fill-color);\n",
              "      border-top-color: var(--fill-color);\n",
              "      border-right-color: var(--fill-color);\n",
              "    }\n",
              "    40% {\n",
              "      border-color: transparent;\n",
              "      border-right-color: var(--fill-color);\n",
              "      border-top-color: var(--fill-color);\n",
              "    }\n",
              "    60% {\n",
              "      border-color: transparent;\n",
              "      border-right-color: var(--fill-color);\n",
              "    }\n",
              "    80% {\n",
              "      border-color: transparent;\n",
              "      border-right-color: var(--fill-color);\n",
              "      border-bottom-color: var(--fill-color);\n",
              "    }\n",
              "    90% {\n",
              "      border-color: transparent;\n",
              "      border-bottom-color: var(--fill-color);\n",
              "    }\n",
              "  }\n",
              "</style>\n",
              "\n",
              "  <script>\n",
              "    async function quickchart(key) {\n",
              "      const quickchartButtonEl =\n",
              "        document.querySelector('#' + key + ' button');\n",
              "      quickchartButtonEl.disabled = true;  // To prevent multiple clicks.\n",
              "      quickchartButtonEl.classList.add('colab-df-spinner');\n",
              "      try {\n",
              "        const charts = await google.colab.kernel.invokeFunction(\n",
              "            'suggestCharts', [key], {});\n",
              "      } catch (error) {\n",
              "        console.error('Error during call to suggestCharts:', error);\n",
              "      }\n",
              "      quickchartButtonEl.classList.remove('colab-df-spinner');\n",
              "      quickchartButtonEl.classList.add('colab-df-quickchart-complete');\n",
              "    }\n",
              "    (() => {\n",
              "      let quickchartButtonEl =\n",
              "        document.querySelector('#df-146b150f-7ab1-4581-a5c5-8b8597bfdd0b button');\n",
              "      quickchartButtonEl.style.display =\n",
              "        google.colab.kernel.accessAllowed ? 'block' : 'none';\n",
              "    })();\n",
              "  </script>\n",
              "</div>\n",
              "    </div>\n",
              "  </div>\n"
            ],
            "application/vnd.google.colaboratory.intrinsic+json": {
              "type": "dataframe",
              "summary": "{\n  \"name\": \"relation_df\",\n  \"rows\": 63,\n  \"fields\": [\n    {\n      \"column\": \"rus\",\n      \"properties\": {\n        \"dtype\": \"number\",\n        \"std\": 0.03654865182869198,\n        \"min\": 1e-06,\n        \"max\": 0.184497,\n        \"num_unique_values\": 44,\n        \"samples\": [\n          0.010603,\n          0.008767,\n          0.000408\n        ],\n        \"semantic_type\": \"\",\n        \"description\": \"\"\n      }\n    },\n    {\n      \"column\": \"eng\",\n      \"properties\": {\n        \"dtype\": \"number\",\n        \"std\": 0.026626344234953664,\n        \"min\": 2e-05,\n        \"max\": 0.11642,\n        \"num_unique_values\": 51,\n        \"samples\": [\n          2.4e-05,\n          0.000177,\n          0.017841\n        ],\n        \"semantic_type\": \"\",\n        \"description\": \"\"\n      }\n    },\n    {\n      \"column\": \"chi\",\n      \"properties\": {\n        \"dtype\": \"number\",\n        \"std\": 0.03181164662551403,\n        \"min\": 8e-06,\n        \"max\": 0.138412,\n        \"num_unique_values\": 42,\n        \"samples\": [\n          0.00223,\n          0.131648,\n          0.04053\n        ],\n        \"semantic_type\": \"\",\n        \"description\": \"\"\n      }\n    }\n  ]\n}"
            }
          },
          "metadata": {},
          "execution_count": 45
        }
      ]
    },
    {
      "cell_type": "code",
      "source": [],
      "metadata": {
        "id": "ptjzn82dPtmE"
      },
      "execution_count": 45,
      "outputs": []
    }
  ]
}