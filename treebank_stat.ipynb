{
  "nbformat": 4,
  "nbformat_minor": 0,
  "metadata": {
    "colab": {
      "provenance": [],
      "authorship_tag": "ABX9TyNPVWMcsV3AtiSiHbhugiqd",
      "include_colab_link": true
    },
    "kernelspec": {
      "name": "python3",
      "display_name": "Python 3"
    },
    "language_info": {
      "name": "python"
    }
  },
  "cells": [
    {
      "cell_type": "markdown",
      "metadata": {
        "id": "view-in-github",
        "colab_type": "text"
      },
      "source": [
        "<a href=\"https://colab.research.google.com/github/Derinhelm/treebank_statistics/blob/v2/treebank_stat.ipynb\" target=\"_parent\"><img src=\"https://colab.research.google.com/assets/colab-badge.svg\" alt=\"Open In Colab\"/></a>"
      ]
    },
    {
      "cell_type": "markdown",
      "source": [
        "# Загрузка датасетов"
      ],
      "metadata": {
        "id": "NEQsypAOmAdt"
      }
    },
    {
      "cell_type": "code",
      "source": [
        "from IPython.display import clear_output"
      ],
      "metadata": {
        "id": "7k1doCGgZv12"
      },
      "execution_count": null,
      "outputs": []
    },
    {
      "cell_type": "markdown",
      "source": [
        "## Датасет на русском языке"
      ],
      "metadata": {
        "id": "Gq0XOuJ31H0b"
      }
    },
    {
      "cell_type": "code",
      "source": [
        "!wget -m https://github.com/UniversalDependencies/UD_Russian-SynTagRus/raw/master/ru_syntagrus-ud-train-a.conllu\n",
        "!wget -m https://github.com/UniversalDependencies/UD_Russian-SynTagRus/raw/master/ru_syntagrus-ud-train-b.conllu\n",
        "!wget -m https://github.com/UniversalDependencies/UD_Russian-SynTagRus/raw/master/ru_syntagrus-ud-train-c.conllu\n",
        "\n",
        "!wget -m https://github.com/UniversalDependencies/UD_Russian-SynTagRus/raw/master/ru_syntagrus-ud-dev.conllu\n",
        "!wget -m https://github.com/UniversalDependencies/UD_Russian-SynTagRus/raw/master/ru_syntagrus-ud-test.conllu\n",
        "\n",
        "!mv /content/github.com/UniversalDependencies/UD_Russian-SynTagRus/raw/master/ru_syntagrus-ud-train-a.conllu /content/ru_syntagrus-ud-train-a.conllu\n",
        "!mv /content/github.com/UniversalDependencies/UD_Russian-SynTagRus/raw/master/ru_syntagrus-ud-train-b.conllu /content/ru_syntagrus-ud-train-b.conllu\n",
        "!mv /content/github.com/UniversalDependencies/UD_Russian-SynTagRus/raw/master/ru_syntagrus-ud-train-c.conllu /content/ru_syntagrus-ud-train-c.conllu\n",
        "\n",
        "!mv /content/github.com/UniversalDependencies/UD_Russian-SynTagRus/raw/master/ru_syntagrus-ud-dev.conllu /content/ru_syntagrus-ud-dev.conllu\n",
        "\n",
        "!mv /content/github.com/UniversalDependencies/UD_Russian-SynTagRus/raw/master/ru_syntagrus-ud-test.conllu /content/ru_syntagrus-ud-test.conllu\n",
        "\n",
        "clear_output()"
      ],
      "metadata": {
        "id": "TetUqwkHl_fp"
      },
      "execution_count": null,
      "outputs": []
    },
    {
      "cell_type": "markdown",
      "source": [
        "# Data structure creating"
      ],
      "metadata": {
        "id": "qGT-2z8ZK19l"
      }
    },
    {
      "cell_type": "code",
      "source": [
        "class ConllEntry:\n",
        "    def __init__(self, id, form, lemma, pos, cpos, feats=None, \\\n",
        "                 parent_id=None, relation=None,deps=None, misc=None):\n",
        "        self.id = id\n",
        "        self.form = form\n",
        "        self.lemma = lemma\n",
        "        self.pos = pos\n",
        "        self.cpos = cpos\n",
        "        self.feats = feats\n",
        "        self.parent_id = parent_id\n",
        "        self.relation = relation\n",
        "        self.deps = deps\n",
        "        self.misc = misc"
      ],
      "metadata": {
        "id": "PPCMUS7bSE-d"
      },
      "execution_count": null,
      "outputs": []
    },
    {
      "cell_type": "code",
      "source": [
        "class Sentence:\n",
        "    def __init__(self):\n",
        "        self.text = \"\"\n",
        "        self.sent_id = \"\"\n",
        "        self.words = []\n",
        "\n",
        "    def add_word(self, word):\n",
        "        self.words.append(word)\n",
        "\n",
        "    def set_sent_id(self, sent_id):\n",
        "        self.sent_id = sent_id\n",
        "\n",
        "    def set_text(self, text):\n",
        "        self.text = text\n",
        "\n",
        "    def is_not_empty(self):\n",
        "        return len(self.words) > 0\n"
      ],
      "metadata": {
        "id": "DHETUz1PSFA-"
      },
      "execution_count": null,
      "outputs": []
    },
    {
      "cell_type": "markdown",
      "source": [
        "# Treebank data getting"
      ],
      "metadata": {
        "id": "AmyVtzUNSMIZ"
      }
    },
    {
      "cell_type": "code",
      "source": [
        "import os\n",
        "\n",
        "def get_treebank_file(path):\n",
        "    get_command = f\"wget -m {path}\"\n",
        "    print(get_command)\n",
        "    os.system(get_command)\n",
        "    download_path = \"/content/\" + path.replace(\"https://\", \"\")\n",
        "    itog_path = \"/content/\" + path.split(\"/\")[-1]\n",
        "    mv_command = f\"mv {download_path} {itog_path}\"\n",
        "    print(mv_command)\n",
        "    os.system(mv_command)\n",
        "    return itog_path"
      ],
      "metadata": {
        "id": "l4HoVuQMRRec"
      },
      "execution_count": null,
      "outputs": []
    },
    {
      "cell_type": "code",
      "source": [
        "class TreebankData:\n",
        "    def __init__(self, train_files, dev_files, test_files):\n",
        "        self.train = []\n",
        "        for path in train_files:\n",
        "            conll_path = get_treebank_file(path)\n",
        "            self.train += self.read_conll(conll_path)\n",
        "\n",
        "        self.dev = []\n",
        "        for path in dev_files:\n",
        "            conll_path = get_treebank_file(path)\n",
        "            self.dev += self.read_conll(conll_path)\n",
        "\n",
        "        self.test = []\n",
        "        for path in test_files:\n",
        "            conll_path = get_treebank_file(path)\n",
        "            self.test += self.read_conll(conll_path)\n",
        "\n",
        "    def read_conll(self, filename):\n",
        "        fh = open(filename,'r',encoding='utf-8')\n",
        "        sents_read = 0\n",
        "        sents = []\n",
        "        comments = set()\n",
        "\n",
        "        sent = Sentence()\n",
        "        for line in fh:\n",
        "            tok = line.strip().split('\\t')\n",
        "            if not tok or line.strip() == '': # empty line, add sentence to list\n",
        "                if sent.is_not_empty:\n",
        "                    sents_read += 1\n",
        "                    sents.append(sent)\n",
        "                sent = Sentence()\n",
        "            else:\n",
        "                if line[0] == '#' or '-' in tok[0]: # a comment line\n",
        "                    line = line.strip()\n",
        "                    if line[:12] == \"# sent_id = \":\n",
        "                        sent.set_sent_id(line[12:])\n",
        "                    elif line[:9] == \"# text = \":\n",
        "                        sent.set_text(line[9:])\n",
        "                    else:\n",
        "                        comments.add(line)\n",
        "\n",
        "                else: # an actual ConllEntry, add to tokens\n",
        "                    if tok[2] == \"_\":\n",
        "                        tok[2] = tok[1].lower()\n",
        "\n",
        "                    word = ConllEntry(*tok)\n",
        "                    sent.add_word(word)\n",
        "        fh.close()\n",
        "        return sents\n"
      ],
      "metadata": {
        "id": "lMDC1tOWK6cH"
      },
      "execution_count": null,
      "outputs": []
    },
    {
      "cell_type": "code",
      "source": [
        "treebank_paths = { 'rus': ( [ \"https://github.com/UniversalDependencies/UD_Russian-SynTagRus/raw/master/ru_syntagrus-ud-train-a.conllu\"\n",
        "                            , \"https://github.com/UniversalDependencies/UD_Russian-SynTagRus/raw/master/ru_syntagrus-ud-train-b.conllu\"\n",
        "                            , \"https://github.com/UniversalDependencies/UD_Russian-SynTagRus/raw/master/ru_syntagrus-ud-train-c.conllu\"]\n",
        "                          , [\"https://github.com/UniversalDependencies/UD_Russian-SynTagRus/raw/master/ru_syntagrus-ud-dev.conllu\"]\n",
        "                          , [\"https://github.com/UniversalDependencies/UD_Russian-SynTagRus/raw/master/ru_syntagrus-ud-test.conllu\"])\n",
        "                 , 'eng': ([\"https://github.com/UniversalDependencies/UD_English-EWT/raw/master/en_ewt-ud-train.conllu\"]\n",
        "                         , [\"https://github.com/UniversalDependencies/UD_English-EWT/raw/master/en_ewt-ud-dev.conllu\"]\n",
        "                         , [\"https://github.com/UniversalDependencies/UD_English-EWT/raw/master/en_ewt-ud-test.conllu\"])\n",
        "                 , 'chi': ( [\"https://github.com/UniversalDependencies/UD_Chinese-GSD/raw/master/zh_gsd-ud-train.conllu\"]\n",
        "                          , [\"https://github.com/UniversalDependencies/UD_Chinese-GSD/raw/master/zh_gsd-ud-dev.conllu\"]\n",
        "                          , [\"https://github.com/UniversalDependencies/UD_Chinese-GSD/raw/master/zh_gsd-ud-test.conllu\"] )\n",
        "                 }"
      ],
      "metadata": {
        "id": "X-3FDzO-IdHH"
      },
      "execution_count": null,
      "outputs": []
    },
    {
      "cell_type": "code",
      "source": [
        "treebanks = {}\n",
        "for treebank_name, (train_files, dev_files, test_files) in treebank_paths.items():\n",
        "    print(train_files, dev_files, test_files)\n",
        "    treebanks[treebank_name] = TreebankData(train_files, dev_files, test_files)"
      ],
      "metadata": {
        "colab": {
          "base_uri": "https://localhost:8080/"
        },
        "id": "GgpjEu4ASTxl",
        "outputId": "9b08f948-9af9-4a6a-b80d-00acc1ce0592"
      },
      "execution_count": null,
      "outputs": [
        {
          "output_type": "stream",
          "name": "stdout",
          "text": [
            "['https://github.com/UniversalDependencies/UD_Russian-SynTagRus/raw/master/ru_syntagrus-ud-train-a.conllu', 'https://github.com/UniversalDependencies/UD_Russian-SynTagRus/raw/master/ru_syntagrus-ud-train-b.conllu', 'https://github.com/UniversalDependencies/UD_Russian-SynTagRus/raw/master/ru_syntagrus-ud-train-c.conllu'] ['https://github.com/UniversalDependencies/UD_Russian-SynTagRus/raw/master/ru_syntagrus-ud-dev.conllu'] ['https://github.com/UniversalDependencies/UD_Russian-SynTagRus/raw/master/ru_syntagrus-ud-test.conllu']\n",
            "wget -m https://github.com/UniversalDependencies/UD_Russian-SynTagRus/raw/master/ru_syntagrus-ud-train-a.conllu\n",
            "mv /content/github.com/UniversalDependencies/UD_Russian-SynTagRus/raw/master/ru_syntagrus-ud-train-a.conllu /content/ru_syntagrus-ud-train-a.conllu\n",
            "wget -m https://github.com/UniversalDependencies/UD_Russian-SynTagRus/raw/master/ru_syntagrus-ud-train-b.conllu\n",
            "mv /content/github.com/UniversalDependencies/UD_Russian-SynTagRus/raw/master/ru_syntagrus-ud-train-b.conllu /content/ru_syntagrus-ud-train-b.conllu\n",
            "wget -m https://github.com/UniversalDependencies/UD_Russian-SynTagRus/raw/master/ru_syntagrus-ud-train-c.conllu\n",
            "mv /content/github.com/UniversalDependencies/UD_Russian-SynTagRus/raw/master/ru_syntagrus-ud-train-c.conllu /content/ru_syntagrus-ud-train-c.conllu\n",
            "wget -m https://github.com/UniversalDependencies/UD_Russian-SynTagRus/raw/master/ru_syntagrus-ud-dev.conllu\n",
            "mv /content/github.com/UniversalDependencies/UD_Russian-SynTagRus/raw/master/ru_syntagrus-ud-dev.conllu /content/ru_syntagrus-ud-dev.conllu\n",
            "wget -m https://github.com/UniversalDependencies/UD_Russian-SynTagRus/raw/master/ru_syntagrus-ud-test.conllu\n",
            "mv /content/github.com/UniversalDependencies/UD_Russian-SynTagRus/raw/master/ru_syntagrus-ud-test.conllu /content/ru_syntagrus-ud-test.conllu\n",
            "['https://github.com/UniversalDependencies/UD_English-EWT/raw/master/en_ewt-ud-train.conllu'] ['https://github.com/UniversalDependencies/UD_English-EWT/raw/master/en_ewt-ud-dev.conllu'] ['https://github.com/UniversalDependencies/UD_English-EWT/raw/master/en_ewt-ud-test.conllu']\n",
            "wget -m https://github.com/UniversalDependencies/UD_English-EWT/raw/master/en_ewt-ud-train.conllu\n",
            "mv /content/github.com/UniversalDependencies/UD_English-EWT/raw/master/en_ewt-ud-train.conllu /content/en_ewt-ud-train.conllu\n",
            "wget -m https://github.com/UniversalDependencies/UD_English-EWT/raw/master/en_ewt-ud-dev.conllu\n",
            "mv /content/github.com/UniversalDependencies/UD_English-EWT/raw/master/en_ewt-ud-dev.conllu /content/en_ewt-ud-dev.conllu\n",
            "wget -m https://github.com/UniversalDependencies/UD_English-EWT/raw/master/en_ewt-ud-test.conllu\n",
            "mv /content/github.com/UniversalDependencies/UD_English-EWT/raw/master/en_ewt-ud-test.conllu /content/en_ewt-ud-test.conllu\n",
            "['https://github.com/UniversalDependencies/UD_Chinese-GSD/raw/master/zh_gsd-ud-train.conllu'] ['https://github.com/UniversalDependencies/UD_Chinese-GSD/raw/master/zh_gsd-ud-dev.conllu'] ['https://github.com/UniversalDependencies/UD_Chinese-GSD/raw/master/zh_gsd-ud-test.conllu']\n",
            "wget -m https://github.com/UniversalDependencies/UD_Chinese-GSD/raw/master/zh_gsd-ud-train.conllu\n",
            "mv /content/github.com/UniversalDependencies/UD_Chinese-GSD/raw/master/zh_gsd-ud-train.conllu /content/zh_gsd-ud-train.conllu\n",
            "wget -m https://github.com/UniversalDependencies/UD_Chinese-GSD/raw/master/zh_gsd-ud-dev.conllu\n",
            "mv /content/github.com/UniversalDependencies/UD_Chinese-GSD/raw/master/zh_gsd-ud-dev.conllu /content/zh_gsd-ud-dev.conllu\n",
            "wget -m https://github.com/UniversalDependencies/UD_Chinese-GSD/raw/master/zh_gsd-ud-test.conllu\n",
            "mv /content/github.com/UniversalDependencies/UD_Chinese-GSD/raw/master/zh_gsd-ud-test.conllu /content/zh_gsd-ud-test.conllu\n"
          ]
        }
      ]
    },
    {
      "cell_type": "code",
      "source": [
        "for treebank_name, treebank_data in treebanks.items():\n",
        "    print(treebank_name, len(treebank_data.train), len(treebank_data.dev), len(treebank_data.test))"
      ],
      "metadata": {
        "colab": {
          "base_uri": "https://localhost:8080/"
        },
        "id": "d7HcaJ0_TAGI",
        "outputId": "13f7891e-551e-4549-ac1c-a92ad2171162"
      },
      "execution_count": null,
      "outputs": [
        {
          "output_type": "stream",
          "name": "stdout",
          "text": [
            "rus 69630 8906 8800\n",
            "eng 12544 2001 2077\n",
            "chi 3997 500 500\n"
          ]
        }
      ]
    },
    {
      "cell_type": "markdown",
      "source": [
        "rus 69630 8906 8800\n",
        "\n",
        "eng 12544 2001 2077\n",
        "\n",
        "chi 3997 500 500\n"
      ],
      "metadata": {
        "id": "7FAwUpM5UXWU"
      }
    },
    {
      "cell_type": "markdown",
      "source": [
        "# Чтение информации из файла"
      ],
      "metadata": {
        "id": "j62mVokE004a"
      }
    },
    {
      "cell_type": "code",
      "source": [
        "splitted_sents = {'rus': {'train': [], 'dev': [], 'test': []},\n",
        "          'eng': {'train': [], 'dev': [], 'test': []},\n",
        "          'chi': {'train': [], 'dev': [], 'test': []}}"
      ],
      "metadata": {
        "id": "UocWUOurdqEa"
      },
      "execution_count": null,
      "outputs": []
    },
    {
      "cell_type": "code",
      "source": [
        "for treebank_name in splitted_sents:\n",
        "  splitted_sents[treebank_name]['train'] = treebanks[treebank_name].train\n",
        "  splitted_sents[treebank_name]['dev'] = treebanks[treebank_name].dev\n",
        "  splitted_sents[treebank_name]['test'] = treebanks[treebank_name].test\n"
      ],
      "metadata": {
        "id": "BT4d5af-bv-_"
      },
      "execution_count": null,
      "outputs": []
    },
    {
      "cell_type": "code",
      "source": [
        "for lang in splitted_sents:\n",
        "    print(lang, \":\", [(k, len(v)) for k, v in splitted_sents[lang].items()])"
      ],
      "metadata": {
        "colab": {
          "base_uri": "https://localhost:8080/"
        },
        "id": "fv_yycg8cBX5",
        "outputId": "a25611f0-8231-4b46-847d-725f89561f14"
      },
      "execution_count": null,
      "outputs": [
        {
          "output_type": "stream",
          "name": "stdout",
          "text": [
            "rus : [('train', 69630), ('dev', 8906), ('test', 8800)]\n",
            "eng : [('train', 12544), ('dev', 2001), ('test', 2077)]\n",
            "chi : [('train', 3997), ('dev', 500), ('test', 500)]\n"
          ]
        }
      ]
    },
    {
      "cell_type": "markdown",
      "source": [
        "rus : [('train', 69630), ('dev', 8906), ('test', 8800)]\n",
        "\n",
        "eng : [('train', 12544), ('dev', 2001), ('test', 2077)]\n",
        "\n",
        "chi : [('train', 3997), ('dev', 500), ('test', 500)]"
      ],
      "metadata": {
        "id": "0N-6EhUCdN4s"
      }
    },
    {
      "cell_type": "code",
      "source": [
        "def sentence_is_not_complex(s):\n",
        "  return all('.' not in w.id for w in s.words)\n",
        "\n",
        "sents = {}\n",
        "for lang in splitted_sents:\n",
        "    lang_sents = splitted_sents[lang]['train'] + \\\n",
        "                  splitted_sents[lang]['dev'] + \\\n",
        "                  splitted_sents[lang]['test']\n",
        "    sents[lang] = [s for s in lang_sents if sentence_is_not_complex(s)]\n",
        "    print(lang, \". Normal sentence amount: \", len(sents[lang]),\n",
        "                \", complex sentence amount: \", len(lang_sents) - len(sents[lang]), sep=\"\")"
      ],
      "metadata": {
        "colab": {
          "base_uri": "https://localhost:8080/"
        },
        "id": "XSQ7XZd2cMk1",
        "outputId": "2f30ba2e-42d7-4bdb-c7bd-83bb136e5cd1"
      },
      "execution_count": null,
      "outputs": [
        {
          "output_type": "stream",
          "name": "stdout",
          "text": [
            "rus. Normal sentence amount: 85572, complex sentence amount: 1764\n",
            "eng. Normal sentence amount: 16582, complex sentence amount: 40\n",
            "chi. Normal sentence amount: 4997, complex sentence amount: 0\n"
          ]
        }
      ]
    },
    {
      "cell_type": "markdown",
      "source": [
        "rus. Normal sentence amount: 85572, complex sentence amount: 1764\n",
        "\n",
        "eng. Normal sentence amount: 16582, complex sentence amount: 40\n",
        "\n",
        "chi. Normal sentence amount: 4997, complex sentence amount: 0\n"
      ],
      "metadata": {
        "id": "uvuUxO78dLI5"
      }
    },
    {
      "cell_type": "code",
      "source": [
        "languages = sents.keys()\n",
        "languages"
      ],
      "metadata": {
        "colab": {
          "base_uri": "https://localhost:8080/"
        },
        "id": "O5Rro5rPw13d",
        "outputId": "69784a58-e621-4629-8299-171ccb1aa83d"
      },
      "execution_count": null,
      "outputs": [
        {
          "output_type": "execute_result",
          "data": {
            "text/plain": [
              "dict_keys(['rus', 'eng', 'chi'])"
            ]
          },
          "metadata": {},
          "execution_count": 27
        }
      ]
    },
    {
      "cell_type": "markdown",
      "source": [
        "# Количество токенов в предложении"
      ],
      "metadata": {
        "id": "CEoprqM2KCdo"
      }
    },
    {
      "cell_type": "code",
      "source": [
        "from collections import Counter"
      ],
      "metadata": {
        "id": "smXNsBj5KWF3"
      },
      "execution_count": null,
      "outputs": []
    },
    {
      "cell_type": "code",
      "source": [
        "token_counters = {lang: Counter([len(s.words) for s in lang_sents]) for lang, lang_sents in sents.items()}"
      ],
      "metadata": {
        "id": "7-bEvlkJKFjR"
      },
      "execution_count": null,
      "outputs": []
    },
    {
      "cell_type": "code",
      "source": [
        "for lang, lang_counter in token_counters.items():\n",
        "  print(lang, \". All token amount: \", sum([length * rate\n",
        "                                           for length, rate in token_counters[lang].items()]), sep=\"\")"
      ],
      "metadata": {
        "colab": {
          "base_uri": "https://localhost:8080/"
        },
        "id": "sRAo41xk0jCH",
        "outputId": "d15b62a7-e0cb-47f5-ef19-0f0d5b6ed3fe"
      },
      "execution_count": null,
      "outputs": [
        {
          "output_type": "stream",
          "name": "stdout",
          "text": [
            "rus. All token amount: 1474199\n",
            "eng. All token amount: 253635\n",
            "chi. All token amount: 123291\n"
          ]
        }
      ]
    },
    {
      "cell_type": "markdown",
      "source": [
        "rus. All token amount: 1474199\n",
        "\n",
        "eng. All token amount: 253634\n",
        "\n",
        "chi. All token amount: 123291"
      ],
      "metadata": {
        "id": "-azHAF3vcRDU"
      }
    },
    {
      "cell_type": "code",
      "source": [
        "for lang, lang_counter in token_counters.items():\n",
        "  print(lang, \". Average token amount: \", sum([token_amount * rate for token_amount, rate\n",
        "                                               in lang_counter.items()]) / lang_counter.total(), sep=\"\")"
      ],
      "metadata": {
        "colab": {
          "base_uri": "https://localhost:8080/"
        },
        "id": "ljZjLZp3BkhF",
        "outputId": "ac1f14ce-baba-42dd-c87a-34dcd2530512"
      },
      "execution_count": null,
      "outputs": [
        {
          "output_type": "stream",
          "name": "stdout",
          "text": [
            "rus. Average token amount: 17.227586126302995\n",
            "eng. Average token amount: 15.29580267760222\n",
            "chi. Average token amount: 24.673003802281368\n"
          ]
        }
      ]
    },
    {
      "cell_type": "markdown",
      "source": [
        "rus. Average token amount: 17.227586126302995\n",
        "\n",
        "eng. Average token amount: 15.295742371245929\n",
        "\n",
        "chi. Average token amount: 24.673003802281368"
      ],
      "metadata": {
        "id": "ccYcBtf3cT8Y"
      }
    },
    {
      "cell_type": "code",
      "source": [
        "for lang, token_counter in token_counters.items():\n",
        "    lang_token_lengths = token_counter.keys()\n",
        "    print(lang, \". The shortest sentence length: \", min(lang_token_lengths),\n",
        "                \", the longest sentence length: \", max(lang_token_lengths), sep=\"\")"
      ],
      "metadata": {
        "colab": {
          "base_uri": "https://localhost:8080/"
        },
        "id": "_PRPsiCaKllA",
        "outputId": "6bd88058-4eb0-4d49-ac71-63ad045b691d"
      },
      "execution_count": null,
      "outputs": [
        {
          "output_type": "stream",
          "name": "stdout",
          "text": [
            "rus. The shortest sentence length: 2, the longest sentence length: 205\n",
            "eng. The shortest sentence length: 1, the longest sentence length: 159\n",
            "chi. The shortest sentence length: 4, the longest sentence length: 111\n"
          ]
        }
      ]
    },
    {
      "cell_type": "markdown",
      "source": [
        "rus. The shortest sentence length: 2, the longest sentence length: 205\n",
        "\n",
        "eng. The shortest sentence length: 1, the longest sentence length: 159\n",
        "\n",
        "chi. The shortest sentence length: 4, the longest sentence length: 111"
      ],
      "metadata": {
        "id": "5GTqkeCDcWdw"
      }
    },
    {
      "cell_type": "code",
      "source": [
        "len_lang = {lang: t_counter.total() for lang, t_counter in token_counters.items()}"
      ],
      "metadata": {
        "id": "52pgRrxGORhy"
      },
      "execution_count": null,
      "outputs": []
    },
    {
      "cell_type": "code",
      "source": [
        "lang_russian_title = {'rus': 'русский', 'eng': 'английский', 'chi': 'китайский'}"
      ],
      "metadata": {
        "id": "APiOHj3GV2lR"
      },
      "execution_count": null,
      "outputs": []
    },
    {
      "cell_type": "code",
      "source": [
        "import matplotlib.pyplot as plt"
      ],
      "metadata": {
        "id": "a2PWqvmQJ5X9"
      },
      "execution_count": null,
      "outputs": []
    },
    {
      "cell_type": "markdown",
      "source": [
        "![image.png](data:image/png;base64,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)"
      ],
      "metadata": {
        "id": "Pas78OMEcZAT"
      }
    },
    {
      "cell_type": "code",
      "source": [
        "#define grid of plots\n",
        "fig, axs = plt.subplots(nrows= 3 , ncols= 1, sharex=True, figsize=(5, 8))\n",
        "\n",
        "#add title\n",
        "fig.suptitle('Распределение количества токенов в предложении')\n",
        "\n",
        "#add data to plots\n",
        "for bar_i, lang in enumerate(token_counters):\n",
        "  x, y = zip(*([(i, j / len_lang[lang]) for i, j in token_counters[lang].items() if i <= 50]))\n",
        "  axs[bar_i].bar(x, height=y)\n",
        "  axs[bar_i].title.set_text(lang_russian_title[lang])\n"
      ],
      "metadata": {
        "colab": {
          "base_uri": "https://localhost:8080/",
          "height": 776
        },
        "id": "iIMJsWoYLbAb",
        "outputId": "2ebc3abc-c883-43e8-9b83-ccebd03b4256"
      },
      "execution_count": null,
      "outputs": [
        {
          "output_type": "display_data",
          "data": {
            "text/plain": [
              "<Figure size 500x800 with 3 Axes>"
            ],
            "image/png": "[encoded data removed]"
          },
          "metadata": {}
        }
      ]
    },
    {
      "cell_type": "markdown",
      "source": [
        "![image.png](data:image/png;base64,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)"
      ],
      "metadata": {
        "id": "eDUov7v8cbVY"
      }
    },
    {
      "cell_type": "code",
      "source": [
        "fig, ax = plt.subplots(nrows=1, ncols=3, figsize = (10,8), sharey=True)\n",
        "fig.suptitle('Распределение количества токенов в предложении')\n",
        "\n",
        "for col_i, lang in enumerate(token_counters):\n",
        "    ax[col_i].boxplot(x=list(token_counters[lang].elements()), showfliers=False,showcaps=True)\n",
        "    ax[col_i].title.set_text(lang_russian_title[lang])\n",
        "\n",
        "plt.show()"
      ],
      "metadata": {
        "colab": {
          "base_uri": "https://localhost:8080/",
          "height": 776
        },
        "id": "R-bZD_TlWwmX",
        "outputId": "3000e133-50e2-4d01-89e2-9350f36c120a"
      },
      "execution_count": null,
      "outputs": [
        {
          "output_type": "display_data",
          "data": {
            "text/plain": [
              "<Figure size 1000x800 with 3 Axes>"
            ],
            "image/png": "[encoded data removed]"
          },
          "metadata": {}
        }
      ]
    },
    {
      "cell_type": "code",
      "source": [
        "for lang in languages:\n",
        "  print(lang)\n",
        "  print(round(sum([rate for token_amount, rate in token_counters[lang].items() if token_amount <= 10]) / len_lang[lang], 2), end = \" \")\n",
        "  print(round(sum([rate for token_amount, rate in token_counters[lang].items() if token_amount <= 20 and token_amount > 10])  / len_lang[lang], 2), end = \" \")\n",
        "  print(round(sum([rate for token_amount, rate in token_counters[lang].items() if token_amount <= 30 and token_amount > 20])  / len_lang[lang], 2), end = \" \")\n",
        "  print(round(sum([rate for token_amount, rate in token_counters[lang].items() if token_amount <= 40 and token_amount > 30])  / len_lang[lang], 2), end = \" \")\n",
        "  print(round(sum([rate for token_amount, rate in token_counters[lang].items() if token_amount <= 50 and token_amount > 40])  / len_lang[lang], 2), end = \" \")\n",
        "  print(round(sum([rate for token_amount, rate in token_counters[lang].items() if token_amount >= 50]) / len_lang[lang], 2))"
      ],
      "metadata": {
        "colab": {
          "base_uri": "https://localhost:8080/"
        },
        "id": "oLxdzYncHmeJ",
        "outputId": "cc565427-90c6-4f61-b7dc-7ab4951dd96a"
      },
      "execution_count": null,
      "outputs": [
        {
          "output_type": "stream",
          "name": "stdout",
          "text": [
            "rus\n",
            "0.3 0.39 0.2 0.07 0.02 0.01\n",
            "eng\n",
            "0.42 0.32 0.16 0.07 0.02 0.02\n",
            "chi\n",
            "0.05 0.39 0.3 0.15 0.06 0.04\n"
          ]
        }
      ]
    },
    {
      "cell_type": "markdown",
      "source": [
        "rus\n",
        "0.3 0.39 0.2 0.07 0.02 0.01\n",
        "\n",
        "eng\n",
        "0.42 0.32 0.16 0.07 0.02 0.02\n",
        "\n",
        "chi\n",
        "0.05 0.39 0.3 0.15 0.06 0.04\n"
      ],
      "metadata": {
        "id": "tine6Ko5cdEn"
      }
    },
    {
      "cell_type": "markdown",
      "source": [
        "## Группировка датасетов по токенам"
      ],
      "metadata": {
        "id": "eKuq9qo2AmPS"
      }
    },
    {
      "cell_type": "code",
      "source": [
        "import pandas as pd"
      ],
      "metadata": {
        "id": "WRPKG2IPAlPE"
      },
      "execution_count": null,
      "outputs": []
    },
    {
      "cell_type": "code",
      "source": [
        "def create_node_df(cur_sents):\n",
        "    info = []\n",
        "    for sent_i, sent in enumerate(cur_sents):\n",
        "      for w_i, w in enumerate(sent.words):\n",
        "        info.append((w.id, w.parent_id, w.relation, w.pos, w.form, w.lemma, sent_i))\n",
        "    info_df = pd.DataFrame(info, columns=[\"id\", \"parent_id\", \"relation\", \"pos\", \"form\", \"lemma\", \"sent_i\"])\n",
        "    return info_df"
      ],
      "metadata": {
        "id": "clb2DC9nBZ16"
      },
      "execution_count": null,
      "outputs": []
    },
    {
      "cell_type": "code",
      "source": [
        "node_df_dict = {}\n",
        "for lang in sents:\n",
        "    node_df_dict[lang] = create_node_df(sents[lang])"
      ],
      "metadata": {
        "id": "z1YyOFcRCJgl"
      },
      "execution_count": null,
      "outputs": []
    },
    {
      "cell_type": "markdown",
      "source": [
        "![image.png](data:image/png;base64,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)"
      ],
      "metadata": {
        "id": "09ggo6lDchxg"
      }
    },
    {
      "cell_type": "code",
      "source": [
        "node_df_dict['rus']"
      ],
      "metadata": {
        "colab": {
          "base_uri": "https://localhost:8080/",
          "height": 444
        },
        "id": "iVO_-uXnYRFv",
        "outputId": "16176d6e-19d8-447b-8b4e-2bf5b0b85448"
      },
      "execution_count": null,
      "outputs": [
        {
          "output_type": "execute_result",
          "data": {
            "text/plain": [
              "         id parent_id relation    pos        form       lemma  sent_i\n",
              "0         1         0     root   NOUN      Анкета      анкета       0\n",
              "1         2         1    punct  PUNCT           .           .       0\n",
              "2         1         8    nsubj   NOUN   Начальник   начальник       1\n",
              "3         2         3     amod    ADJ  областного   областной       1\n",
              "4         3         1     nmod   NOUN  управления  управление       1\n",
              "...      ..       ...      ...    ...         ...         ...     ...\n",
              "1474194  10         9    nsubj   PRON         она         она   85571\n",
              "1474195  11        13       cc  CCONJ           и           и   85571\n",
              "1474196  12        13   advmod    ADV  застенчиво  застенчиво   85571\n",
              "1474197  13         9     conj   VERB  улыбнулась  улыбнуться   85571\n",
              "1474198  14         3    punct  PUNCT           .           .   85571\n",
              "\n",
              "[1474199 rows x 7 columns]"
            ],
            "text/html": [
              "\n",
              "  <div id=\"df-bd92eea3-1d1a-4ff4-a7ff-997dbe881506\" class=\"colab-df-container\">\n",
              "    <div>\n",
              "<style scoped>\n",
              "    .dataframe tbody tr th:only-of-type {\n",
              "        vertical-align: middle;\n",
              "    }\n",
              "\n",
              "    .dataframe tbody tr th {\n",
              "        vertical-align: top;\n",
              "    }\n",
              "\n",
              "    .dataframe thead th {\n",
              "        text-align: right;\n",
              "    }\n",
              "</style>\n",
              "<table border=\"1\" class=\"dataframe\">\n",
              "  <thead>\n",
              "    <tr style=\"text-align: right;\">\n",
              "      <th></th>\n",
              "      <th>id</th>\n",
              "      <th>parent_id</th>\n",
              "      <th>relation</th>\n",
              "      <th>pos</th>\n",
              "      <th>form</th>\n",
              "      <th>lemma</th>\n",
              "      <th>sent_i</th>\n",
              "    </tr>\n",
              "  </thead>\n",
              "  <tbody>\n",
              "    <tr>\n",
              "      <th>0</th>\n",
              "      <td>1</td>\n",
              "      <td>0</td>\n",
              "      <td>root</td>\n",
              "      <td>NOUN</td>\n",
              "      <td>Анкета</td>\n",
              "      <td>анкета</td>\n",
              "      <td>0</td>\n",
              "    </tr>\n",
              "    <tr>\n",
              "      <th>1</th>\n",
              "      <td>2</td>\n",
              "      <td>1</td>\n",
              "      <td>punct</td>\n",
              "      <td>PUNCT</td>\n",
              "      <td>.</td>\n",
              "      <td>.</td>\n",
              "      <td>0</td>\n",
              "    </tr>\n",
              "    <tr>\n",
              "      <th>2</th>\n",
              "      <td>1</td>\n",
              "      <td>8</td>\n",
              "      <td>nsubj</td>\n",
              "      <td>NOUN</td>\n",
              "      <td>Начальник</td>\n",
              "      <td>начальник</td>\n",
              "      <td>1</td>\n",
              "    </tr>\n",
              "    <tr>\n",
              "      <th>3</th>\n",
              "      <td>2</td>\n",
              "      <td>3</td>\n",
              "      <td>amod</td>\n",
              "      <td>ADJ</td>\n",
              "      <td>областного</td>\n",
              "      <td>областной</td>\n",
              "      <td>1</td>\n",
              "    </tr>\n",
              "    <tr>\n",
              "      <th>4</th>\n",
              "      <td>3</td>\n",
              "      <td>1</td>\n",
              "      <td>nmod</td>\n",
              "      <td>NOUN</td>\n",
              "      <td>управления</td>\n",
              "      <td>управление</td>\n",
              "      <td>1</td>\n",
              "    </tr>\n",
              "    <tr>\n",
              "      <th>...</th>\n",
              "      <td>...</td>\n",
              "      <td>...</td>\n",
              "      <td>...</td>\n",
              "      <td>...</td>\n",
              "      <td>...</td>\n",
              "      <td>...</td>\n",
              "      <td>...</td>\n",
              "    </tr>\n",
              "    <tr>\n",
              "      <th>1474194</th>\n",
              "      <td>10</td>\n",
              "      <td>9</td>\n",
              "      <td>nsubj</td>\n",
              "      <td>PRON</td>\n",
              "      <td>она</td>\n",
              "      <td>она</td>\n",
              "      <td>85571</td>\n",
              "    </tr>\n",
              "    <tr>\n",
              "      <th>1474195</th>\n",
              "      <td>11</td>\n",
              "      <td>13</td>\n",
              "      <td>cc</td>\n",
              "      <td>CCONJ</td>\n",
              "      <td>и</td>\n",
              "      <td>и</td>\n",
              "      <td>85571</td>\n",
              "    </tr>\n",
              "    <tr>\n",
              "      <th>1474196</th>\n",
              "      <td>12</td>\n",
              "      <td>13</td>\n",
              "      <td>advmod</td>\n",
              "      <td>ADV</td>\n",
              "      <td>застенчиво</td>\n",
              "      <td>застенчиво</td>\n",
              "      <td>85571</td>\n",
              "    </tr>\n",
              "    <tr>\n",
              "      <th>1474197</th>\n",
              "      <td>13</td>\n",
              "      <td>9</td>\n",
              "      <td>conj</td>\n",
              "      <td>VERB</td>\n",
              "      <td>улыбнулась</td>\n",
              "      <td>улыбнуться</td>\n",
              "      <td>85571</td>\n",
              "    </tr>\n",
              "    <tr>\n",
              "      <th>1474198</th>\n",
              "      <td>14</td>\n",
              "      <td>3</td>\n",
              "      <td>punct</td>\n",
              "      <td>PUNCT</td>\n",
              "      <td>.</td>\n",
              "      <td>.</td>\n",
              "      <td>85571</td>\n",
              "    </tr>\n",
              "  </tbody>\n",
              "</table>\n",
              "<p>1474199 rows × 7 columns</p>\n",
              "</div>\n",
              "    <div class=\"colab-df-buttons\">\n",
              "\n",
              "  <div class=\"colab-df-container\">\n",
              "    <button class=\"colab-df-convert\" onclick=\"convertToInteractive('df-bd92eea3-1d1a-4ff4-a7ff-997dbe881506')\"\n",
              "            title=\"Convert this dataframe to an interactive table.\"\n",
              "            style=\"display:none;\">\n",
              "\n",
              "  <svg xmlns=\"http://www.w3.org/2000/svg\" height=\"24px\" viewBox=\"0 -960 960 960\">\n",
              "    <path d=\"M120-120v-720h720v720H120Zm60-500h600v-160H180v160Zm220 220h160v-160H400v160Zm0 220h160v-160H400v160ZM180-400h160v-160H180v160Zm440 0h160v-160H620v160ZM180-180h160v-160H180v160Zm440 0h160v-160H620v160Z\"/>\n",
              "  </svg>\n",
              "    </button>\n",
              "\n",
              "  <style>\n",
              "    .colab-df-container {\n",
              "      display:flex;\n",
              "      gap: 12px;\n",
              "    }\n",
              "\n",
              "    .colab-df-convert {\n",
              "      background-color: #E8F0FE;\n",
              "      border: none;\n",
              "      border-radius: 50%;\n",
              "      cursor: pointer;\n",
              "      display: none;\n",
              "      fill: #1967D2;\n",
              "      height: 32px;\n",
              "      padding: 0 0 0 0;\n",
              "      width: 32px;\n",
              "    }\n",
              "\n",
              "    .colab-df-convert:hover {\n",
              "      background-color: #E2EBFA;\n",
              "      box-shadow: 0px 1px 2px rgba(60, 64, 67, 0.3), 0px 1px 3px 1px rgba(60, 64, 67, 0.15);\n",
              "      fill: #174EA6;\n",
              "    }\n",
              "\n",
              "    .colab-df-buttons div {\n",
              "      margin-bottom: 4px;\n",
              "    }\n",
              "\n",
              "    [theme=dark] .colab-df-convert {\n",
              "      background-color: #3B4455;\n",
              "      fill: #D2E3FC;\n",
              "    }\n",
              "\n",
              "    [theme=dark] .colab-df-convert:hover {\n",
              "      background-color: #434B5C;\n",
              "      box-shadow: 0px 1px 3px 1px rgba(0, 0, 0, 0.15);\n",
              "      filter: drop-shadow(0px 1px 2px rgba(0, 0, 0, 0.3));\n",
              "      fill: #FFFFFF;\n",
              "    }\n",
              "  </style>\n",
              "\n",
              "    <script>\n",
              "      const buttonEl =\n",
              "        document.querySelector('#df-bd92eea3-1d1a-4ff4-a7ff-997dbe881506 button.colab-df-convert');\n",
              "      buttonEl.style.display =\n",
              "        google.colab.kernel.accessAllowed ? 'block' : 'none';\n",
              "\n",
              "      async function convertToInteractive(key) {\n",
              "        const element = document.querySelector('#df-bd92eea3-1d1a-4ff4-a7ff-997dbe881506');\n",
              "        const dataTable =\n",
              "          await google.colab.kernel.invokeFunction('convertToInteractive',\n",
              "                                                    [key], {});\n",
              "        if (!dataTable) return;\n",
              "\n",
              "        const docLinkHtml = 'Like what you see? Visit the ' +\n",
              "          '<a target=\"_blank\" href=https://colab.research.google.com/notebooks/data_table.ipynb>data table notebook</a>'\n",
              "          + ' to learn more about interactive tables.';\n",
              "        element.innerHTML = '';\n",
              "        dataTable['output_type'] = 'display_data';\n",
              "        await google.colab.output.renderOutput(dataTable, element);\n",
              "        const docLink = document.createElement('div');\n",
              "        docLink.innerHTML = docLinkHtml;\n",
              "        element.appendChild(docLink);\n",
              "      }\n",
              "    </script>\n",
              "  </div>\n",
              "\n",
              "\n",
              "<div id=\"df-cd334201-cef8-4439-af39-28182d84c2c0\">\n",
              "  <button class=\"colab-df-quickchart\" onclick=\"quickchart('df-cd334201-cef8-4439-af39-28182d84c2c0')\"\n",
              "            title=\"Suggest charts\"\n",
              "            style=\"display:none;\">\n",
              "\n",
              "<svg xmlns=\"http://www.w3.org/2000/svg\" height=\"24px\"viewBox=\"0 0 24 24\"\n",
              "     width=\"24px\">\n",
              "    <g>\n",
              "        <path d=\"M19 3H5c-1.1 0-2 .9-2 2v14c0 1.1.9 2 2 2h14c1.1 0 2-.9 2-2V5c0-1.1-.9-2-2-2zM9 17H7v-7h2v7zm4 0h-2V7h2v10zm4 0h-2v-4h2v4z\"/>\n",
              "    </g>\n",
              "</svg>\n",
              "  </button>\n",
              "\n",
              "<style>\n",
              "  .colab-df-quickchart {\n",
              "      --bg-color: #E8F0FE;\n",
              "      --fill-color: #1967D2;\n",
              "      --hover-bg-color: #E2EBFA;\n",
              "      --hover-fill-color: #174EA6;\n",
              "      --disabled-fill-color: #AAA;\n",
              "      --disabled-bg-color: #DDD;\n",
              "  }\n",
              "\n",
              "  [theme=dark] .colab-df-quickchart {\n",
              "      --bg-color: #3B4455;\n",
              "      --fill-color: #D2E3FC;\n",
              "      --hover-bg-color: #434B5C;\n",
              "      --hover-fill-color: #FFFFFF;\n",
              "      --disabled-bg-color: #3B4455;\n",
              "      --disabled-fill-color: #666;\n",
              "  }\n",
              "\n",
              "  .colab-df-quickchart {\n",
              "    background-color: var(--bg-color);\n",
              "    border: none;\n",
              "    border-radius: 50%;\n",
              "    cursor: pointer;\n",
              "    display: none;\n",
              "    fill: var(--fill-color);\n",
              "    height: 32px;\n",
              "    padding: 0;\n",
              "    width: 32px;\n",
              "  }\n",
              "\n",
              "  .colab-df-quickchart:hover {\n",
              "    background-color: var(--hover-bg-color);\n",
              "    box-shadow: 0 1px 2px rgba(60, 64, 67, 0.3), 0 1px 3px 1px rgba(60, 64, 67, 0.15);\n",
              "    fill: var(--button-hover-fill-color);\n",
              "  }\n",
              "\n",
              "  .colab-df-quickchart-complete:disabled,\n",
              "  .colab-df-quickchart-complete:disabled:hover {\n",
              "    background-color: var(--disabled-bg-color);\n",
              "    fill: var(--disabled-fill-color);\n",
              "    box-shadow: none;\n",
              "  }\n",
              "\n",
              "  .colab-df-spinner {\n",
              "    border: 2px solid var(--fill-color);\n",
              "    border-color: transparent;\n",
              "    border-bottom-color: var(--fill-color);\n",
              "    animation:\n",
              "      spin 1s steps(1) infinite;\n",
              "  }\n",
              "\n",
              "  @keyframes spin {\n",
              "    0% {\n",
              "      border-color: transparent;\n",
              "      border-bottom-color: var(--fill-color);\n",
              "      border-left-color: var(--fill-color);\n",
              "    }\n",
              "    20% {\n",
              "      border-color: transparent;\n",
              "      border-left-color: var(--fill-color);\n",
              "      border-top-color: var(--fill-color);\n",
              "    }\n",
              "    30% {\n",
              "      border-color: transparent;\n",
              "      border-left-color: var(--fill-color);\n",
              "      border-top-color: var(--fill-color);\n",
              "      border-right-color: var(--fill-color);\n",
              "    }\n",
              "    40% {\n",
              "      border-color: transparent;\n",
              "      border-right-color: var(--fill-color);\n",
              "      border-top-color: var(--fill-color);\n",
              "    }\n",
              "    60% {\n",
              "      border-color: transparent;\n",
              "      border-right-color: var(--fill-color);\n",
              "    }\n",
              "    80% {\n",
              "      border-color: transparent;\n",
              "      border-right-color: var(--fill-color);\n",
              "      border-bottom-color: var(--fill-color);\n",
              "    }\n",
              "    90% {\n",
              "      border-color: transparent;\n",
              "      border-bottom-color: var(--fill-color);\n",
              "    }\n",
              "  }\n",
              "</style>\n",
              "\n",
              "  <script>\n",
              "    async function quickchart(key) {\n",
              "      const quickchartButtonEl =\n",
              "        document.querySelector('#' + key + ' button');\n",
              "      quickchartButtonEl.disabled = true;  // To prevent multiple clicks.\n",
              "      quickchartButtonEl.classList.add('colab-df-spinner');\n",
              "      try {\n",
              "        const charts = await google.colab.kernel.invokeFunction(\n",
              "            'suggestCharts', [key], {});\n",
              "      } catch (error) {\n",
              "        console.error('Error during call to suggestCharts:', error);\n",
              "      }\n",
              "      quickchartButtonEl.classList.remove('colab-df-spinner');\n",
              "      quickchartButtonEl.classList.add('colab-df-quickchart-complete');\n",
              "    }\n",
              "    (() => {\n",
              "      let quickchartButtonEl =\n",
              "        document.querySelector('#df-cd334201-cef8-4439-af39-28182d84c2c0 button');\n",
              "      quickchartButtonEl.style.display =\n",
              "        google.colab.kernel.accessAllowed ? 'block' : 'none';\n",
              "    })();\n",
              "  </script>\n",
              "</div>\n",
              "    </div>\n",
              "  </div>\n"
            ],
            "application/vnd.google.colaboratory.intrinsic+json": {
              "type": "dataframe"
            }
          },
          "metadata": {},
          "execution_count": 29
        }
      ]
    },
    {
      "cell_type": "markdown",
      "source": [
        "# Начальная форма"
      ],
      "metadata": {
        "id": "r96EXnzDvFrj"
      }
    },
    {
      "cell_type": "code",
      "source": [
        "for lang, node_df_lang in node_df_dict.items():\n",
        "  print(lang, f\"{len(set(node_df_dict[lang]['lemma'])) / len(node_df_dict[lang]):.2f}\")"
      ],
      "metadata": {
        "colab": {
          "base_uri": "https://localhost:8080/"
        },
        "id": "LXFWbptuvGX6",
        "outputId": "665209f3-31f9-4b8e-e624-13a8573e15bc"
      },
      "execution_count": null,
      "outputs": [
        {
          "output_type": "stream",
          "name": "stdout",
          "text": [
            "rus 0.04\n",
            "eng 0.07\n",
            "chi 0.16\n"
          ]
        }
      ]
    },
    {
      "cell_type": "markdown",
      "source": [
        "rus 0.04\n",
        "\n",
        "eng 0.07\n",
        "\n",
        "chi 0.16"
      ],
      "metadata": {
        "id": "eMBTKu6Gcjmo"
      }
    },
    {
      "cell_type": "markdown",
      "source": [
        "# Часть речи"
      ],
      "metadata": {
        "id": "MQC9EIBYEmC3"
      }
    },
    {
      "cell_type": "code",
      "source": [
        "from matplotlib_venn import venn3_unweighted, venn3_circles\n",
        "\n",
        "pos_set = [set(node_df_dict[lang]['pos']) for lang in languages]\n",
        "\n",
        "venn3_unweighted(pos_set,\n",
        "      set_colors=('#ffffff', '#ffffff', '#ffffff'),\n",
        "      set_labels = [lang_russian_title[lang] for lang in languages],\n",
        "      alpha=0.75)\n",
        "venn3_circles((1,1,1,1,1,1,1), lw=0.7)\n",
        "\n",
        "plt.show()"
      ],
      "metadata": {
        "colab": {
          "base_uri": "https://localhost:8080/",
          "height": 428
        },
        "id": "ablA1Lag5M8T",
        "outputId": "bf80ed44-3226-4fa8-f6ed-f8631e96ac2a"
      },
      "execution_count": null,
      "outputs": [
        {
          "output_type": "display_data",
          "data": {
            "text/plain": [
              "<Figure size 640x480 with 1 Axes>"
            ],
            "image/png": "[encoded data removed]"
          },
          "metadata": {}
        }
      ]
    },
    {
      "cell_type": "code",
      "source": [
        "(set(node_df_dict['rus']['pos']) & set(node_df_dict['eng']['pos'])) - set(node_df_dict['chi']['pos'])"
      ],
      "metadata": {
        "colab": {
          "base_uri": "https://localhost:8080/"
        },
        "id": "dXKyqHpAFOKz",
        "outputId": "a8d9ed96-f137-47e8-a445-29e59357dc20"
      },
      "execution_count": null,
      "outputs": [
        {
          "output_type": "execute_result",
          "data": {
            "text/plain": [
              "{'INTJ'}"
            ]
          },
          "metadata": {},
          "execution_count": 32
        }
      ]
    },
    {
      "cell_type": "code",
      "source": [
        "relative_pos_rate = {}\n",
        "for lang, node_df in node_df_dict.items():\n",
        "  node_amount = len(node_df)\n",
        "  relative_pos_rate[lang] = {i: j / node_amount for i, j in node_df.groupby('pos').size().items()}"
      ],
      "metadata": {
        "id": "sB8q1Rri5EBz"
      },
      "execution_count": null,
      "outputs": []
    },
    {
      "cell_type": "code",
      "source": [
        "pos_df_list = []\n",
        "pos_rows = []\n",
        "for pos in relative_pos_rate['rus']:\n",
        "  pos_df_list.append([relative_pos_rate[lang].get(pos, 0) for lang in languages])\n",
        "  pos_rows.append(pos)\n",
        "pos_df = pd.DataFrame(pos_df_list, pos_rows, languages)"
      ],
      "metadata": {
        "id": "zDX72PGfFNmo"
      },
      "execution_count": null,
      "outputs": []
    },
    {
      "cell_type": "code",
      "source": [
        "pos_df.round(4)"
      ],
      "metadata": {
        "colab": {
          "base_uri": "https://localhost:8080/",
          "height": 603
        },
        "id": "zDT8UmqcInxa",
        "outputId": "93e23171-8b1b-4409-cd29-c038e42ce23e"
      },
      "execution_count": null,
      "outputs": [
        {
          "output_type": "execute_result",
          "data": {
            "text/plain": [
              "          rus     eng     chi\n",
              "ADJ    0.0965  0.0660  0.0246\n",
              "ADP    0.0928  0.0858  0.0457\n",
              "ADV    0.0504  0.0491  0.0250\n",
              "AUX    0.0091  0.0625  0.0316\n",
              "CCONJ  0.0360  0.0321  0.0141\n",
              "DET    0.0272  0.0789  0.0108\n",
              "INTJ   0.0002  0.0037  0.0000\n",
              "NOUN   0.2380  0.1692  0.2761\n",
              "NUM    0.0125  0.0198  0.0540\n",
              "PART   0.0328  0.0277  0.0802\n",
              "PRON   0.0483  0.0904  0.0144\n",
              "PROPN  0.0367  0.0651  0.0871\n",
              "PUNCT  0.1845  0.1168  0.1384\n",
              "SCONJ  0.0188  0.0181  0.0422\n",
              "SYM    0.0008  0.0036  0.0003\n",
              "VERB   0.1147  0.1095  0.1478\n",
              "X      0.0007  0.0018  0.0078"
            ],
            "text/html": [
              "\n",
              "  <div id=\"df-5217152e-c527-40ea-a93e-0c52fc43bc7f\" class=\"colab-df-container\">\n",
              "    <div>\n",
              "<style scoped>\n",
              "    .dataframe tbody tr th:only-of-type {\n",
              "        vertical-align: middle;\n",
              "    }\n",
              "\n",
              "    .dataframe tbody tr th {\n",
              "        vertical-align: top;\n",
              "    }\n",
              "\n",
              "    .dataframe thead th {\n",
              "        text-align: right;\n",
              "    }\n",
              "</style>\n",
              "<table border=\"1\" class=\"dataframe\">\n",
              "  <thead>\n",
              "    <tr style=\"text-align: right;\">\n",
              "      <th></th>\n",
              "      <th>rus</th>\n",
              "      <th>eng</th>\n",
              "      <th>chi</th>\n",
              "    </tr>\n",
              "  </thead>\n",
              "  <tbody>\n",
              "    <tr>\n",
              "      <th>ADJ</th>\n",
              "      <td>0.0965</td>\n",
              "      <td>0.0660</td>\n",
              "      <td>0.0246</td>\n",
              "    </tr>\n",
              "    <tr>\n",
              "      <th>ADP</th>\n",
              "      <td>0.0928</td>\n",
              "      <td>0.0858</td>\n",
              "      <td>0.0457</td>\n",
              "    </tr>\n",
              "    <tr>\n",
              "      <th>ADV</th>\n",
              "      <td>0.0504</td>\n",
              "      <td>0.0491</td>\n",
              "      <td>0.0250</td>\n",
              "    </tr>\n",
              "    <tr>\n",
              "      <th>AUX</th>\n",
              "      <td>0.0091</td>\n",
              "      <td>0.0625</td>\n",
              "      <td>0.0316</td>\n",
              "    </tr>\n",
              "    <tr>\n",
              "      <th>CCONJ</th>\n",
              "      <td>0.0360</td>\n",
              "      <td>0.0321</td>\n",
              "      <td>0.0141</td>\n",
              "    </tr>\n",
              "    <tr>\n",
              "      <th>DET</th>\n",
              "      <td>0.0272</td>\n",
              "      <td>0.0789</td>\n",
              "      <td>0.0108</td>\n",
              "    </tr>\n",
              "    <tr>\n",
              "      <th>INTJ</th>\n",
              "      <td>0.0002</td>\n",
              "      <td>0.0037</td>\n",
              "      <td>0.0000</td>\n",
              "    </tr>\n",
              "    <tr>\n",
              "      <th>NOUN</th>\n",
              "      <td>0.2380</td>\n",
              "      <td>0.1692</td>\n",
              "      <td>0.2761</td>\n",
              "    </tr>\n",
              "    <tr>\n",
              "      <th>NUM</th>\n",
              "      <td>0.0125</td>\n",
              "      <td>0.0198</td>\n",
              "      <td>0.0540</td>\n",
              "    </tr>\n",
              "    <tr>\n",
              "      <th>PART</th>\n",
              "      <td>0.0328</td>\n",
              "      <td>0.0277</td>\n",
              "      <td>0.0802</td>\n",
              "    </tr>\n",
              "    <tr>\n",
              "      <th>PRON</th>\n",
              "      <td>0.0483</td>\n",
              "      <td>0.0904</td>\n",
              "      <td>0.0144</td>\n",
              "    </tr>\n",
              "    <tr>\n",
              "      <th>PROPN</th>\n",
              "      <td>0.0367</td>\n",
              "      <td>0.0651</td>\n",
              "      <td>0.0871</td>\n",
              "    </tr>\n",
              "    <tr>\n",
              "      <th>PUNCT</th>\n",
              "      <td>0.1845</td>\n",
              "      <td>0.1168</td>\n",
              "      <td>0.1384</td>\n",
              "    </tr>\n",
              "    <tr>\n",
              "      <th>SCONJ</th>\n",
              "      <td>0.0188</td>\n",
              "      <td>0.0181</td>\n",
              "      <td>0.0422</td>\n",
              "    </tr>\n",
              "    <tr>\n",
              "      <th>SYM</th>\n",
              "      <td>0.0008</td>\n",
              "      <td>0.0036</td>\n",
              "      <td>0.0003</td>\n",
              "    </tr>\n",
              "    <tr>\n",
              "      <th>VERB</th>\n",
              "      <td>0.1147</td>\n",
              "      <td>0.1095</td>\n",
              "      <td>0.1478</td>\n",
              "    </tr>\n",
              "    <tr>\n",
              "      <th>X</th>\n",
              "      <td>0.0007</td>\n",
              "      <td>0.0018</td>\n",
              "      <td>0.0078</td>\n",
              "    </tr>\n",
              "  </tbody>\n",
              "</table>\n",
              "</div>\n",
              "    <div class=\"colab-df-buttons\">\n",
              "\n",
              "  <div class=\"colab-df-container\">\n",
              "    <button class=\"colab-df-convert\" onclick=\"convertToInteractive('df-5217152e-c527-40ea-a93e-0c52fc43bc7f')\"\n",
              "            title=\"Convert this dataframe to an interactive table.\"\n",
              "            style=\"display:none;\">\n",
              "\n",
              "  <svg xmlns=\"http://www.w3.org/2000/svg\" height=\"24px\" viewBox=\"0 -960 960 960\">\n",
              "    <path d=\"M120-120v-720h720v720H120Zm60-500h600v-160H180v160Zm220 220h160v-160H400v160Zm0 220h160v-160H400v160ZM180-400h160v-160H180v160Zm440 0h160v-160H620v160ZM180-180h160v-160H180v160Zm440 0h160v-160H620v160Z\"/>\n",
              "  </svg>\n",
              "    </button>\n",
              "\n",
              "  <style>\n",
              "    .colab-df-container {\n",
              "      display:flex;\n",
              "      gap: 12px;\n",
              "    }\n",
              "\n",
              "    .colab-df-convert {\n",
              "      background-color: #E8F0FE;\n",
              "      border: none;\n",
              "      border-radius: 50%;\n",
              "      cursor: pointer;\n",
              "      display: none;\n",
              "      fill: #1967D2;\n",
              "      height: 32px;\n",
              "      padding: 0 0 0 0;\n",
              "      width: 32px;\n",
              "    }\n",
              "\n",
              "    .colab-df-convert:hover {\n",
              "      background-color: #E2EBFA;\n",
              "      box-shadow: 0px 1px 2px rgba(60, 64, 67, 0.3), 0px 1px 3px 1px rgba(60, 64, 67, 0.15);\n",
              "      fill: #174EA6;\n",
              "    }\n",
              "\n",
              "    .colab-df-buttons div {\n",
              "      margin-bottom: 4px;\n",
              "    }\n",
              "\n",
              "    [theme=dark] .colab-df-convert {\n",
              "      background-color: #3B4455;\n",
              "      fill: #D2E3FC;\n",
              "    }\n",
              "\n",
              "    [theme=dark] .colab-df-convert:hover {\n",
              "      background-color: #434B5C;\n",
              "      box-shadow: 0px 1px 3px 1px rgba(0, 0, 0, 0.15);\n",
              "      filter: drop-shadow(0px 1px 2px rgba(0, 0, 0, 0.3));\n",
              "      fill: #FFFFFF;\n",
              "    }\n",
              "  </style>\n",
              "\n",
              "    <script>\n",
              "      const buttonEl =\n",
              "        document.querySelector('#df-5217152e-c527-40ea-a93e-0c52fc43bc7f button.colab-df-convert');\n",
              "      buttonEl.style.display =\n",
              "        google.colab.kernel.accessAllowed ? 'block' : 'none';\n",
              "\n",
              "      async function convertToInteractive(key) {\n",
              "        const element = document.querySelector('#df-5217152e-c527-40ea-a93e-0c52fc43bc7f');\n",
              "        const dataTable =\n",
              "          await google.colab.kernel.invokeFunction('convertToInteractive',\n",
              "                                                    [key], {});\n",
              "        if (!dataTable) return;\n",
              "\n",
              "        const docLinkHtml = 'Like what you see? Visit the ' +\n",
              "          '<a target=\"_blank\" href=https://colab.research.google.com/notebooks/data_table.ipynb>data table notebook</a>'\n",
              "          + ' to learn more about interactive tables.';\n",
              "        element.innerHTML = '';\n",
              "        dataTable['output_type'] = 'display_data';\n",
              "        await google.colab.output.renderOutput(dataTable, element);\n",
              "        const docLink = document.createElement('div');\n",
              "        docLink.innerHTML = docLinkHtml;\n",
              "        element.appendChild(docLink);\n",
              "      }\n",
              "    </script>\n",
              "  </div>\n",
              "\n",
              "\n",
              "<div id=\"df-369904ed-fd88-4be8-84ee-a8302eca24f2\">\n",
              "  <button class=\"colab-df-quickchart\" onclick=\"quickchart('df-369904ed-fd88-4be8-84ee-a8302eca24f2')\"\n",
              "            title=\"Suggest charts\"\n",
              "            style=\"display:none;\">\n",
              "\n",
              "<svg xmlns=\"http://www.w3.org/2000/svg\" height=\"24px\"viewBox=\"0 0 24 24\"\n",
              "     width=\"24px\">\n",
              "    <g>\n",
              "        <path d=\"M19 3H5c-1.1 0-2 .9-2 2v14c0 1.1.9 2 2 2h14c1.1 0 2-.9 2-2V5c0-1.1-.9-2-2-2zM9 17H7v-7h2v7zm4 0h-2V7h2v10zm4 0h-2v-4h2v4z\"/>\n",
              "    </g>\n",
              "</svg>\n",
              "  </button>\n",
              "\n",
              "<style>\n",
              "  .colab-df-quickchart {\n",
              "      --bg-color: #E8F0FE;\n",
              "      --fill-color: #1967D2;\n",
              "      --hover-bg-color: #E2EBFA;\n",
              "      --hover-fill-color: #174EA6;\n",
              "      --disabled-fill-color: #AAA;\n",
              "      --disabled-bg-color: #DDD;\n",
              "  }\n",
              "\n",
              "  [theme=dark] .colab-df-quickchart {\n",
              "      --bg-color: #3B4455;\n",
              "      --fill-color: #D2E3FC;\n",
              "      --hover-bg-color: #434B5C;\n",
              "      --hover-fill-color: #FFFFFF;\n",
              "      --disabled-bg-color: #3B4455;\n",
              "      --disabled-fill-color: #666;\n",
              "  }\n",
              "\n",
              "  .colab-df-quickchart {\n",
              "    background-color: var(--bg-color);\n",
              "    border: none;\n",
              "    border-radius: 50%;\n",
              "    cursor: pointer;\n",
              "    display: none;\n",
              "    fill: var(--fill-color);\n",
              "    height: 32px;\n",
              "    padding: 0;\n",
              "    width: 32px;\n",
              "  }\n",
              "\n",
              "  .colab-df-quickchart:hover {\n",
              "    background-color: var(--hover-bg-color);\n",
              "    box-shadow: 0 1px 2px rgba(60, 64, 67, 0.3), 0 1px 3px 1px rgba(60, 64, 67, 0.15);\n",
              "    fill: var(--button-hover-fill-color);\n",
              "  }\n",
              "\n",
              "  .colab-df-quickchart-complete:disabled,\n",
              "  .colab-df-quickchart-complete:disabled:hover {\n",
              "    background-color: var(--disabled-bg-color);\n",
              "    fill: var(--disabled-fill-color);\n",
              "    box-shadow: none;\n",
              "  }\n",
              "\n",
              "  .colab-df-spinner {\n",
              "    border: 2px solid var(--fill-color);\n",
              "    border-color: transparent;\n",
              "    border-bottom-color: var(--fill-color);\n",
              "    animation:\n",
              "      spin 1s steps(1) infinite;\n",
              "  }\n",
              "\n",
              "  @keyframes spin {\n",
              "    0% {\n",
              "      border-color: transparent;\n",
              "      border-bottom-color: var(--fill-color);\n",
              "      border-left-color: var(--fill-color);\n",
              "    }\n",
              "    20% {\n",
              "      border-color: transparent;\n",
              "      border-left-color: var(--fill-color);\n",
              "      border-top-color: var(--fill-color);\n",
              "    }\n",
              "    30% {\n",
              "      border-color: transparent;\n",
              "      border-left-color: var(--fill-color);\n",
              "      border-top-color: var(--fill-color);\n",
              "      border-right-color: var(--fill-color);\n",
              "    }\n",
              "    40% {\n",
              "      border-color: transparent;\n",
              "      border-right-color: var(--fill-color);\n",
              "      border-top-color: var(--fill-color);\n",
              "    }\n",
              "    60% {\n",
              "      border-color: transparent;\n",
              "      border-right-color: var(--fill-color);\n",
              "    }\n",
              "    80% {\n",
              "      border-color: transparent;\n",
              "      border-right-color: var(--fill-color);\n",
              "      border-bottom-color: var(--fill-color);\n",
              "    }\n",
              "    90% {\n",
              "      border-color: transparent;\n",
              "      border-bottom-color: var(--fill-color);\n",
              "    }\n",
              "  }\n",
              "</style>\n",
              "\n",
              "  <script>\n",
              "    async function quickchart(key) {\n",
              "      const quickchartButtonEl =\n",
              "        document.querySelector('#' + key + ' button');\n",
              "      quickchartButtonEl.disabled = true;  // To prevent multiple clicks.\n",
              "      quickchartButtonEl.classList.add('colab-df-spinner');\n",
              "      try {\n",
              "        const charts = await google.colab.kernel.invokeFunction(\n",
              "            'suggestCharts', [key], {});\n",
              "      } catch (error) {\n",
              "        console.error('Error during call to suggestCharts:', error);\n",
              "      }\n",
              "      quickchartButtonEl.classList.remove('colab-df-spinner');\n",
              "      quickchartButtonEl.classList.add('colab-df-quickchart-complete');\n",
              "    }\n",
              "    (() => {\n",
              "      let quickchartButtonEl =\n",
              "        document.querySelector('#df-369904ed-fd88-4be8-84ee-a8302eca24f2 button');\n",
              "      quickchartButtonEl.style.display =\n",
              "        google.colab.kernel.accessAllowed ? 'block' : 'none';\n",
              "    })();\n",
              "  </script>\n",
              "</div>\n",
              "    </div>\n",
              "  </div>\n"
            ],
            "application/vnd.google.colaboratory.intrinsic+json": {
              "type": "dataframe",
              "summary": "{\n  \"name\": \"pos_df\",\n  \"rows\": 17,\n  \"fields\": [\n    {\n      \"column\": \"rus\",\n      \"properties\": {\n        \"dtype\": \"number\",\n        \"std\": 0.06748434567931073,\n        \"min\": 0.0002,\n        \"max\": 0.238,\n        \"num_unique_values\": 17,\n        \"samples\": [\n          0.0965,\n          0.0928,\n          0.0272\n        ],\n        \"semantic_type\": \"\",\n        \"description\": \"\"\n      }\n    },\n    {\n      \"column\": \"eng\",\n      \"properties\": {\n        \"dtype\": \"number\",\n        \"std\": 0.04653167959446932,\n        \"min\": 0.0018,\n        \"max\": 0.1692,\n        \"num_unique_values\": 17,\n        \"samples\": [\n          0.066,\n          0.0858,\n          0.0789\n        ],\n        \"semantic_type\": \"\",\n        \"description\": \"\"\n      }\n    },\n    {\n      \"column\": \"chi\",\n      \"properties\": {\n        \"dtype\": \"number\",\n        \"std\": 0.0715941492433729,\n        \"min\": 0.0,\n        \"max\": 0.2761,\n        \"num_unique_values\": 17,\n        \"samples\": [\n          0.0246,\n          0.0457,\n          0.0108\n        ],\n        \"semantic_type\": \"\",\n        \"description\": \"\"\n      }\n    }\n  ]\n}"
            }
          },
          "metadata": {},
          "execution_count": 35
        }
      ]
    },
    {
      "cell_type": "code",
      "source": [
        "for lang in languages:\n",
        "    print(lang)\n",
        "    print(pos_df[lang].sort_values(ascending=False)[:5].round(2))"
      ],
      "metadata": {
        "colab": {
          "base_uri": "https://localhost:8080/"
        },
        "id": "y45YlECDKSKZ",
        "outputId": "27b0decf-2bb1-4df2-9ae4-ca930834fe65"
      },
      "execution_count": null,
      "outputs": [
        {
          "output_type": "stream",
          "name": "stdout",
          "text": [
            "rus\n",
            "NOUN     0.24\n",
            "PUNCT    0.18\n",
            "VERB     0.11\n",
            "ADJ      0.10\n",
            "ADP      0.09\n",
            "Name: rus, dtype: float64\n",
            "eng\n",
            "NOUN     0.17\n",
            "PUNCT    0.12\n",
            "VERB     0.11\n",
            "PRON     0.09\n",
            "ADP      0.09\n",
            "Name: eng, dtype: float64\n",
            "chi\n",
            "NOUN     0.28\n",
            "VERB     0.15\n",
            "PUNCT    0.14\n",
            "PROPN    0.09\n",
            "PART     0.08\n",
            "Name: chi, dtype: float64\n"
          ]
        }
      ]
    },
    {
      "cell_type": "markdown",
      "source": [
        "# Тип связи"
      ],
      "metadata": {
        "id": "8-JcOKtBE1sC"
      }
    },
    {
      "cell_type": "code",
      "source": [
        "for lang in languages:\n",
        "  print(lang, len(set(node_df_dict[lang]['relation'])))"
      ],
      "metadata": {
        "colab": {
          "base_uri": "https://localhost:8080/"
        },
        "id": "ZSbCu2wpNXQd",
        "outputId": "88925b61-499a-48f4-a2a4-1dfe1035a84b"
      },
      "execution_count": null,
      "outputs": [
        {
          "output_type": "stream",
          "name": "stdout",
          "text": [
            "rus 45\n",
            "eng 52\n",
            "chi 43\n"
          ]
        }
      ]
    },
    {
      "cell_type": "code",
      "source": [
        "from matplotlib_venn import venn3_unweighted, venn3_circles\n",
        "\n",
        "relations_set = [set(node_df_dict[lang]['relation']) for lang in languages]\n",
        "\n",
        "venn3_unweighted(relations_set,\n",
        "      set_colors=('#ffffff', '#ffffff', '#ffffff'),\n",
        "      set_labels = [lang_russian_title[lang] for lang in languages],\n",
        "      alpha=0.75)\n",
        "venn3_circles((1,1,1,1,1,1,1), lw=0.7)\n",
        "\n",
        "plt.show()"
      ],
      "metadata": {
        "colab": {
          "base_uri": "https://localhost:8080/",
          "height": 428
        },
        "id": "XCQ2Q48WE8mQ",
        "outputId": "1ae2f9a0-97e8-4207-c275-01c5d17fbc25"
      },
      "execution_count": null,
      "outputs": [
        {
          "output_type": "display_data",
          "data": {
            "text/plain": [
              "<Figure size 640x480 with 1 Axes>"
            ],
            "image/png": "[encoded data removed]"
          },
          "metadata": {}
        }
      ]
    },
    {
      "cell_type": "code",
      "source": [
        "relative_relation_rate = {}\n",
        "for lang, node_df in node_df_dict.items():\n",
        "  node_amount = len(node_df)\n",
        "  relative_relation_rate[lang] = {i: (j / node_amount) for i, j in node_df.groupby('relation').size().items()}"
      ],
      "metadata": {
        "id": "S_ukSo3bMOV1"
      },
      "execution_count": null,
      "outputs": []
    },
    {
      "cell_type": "code",
      "source": [
        "relation_set = {r for lang in languages for r in relative_relation_rate[lang]}"
      ],
      "metadata": {
        "id": "vYnGixB0Mgnp"
      },
      "execution_count": null,
      "outputs": []
    },
    {
      "cell_type": "code",
      "source": [
        "relation_df_list = []\n",
        "relation_rows = list(relation_set)\n",
        "for relation in relation_rows:\n",
        "  relation_df_list.append([relative_relation_rate[lang].get(relation) for lang in languages])\n",
        "relation_df = pd.DataFrame(relation_df_list, relation_rows, languages)"
      ],
      "metadata": {
        "id": "gXQB6XVcMXTH"
      },
      "execution_count": null,
      "outputs": []
    },
    {
      "cell_type": "code",
      "source": [
        "for lang in languages:\n",
        "    print(lang)\n",
        "    print(relation_df[lang].sort_values(ascending=False)[:5].round(2))"
      ],
      "metadata": {
        "colab": {
          "base_uri": "https://localhost:8080/"
        },
        "id": "OSneZBipMOYf",
        "outputId": "7c96ff38-44b6-4781-eecb-4b565c3ee695"
      },
      "execution_count": null,
      "outputs": [
        {
          "output_type": "stream",
          "name": "stdout",
          "text": [
            "rus\n",
            "punct    0.18\n",
            "case     0.09\n",
            "nmod     0.08\n",
            "obl      0.08\n",
            "amod     0.08\n",
            "Name: rus, dtype: float64\n",
            "eng\n",
            "punct    0.12\n",
            "case     0.08\n",
            "nsubj    0.08\n",
            "det      0.08\n",
            "root     0.07\n",
            "Name: eng, dtype: float64\n",
            "chi\n",
            "punct    0.14\n",
            "nmod     0.13\n",
            "nsubj    0.08\n",
            "case     0.07\n",
            "obj      0.06\n",
            "Name: chi, dtype: float64\n"
          ]
        }
      ]
    },
    {
      "cell_type": "code",
      "source": [
        "[relation_df[lang] > 0.001 for lang in languages][0]"
      ],
      "metadata": {
        "colab": {
          "base_uri": "https://localhost:8080/"
        },
        "id": "dcrRprVvZsa8",
        "outputId": "bab6091d-de8f-4900-a182-b268ead93f88"
      },
      "execution_count": null,
      "outputs": [
        {
          "output_type": "execute_result",
          "data": {
            "text/plain": [
              "cc               True\n",
              "det:predet      False\n",
              "obl:patient     False\n",
              "root             True\n",
              "compound:ext    False\n",
              "                ...  \n",
              "mark             True\n",
              "mark:adv        False\n",
              "acl              True\n",
              "discourse       False\n",
              "cc:preconj      False\n",
              "Name: rus, Length: 63, dtype: bool"
            ]
          },
          "metadata": {},
          "execution_count": 43
        }
      ]
    },
    {
      "cell_type": "code",
      "source": [
        "relation_df[((relation_df['rus'] > 0.05) | (relation_df['eng'] > 0.05) | (relation_df['chi'] > 0.05))].round(3)"
      ],
      "metadata": {
        "colab": {
          "base_uri": "https://localhost:8080/",
          "height": 414
        },
        "id": "o0uk6B-MZfOt",
        "outputId": "19259e6f-6496-48a5-b72b-67bb04b8c3f2"
      },
      "execution_count": null,
      "outputs": [
        {
          "output_type": "execute_result",
          "data": {
            "text/plain": [
              "          rus    eng    chi\n",
              "root    0.058  0.065  0.041\n",
              "advmod  0.064  0.055  0.026\n",
              "nummod  0.006  0.012  0.051\n",
              "obl     0.081  0.042  0.027\n",
              "punct   0.184  0.116  0.138\n",
              "amod    0.080  0.048  0.017\n",
              "nmod    0.082  0.033  0.132\n",
              "obj     0.033  0.048  0.063\n",
              "nsubj   0.068  0.078  0.076\n",
              "det     0.025  0.076  0.012\n",
              "case    0.092  0.084  0.074"
            ],
            "text/html": [
              "\n",
              "  <div id=\"df-6e4b1234-d244-44d8-a553-bf9c926f09d6\" class=\"colab-df-container\">\n",
              "    <div>\n",
              "<style scoped>\n",
              "    .dataframe tbody tr th:only-of-type {\n",
              "        vertical-align: middle;\n",
              "    }\n",
              "\n",
              "    .dataframe tbody tr th {\n",
              "        vertical-align: top;\n",
              "    }\n",
              "\n",
              "    .dataframe thead th {\n",
              "        text-align: right;\n",
              "    }\n",
              "</style>\n",
              "<table border=\"1\" class=\"dataframe\">\n",
              "  <thead>\n",
              "    <tr style=\"text-align: right;\">\n",
              "      <th></th>\n",
              "      <th>rus</th>\n",
              "      <th>eng</th>\n",
              "      <th>chi</th>\n",
              "    </tr>\n",
              "  </thead>\n",
              "  <tbody>\n",
              "    <tr>\n",
              "      <th>root</th>\n",
              "      <td>0.058</td>\n",
              "      <td>0.065</td>\n",
              "      <td>0.041</td>\n",
              "    </tr>\n",
              "    <tr>\n",
              "      <th>advmod</th>\n",
              "      <td>0.064</td>\n",
              "      <td>0.055</td>\n",
              "      <td>0.026</td>\n",
              "    </tr>\n",
              "    <tr>\n",
              "      <th>nummod</th>\n",
              "      <td>0.006</td>\n",
              "      <td>0.012</td>\n",
              "      <td>0.051</td>\n",
              "    </tr>\n",
              "    <tr>\n",
              "      <th>obl</th>\n",
              "      <td>0.081</td>\n",
              "      <td>0.042</td>\n",
              "      <td>0.027</td>\n",
              "    </tr>\n",
              "    <tr>\n",
              "      <th>punct</th>\n",
              "      <td>0.184</td>\n",
              "      <td>0.116</td>\n",
              "      <td>0.138</td>\n",
              "    </tr>\n",
              "    <tr>\n",
              "      <th>amod</th>\n",
              "      <td>0.080</td>\n",
              "      <td>0.048</td>\n",
              "      <td>0.017</td>\n",
              "    </tr>\n",
              "    <tr>\n",
              "      <th>nmod</th>\n",
              "      <td>0.082</td>\n",
              "      <td>0.033</td>\n",
              "      <td>0.132</td>\n",
              "    </tr>\n",
              "    <tr>\n",
              "      <th>obj</th>\n",
              "      <td>0.033</td>\n",
              "      <td>0.048</td>\n",
              "      <td>0.063</td>\n",
              "    </tr>\n",
              "    <tr>\n",
              "      <th>nsubj</th>\n",
              "      <td>0.068</td>\n",
              "      <td>0.078</td>\n",
              "      <td>0.076</td>\n",
              "    </tr>\n",
              "    <tr>\n",
              "      <th>det</th>\n",
              "      <td>0.025</td>\n",
              "      <td>0.076</td>\n",
              "      <td>0.012</td>\n",
              "    </tr>\n",
              "    <tr>\n",
              "      <th>case</th>\n",
              "      <td>0.092</td>\n",
              "      <td>0.084</td>\n",
              "      <td>0.074</td>\n",
              "    </tr>\n",
              "  </tbody>\n",
              "</table>\n",
              "</div>\n",
              "    <div class=\"colab-df-buttons\">\n",
              "\n",
              "  <div class=\"colab-df-container\">\n",
              "    <button class=\"colab-df-convert\" onclick=\"convertToInteractive('df-6e4b1234-d244-44d8-a553-bf9c926f09d6')\"\n",
              "            title=\"Convert this dataframe to an interactive table.\"\n",
              "            style=\"display:none;\">\n",
              "\n",
              "  <svg xmlns=\"http://www.w3.org/2000/svg\" height=\"24px\" viewBox=\"0 -960 960 960\">\n",
              "    <path d=\"M120-120v-720h720v720H120Zm60-500h600v-160H180v160Zm220 220h160v-160H400v160Zm0 220h160v-160H400v160ZM180-400h160v-160H180v160Zm440 0h160v-160H620v160ZM180-180h160v-160H180v160Zm440 0h160v-160H620v160Z\"/>\n",
              "  </svg>\n",
              "    </button>\n",
              "\n",
              "  <style>\n",
              "    .colab-df-container {\n",
              "      display:flex;\n",
              "      gap: 12px;\n",
              "    }\n",
              "\n",
              "    .colab-df-convert {\n",
              "      background-color: #E8F0FE;\n",
              "      border: none;\n",
              "      border-radius: 50%;\n",
              "      cursor: pointer;\n",
              "      display: none;\n",
              "      fill: #1967D2;\n",
              "      height: 32px;\n",
              "      padding: 0 0 0 0;\n",
              "      width: 32px;\n",
              "    }\n",
              "\n",
              "    .colab-df-convert:hover {\n",
              "      background-color: #E2EBFA;\n",
              "      box-shadow: 0px 1px 2px rgba(60, 64, 67, 0.3), 0px 1px 3px 1px rgba(60, 64, 67, 0.15);\n",
              "      fill: #174EA6;\n",
              "    }\n",
              "\n",
              "    .colab-df-buttons div {\n",
              "      margin-bottom: 4px;\n",
              "    }\n",
              "\n",
              "    [theme=dark] .colab-df-convert {\n",
              "      background-color: #3B4455;\n",
              "      fill: #D2E3FC;\n",
              "    }\n",
              "\n",
              "    [theme=dark] .colab-df-convert:hover {\n",
              "      background-color: #434B5C;\n",
              "      box-shadow: 0px 1px 3px 1px rgba(0, 0, 0, 0.15);\n",
              "      filter: drop-shadow(0px 1px 2px rgba(0, 0, 0, 0.3));\n",
              "      fill: #FFFFFF;\n",
              "    }\n",
              "  </style>\n",
              "\n",
              "    <script>\n",
              "      const buttonEl =\n",
              "        document.querySelector('#df-6e4b1234-d244-44d8-a553-bf9c926f09d6 button.colab-df-convert');\n",
              "      buttonEl.style.display =\n",
              "        google.colab.kernel.accessAllowed ? 'block' : 'none';\n",
              "\n",
              "      async function convertToInteractive(key) {\n",
              "        const element = document.querySelector('#df-6e4b1234-d244-44d8-a553-bf9c926f09d6');\n",
              "        const dataTable =\n",
              "          await google.colab.kernel.invokeFunction('convertToInteractive',\n",
              "                                                    [key], {});\n",
              "        if (!dataTable) return;\n",
              "\n",
              "        const docLinkHtml = 'Like what you see? Visit the ' +\n",
              "          '<a target=\"_blank\" href=https://colab.research.google.com/notebooks/data_table.ipynb>data table notebook</a>'\n",
              "          + ' to learn more about interactive tables.';\n",
              "        element.innerHTML = '';\n",
              "        dataTable['output_type'] = 'display_data';\n",
              "        await google.colab.output.renderOutput(dataTable, element);\n",
              "        const docLink = document.createElement('div');\n",
              "        docLink.innerHTML = docLinkHtml;\n",
              "        element.appendChild(docLink);\n",
              "      }\n",
              "    </script>\n",
              "  </div>\n",
              "\n",
              "\n",
              "<div id=\"df-d78e3fc3-58e1-4fea-81d4-b940a446ca23\">\n",
              "  <button class=\"colab-df-quickchart\" onclick=\"quickchart('df-d78e3fc3-58e1-4fea-81d4-b940a446ca23')\"\n",
              "            title=\"Suggest charts\"\n",
              "            style=\"display:none;\">\n",
              "\n",
              "<svg xmlns=\"http://www.w3.org/2000/svg\" height=\"24px\"viewBox=\"0 0 24 24\"\n",
              "     width=\"24px\">\n",
              "    <g>\n",
              "        <path d=\"M19 3H5c-1.1 0-2 .9-2 2v14c0 1.1.9 2 2 2h14c1.1 0 2-.9 2-2V5c0-1.1-.9-2-2-2zM9 17H7v-7h2v7zm4 0h-2V7h2v10zm4 0h-2v-4h2v4z\"/>\n",
              "    </g>\n",
              "</svg>\n",
              "  </button>\n",
              "\n",
              "<style>\n",
              "  .colab-df-quickchart {\n",
              "      --bg-color: #E8F0FE;\n",
              "      --fill-color: #1967D2;\n",
              "      --hover-bg-color: #E2EBFA;\n",
              "      --hover-fill-color: #174EA6;\n",
              "      --disabled-fill-color: #AAA;\n",
              "      --disabled-bg-color: #DDD;\n",
              "  }\n",
              "\n",
              "  [theme=dark] .colab-df-quickchart {\n",
              "      --bg-color: #3B4455;\n",
              "      --fill-color: #D2E3FC;\n",
              "      --hover-bg-color: #434B5C;\n",
              "      --hover-fill-color: #FFFFFF;\n",
              "      --disabled-bg-color: #3B4455;\n",
              "      --disabled-fill-color: #666;\n",
              "  }\n",
              "\n",
              "  .colab-df-quickchart {\n",
              "    background-color: var(--bg-color);\n",
              "    border: none;\n",
              "    border-radius: 50%;\n",
              "    cursor: pointer;\n",
              "    display: none;\n",
              "    fill: var(--fill-color);\n",
              "    height: 32px;\n",
              "    padding: 0;\n",
              "    width: 32px;\n",
              "  }\n",
              "\n",
              "  .colab-df-quickchart:hover {\n",
              "    background-color: var(--hover-bg-color);\n",
              "    box-shadow: 0 1px 2px rgba(60, 64, 67, 0.3), 0 1px 3px 1px rgba(60, 64, 67, 0.15);\n",
              "    fill: var(--button-hover-fill-color);\n",
              "  }\n",
              "\n",
              "  .colab-df-quickchart-complete:disabled,\n",
              "  .colab-df-quickchart-complete:disabled:hover {\n",
              "    background-color: var(--disabled-bg-color);\n",
              "    fill: var(--disabled-fill-color);\n",
              "    box-shadow: none;\n",
              "  }\n",
              "\n",
              "  .colab-df-spinner {\n",
              "    border: 2px solid var(--fill-color);\n",
              "    border-color: transparent;\n",
              "    border-bottom-color: var(--fill-color);\n",
              "    animation:\n",
              "      spin 1s steps(1) infinite;\n",
              "  }\n",
              "\n",
              "  @keyframes spin {\n",
              "    0% {\n",
              "      border-color: transparent;\n",
              "      border-bottom-color: var(--fill-color);\n",
              "      border-left-color: var(--fill-color);\n",
              "    }\n",
              "    20% {\n",
              "      border-color: transparent;\n",
              "      border-left-color: var(--fill-color);\n",
              "      border-top-color: var(--fill-color);\n",
              "    }\n",
              "    30% {\n",
              "      border-color: transparent;\n",
              "      border-left-color: var(--fill-color);\n",
              "      border-top-color: var(--fill-color);\n",
              "      border-right-color: var(--fill-color);\n",
              "    }\n",
              "    40% {\n",
              "      border-color: transparent;\n",
              "      border-right-color: var(--fill-color);\n",
              "      border-top-color: var(--fill-color);\n",
              "    }\n",
              "    60% {\n",
              "      border-color: transparent;\n",
              "      border-right-color: var(--fill-color);\n",
              "    }\n",
              "    80% {\n",
              "      border-color: transparent;\n",
              "      border-right-color: var(--fill-color);\n",
              "      border-bottom-color: var(--fill-color);\n",
              "    }\n",
              "    90% {\n",
              "      border-color: transparent;\n",
              "      border-bottom-color: var(--fill-color);\n",
              "    }\n",
              "  }\n",
              "</style>\n",
              "\n",
              "  <script>\n",
              "    async function quickchart(key) {\n",
              "      const quickchartButtonEl =\n",
              "        document.querySelector('#' + key + ' button');\n",
              "      quickchartButtonEl.disabled = true;  // To prevent multiple clicks.\n",
              "      quickchartButtonEl.classList.add('colab-df-spinner');\n",
              "      try {\n",
              "        const charts = await google.colab.kernel.invokeFunction(\n",
              "            'suggestCharts', [key], {});\n",
              "      } catch (error) {\n",
              "        console.error('Error during call to suggestCharts:', error);\n",
              "      }\n",
              "      quickchartButtonEl.classList.remove('colab-df-spinner');\n",
              "      quickchartButtonEl.classList.add('colab-df-quickchart-complete');\n",
              "    }\n",
              "    (() => {\n",
              "      let quickchartButtonEl =\n",
              "        document.querySelector('#df-d78e3fc3-58e1-4fea-81d4-b940a446ca23 button');\n",
              "      quickchartButtonEl.style.display =\n",
              "        google.colab.kernel.accessAllowed ? 'block' : 'none';\n",
              "    })();\n",
              "  </script>\n",
              "</div>\n",
              "    </div>\n",
              "  </div>\n"
            ],
            "application/vnd.google.colaboratory.intrinsic+json": {
              "type": "dataframe",
              "summary": "{\n  \"name\": \"relation_df[((relation_df['rus'] > 0\",\n  \"rows\": 11,\n  \"fields\": [\n    {\n      \"column\": \"rus\",\n      \"properties\": {\n        \"dtype\": \"number\",\n        \"std\": 0.04638769429297151,\n        \"min\": 0.006,\n        \"max\": 0.184,\n        \"num_unique_values\": 11,\n        \"samples\": [\n          0.08,\n          0.058,\n          0.025\n        ],\n        \"semantic_type\": \"\",\n        \"description\": \"\"\n      }\n    },\n    {\n      \"column\": \"eng\",\n      \"properties\": {\n        \"dtype\": \"number\",\n        \"std\": 0.028259833365010874,\n        \"min\": 0.012,\n        \"max\": 0.116,\n        \"num_unique_values\": 10,\n        \"samples\": [\n          0.076,\n          0.055,\n          0.048\n        ],\n        \"semantic_type\": \"\",\n        \"description\": \"\"\n      }\n    },\n    {\n      \"column\": \"chi\",\n      \"properties\": {\n        \"dtype\": \"number\",\n        \"std\": 0.043090813195136864,\n        \"min\": 0.012,\n        \"max\": 0.138,\n        \"num_unique_values\": 11,\n        \"samples\": [\n          0.017,\n          0.041,\n          0.012\n        ],\n        \"semantic_type\": \"\",\n        \"description\": \"\"\n      }\n    }\n  ]\n}"
            }
          },
          "metadata": {},
          "execution_count": 44
        }
      ]
    },
    {
      "cell_type": "code",
      "source": [
        "pd.set_option('display.max_rows', None)\n",
        "relation_df.round(6)"
      ],
      "metadata": {
        "colab": {
          "base_uri": "https://localhost:8080/",
          "height": 1000
        },
        "id": "eMt8JedBPtVL",
        "outputId": "aee27828-59d4-4260-cd04-320f6ee8571b"
      },
      "execution_count": null,
      "outputs": [
        {
          "output_type": "execute_result",
          "data": {
            "text/plain": [
              "                    rus       eng       chi\n",
              "cc             0.036829  0.032488  0.014162\n",
              "det:predet          NaN  0.000875       NaN\n",
              "obl:patient         NaN       NaN  0.001590\n",
              "root           0.058046  0.065378  0.040530\n",
              "compound:ext        NaN       NaN  0.000203\n",
              "obl:npmod           NaN  0.002188       NaN\n",
              "appos          0.007995  0.007479  0.011006\n",
              "compound:prt        NaN  0.003572       NaN\n",
              "advmod         0.064109  0.054646  0.025833\n",
              "list           0.000008  0.003020       NaN\n",
              "conj           0.047012  0.036572  0.026174\n",
              "nsubj:outer    0.000005  0.000946       NaN\n",
              "nummod         0.006442  0.011532  0.050636\n",
              "obl            0.080775  0.042431  0.026879\n",
              "nmod:desc           NaN  0.000032       NaN\n",
              "punct          0.184497  0.116420  0.138412\n",
              "orphan         0.000001       NaN  0.000016\n",
              "nummod:entity  0.000244       NaN       NaN\n",
              "obl:agent      0.000408  0.001463       NaN\n",
              "advcl:relcl         NaN  0.000473       NaN\n",
              "clf                 NaN       NaN  0.018225\n",
              "aux:pass       0.002266  0.006419  0.003447\n",
              "amod           0.079700  0.048065  0.016587\n",
              "dislocated     0.000008  0.000024  0.000503\n",
              "csubj:outer         NaN  0.000035       NaN\n",
              "fixed          0.009191  0.002657       NaN\n",
              "flat:foreign   0.001613       NaN  0.002636\n",
              "nmod           0.082045  0.033197  0.131648\n",
              "mark:rel            NaN       NaN  0.019685\n",
              "obj            0.032932  0.048164  0.062835\n",
              "compound       0.001123  0.037538  0.045129\n",
              "parataxis      0.020557  0.007992  0.018833\n",
              "expl           0.000674  0.002969       NaN\n",
              "ccomp          0.005570  0.009940  0.017528\n",
              "advcl          0.010412  0.017841  0.032638\n",
              "nsubj:pass     0.006303  0.005658  0.002230\n",
              "vocative       0.000141  0.000718  0.000008\n",
              "discourse:sp        NaN       NaN  0.000065\n",
              "csubj          0.005406  0.001360  0.003033\n",
              "flat           0.000831  0.008315       NaN\n",
              "cop            0.004720  0.023246  0.013221\n",
              "nmod:npmod          NaN  0.000627       NaN\n",
              "obl:tmod       0.000543  0.002724       NaN\n",
              "reparandum          NaN  0.000177  0.000008\n",
              "csubj:pass     0.000144  0.000032  0.000049\n",
              "xcomp          0.010838  0.015014  0.015605\n",
              "iobj           0.008767  0.003115  0.000633\n",
              "goeswith            NaN  0.000662       NaN\n",
              "nummod:gov     0.002311       NaN       NaN\n",
              "flat:name      0.005134       NaN  0.009863\n",
              "aux            0.002124  0.031707  0.014819\n",
              "acl:relcl      0.006369  0.009151  0.014413\n",
              "nmod:poss           NaN  0.017521       NaN\n",
              "nsubj          0.067931  0.078097  0.076445\n",
              "dep            0.000003  0.000020       NaN\n",
              "det            0.025146  0.076311  0.012239\n",
              "case           0.091784  0.083999  0.073558\n",
              "nmod:tmod           NaN  0.001530  0.013099\n",
              "mark           0.017629  0.033880  0.036905\n",
              "mark:adv            NaN       NaN  0.000844\n",
              "acl            0.010603  0.007203  0.006294\n",
              "discourse      0.000811  0.004199  0.001533\n",
              "cc:preconj          NaN  0.000378       NaN"
            ],
            "text/html": [
              "\n",
              "  <div id=\"df-de33ca7d-d162-4b34-8986-a0e13da74af4\" class=\"colab-df-container\">\n",
              "    <div>\n",
              "<style scoped>\n",
              "    .dataframe tbody tr th:only-of-type {\n",
              "        vertical-align: middle;\n",
              "    }\n",
              "\n",
              "    .dataframe tbody tr th {\n",
              "        vertical-align: top;\n",
              "    }\n",
              "\n",
              "    .dataframe thead th {\n",
              "        text-align: right;\n",
              "    }\n",
              "</style>\n",
              "<table border=\"1\" class=\"dataframe\">\n",
              "  <thead>\n",
              "    <tr style=\"text-align: right;\">\n",
              "      <th></th>\n",
              "      <th>rus</th>\n",
              "      <th>eng</th>\n",
              "      <th>chi</th>\n",
              "    </tr>\n",
              "  </thead>\n",
              "  <tbody>\n",
              "    <tr>\n",
              "      <th>cc</th>\n",
              "      <td>0.036829</td>\n",
              "      <td>0.032488</td>\n",
              "      <td>0.014162</td>\n",
              "    </tr>\n",
              "    <tr>\n",
              "      <th>det:predet</th>\n",
              "      <td>NaN</td>\n",
              "      <td>0.000875</td>\n",
              "      <td>NaN</td>\n",
              "    </tr>\n",
              "    <tr>\n",
              "      <th>obl:patient</th>\n",
              "      <td>NaN</td>\n",
              "      <td>NaN</td>\n",
              "      <td>0.001590</td>\n",
              "    </tr>\n",
              "    <tr>\n",
              "      <th>root</th>\n",
              "      <td>0.058046</td>\n",
              "      <td>0.065378</td>\n",
              "      <td>0.040530</td>\n",
              "    </tr>\n",
              "    <tr>\n",
              "      <th>compound:ext</th>\n",
              "      <td>NaN</td>\n",
              "      <td>NaN</td>\n",
              "      <td>0.000203</td>\n",
              "    </tr>\n",
              "    <tr>\n",
              "      <th>obl:npmod</th>\n",
              "      <td>NaN</td>\n",
              "      <td>0.002188</td>\n",
              "      <td>NaN</td>\n",
              "    </tr>\n",
              "    <tr>\n",
              "      <th>appos</th>\n",
              "      <td>0.007995</td>\n",
              "      <td>0.007479</td>\n",
              "      <td>0.011006</td>\n",
              "    </tr>\n",
              "    <tr>\n",
              "      <th>compound:prt</th>\n",
              "      <td>NaN</td>\n",
              "      <td>0.003572</td>\n",
              "      <td>NaN</td>\n",
              "    </tr>\n",
              "    <tr>\n",
              "      <th>advmod</th>\n",
              "      <td>0.064109</td>\n",
              "      <td>0.054646</td>\n",
              "      <td>0.025833</td>\n",
              "    </tr>\n",
              "    <tr>\n",
              "      <th>list</th>\n",
              "      <td>0.000008</td>\n",
              "      <td>0.003020</td>\n",
              "      <td>NaN</td>\n",
              "    </tr>\n",
              "    <tr>\n",
              "      <th>conj</th>\n",
              "      <td>0.047012</td>\n",
              "      <td>0.036572</td>\n",
              "      <td>0.026174</td>\n",
              "    </tr>\n",
              "    <tr>\n",
              "      <th>nsubj:outer</th>\n",
              "      <td>0.000005</td>\n",
              "      <td>0.000946</td>\n",
              "      <td>NaN</td>\n",
              "    </tr>\n",
              "    <tr>\n",
              "      <th>nummod</th>\n",
              "      <td>0.006442</td>\n",
              "      <td>0.011532</td>\n",
              "      <td>0.050636</td>\n",
              "    </tr>\n",
              "    <tr>\n",
              "      <th>obl</th>\n",
              "      <td>0.080775</td>\n",
              "      <td>0.042431</td>\n",
              "      <td>0.026879</td>\n",
              "    </tr>\n",
              "    <tr>\n",
              "      <th>nmod:desc</th>\n",
              "      <td>NaN</td>\n",
              "      <td>0.000032</td>\n",
              "      <td>NaN</td>\n",
              "    </tr>\n",
              "    <tr>\n",
              "      <th>punct</th>\n",
              "      <td>0.184497</td>\n",
              "      <td>0.116420</td>\n",
              "      <td>0.138412</td>\n",
              "    </tr>\n",
              "    <tr>\n",
              "      <th>orphan</th>\n",
              "      <td>0.000001</td>\n",
              "      <td>NaN</td>\n",
              "      <td>0.000016</td>\n",
              "    </tr>\n",
              "    <tr>\n",
              "      <th>nummod:entity</th>\n",
              "      <td>0.000244</td>\n",
              "      <td>NaN</td>\n",
              "      <td>NaN</td>\n",
              "    </tr>\n",
              "    <tr>\n",
              "      <th>obl:agent</th>\n",
              "      <td>0.000408</td>\n",
              "      <td>0.001463</td>\n",
              "      <td>NaN</td>\n",
              "    </tr>\n",
              "    <tr>\n",
              "      <th>advcl:relcl</th>\n",
              "      <td>NaN</td>\n",
              "      <td>0.000473</td>\n",
              "      <td>NaN</td>\n",
              "    </tr>\n",
              "    <tr>\n",
              "      <th>clf</th>\n",
              "      <td>NaN</td>\n",
              "      <td>NaN</td>\n",
              "      <td>0.018225</td>\n",
              "    </tr>\n",
              "    <tr>\n",
              "      <th>aux:pass</th>\n",
              "      <td>0.002266</td>\n",
              "      <td>0.006419</td>\n",
              "      <td>0.003447</td>\n",
              "    </tr>\n",
              "    <tr>\n",
              "      <th>amod</th>\n",
              "      <td>0.079700</td>\n",
              "      <td>0.048065</td>\n",
              "      <td>0.016587</td>\n",
              "    </tr>\n",
              "    <tr>\n",
              "      <th>dislocated</th>\n",
              "      <td>0.000008</td>\n",
              "      <td>0.000024</td>\n",
              "      <td>0.000503</td>\n",
              "    </tr>\n",
              "    <tr>\n",
              "      <th>csubj:outer</th>\n",
              "      <td>NaN</td>\n",
              "      <td>0.000035</td>\n",
              "      <td>NaN</td>\n",
              "    </tr>\n",
              "    <tr>\n",
              "      <th>fixed</th>\n",
              "      <td>0.009191</td>\n",
              "      <td>0.002657</td>\n",
              "      <td>NaN</td>\n",
              "    </tr>\n",
              "    <tr>\n",
              "      <th>flat:foreign</th>\n",
              "      <td>0.001613</td>\n",
              "      <td>NaN</td>\n",
              "      <td>0.002636</td>\n",
              "    </tr>\n",
              "    <tr>\n",
              "      <th>nmod</th>\n",
              "      <td>0.082045</td>\n",
              "      <td>0.033197</td>\n",
              "      <td>0.131648</td>\n",
              "    </tr>\n",
              "    <tr>\n",
              "      <th>mark:rel</th>\n",
              "      <td>NaN</td>\n",
              "      <td>NaN</td>\n",
              "      <td>0.019685</td>\n",
              "    </tr>\n",
              "    <tr>\n",
              "      <th>obj</th>\n",
              "      <td>0.032932</td>\n",
              "      <td>0.048164</td>\n",
              "      <td>0.062835</td>\n",
              "    </tr>\n",
              "    <tr>\n",
              "      <th>compound</th>\n",
              "      <td>0.001123</td>\n",
              "      <td>0.037538</td>\n",
              "      <td>0.045129</td>\n",
              "    </tr>\n",
              "    <tr>\n",
              "      <th>parataxis</th>\n",
              "      <td>0.020557</td>\n",
              "      <td>0.007992</td>\n",
              "      <td>0.018833</td>\n",
              "    </tr>\n",
              "    <tr>\n",
              "      <th>expl</th>\n",
              "      <td>0.000674</td>\n",
              "      <td>0.002969</td>\n",
              "      <td>NaN</td>\n",
              "    </tr>\n",
              "    <tr>\n",
              "      <th>ccomp</th>\n",
              "      <td>0.005570</td>\n",
              "      <td>0.009940</td>\n",
              "      <td>0.017528</td>\n",
              "    </tr>\n",
              "    <tr>\n",
              "      <th>advcl</th>\n",
              "      <td>0.010412</td>\n",
              "      <td>0.017841</td>\n",
              "      <td>0.032638</td>\n",
              "    </tr>\n",
              "    <tr>\n",
              "      <th>nsubj:pass</th>\n",
              "      <td>0.006303</td>\n",
              "      <td>0.005658</td>\n",
              "      <td>0.002230</td>\n",
              "    </tr>\n",
              "    <tr>\n",
              "      <th>vocative</th>\n",
              "      <td>0.000141</td>\n",
              "      <td>0.000718</td>\n",
              "      <td>0.000008</td>\n",
              "    </tr>\n",
              "    <tr>\n",
              "      <th>discourse:sp</th>\n",
              "      <td>NaN</td>\n",
              "      <td>NaN</td>\n",
              "      <td>0.000065</td>\n",
              "    </tr>\n",
              "    <tr>\n",
              "      <th>csubj</th>\n",
              "      <td>0.005406</td>\n",
              "      <td>0.001360</td>\n",
              "      <td>0.003033</td>\n",
              "    </tr>\n",
              "    <tr>\n",
              "      <th>flat</th>\n",
              "      <td>0.000831</td>\n",
              "      <td>0.008315</td>\n",
              "      <td>NaN</td>\n",
              "    </tr>\n",
              "    <tr>\n",
              "      <th>cop</th>\n",
              "      <td>0.004720</td>\n",
              "      <td>0.023246</td>\n",
              "      <td>0.013221</td>\n",
              "    </tr>\n",
              "    <tr>\n",
              "      <th>nmod:npmod</th>\n",
              "      <td>NaN</td>\n",
              "      <td>0.000627</td>\n",
              "      <td>NaN</td>\n",
              "    </tr>\n",
              "    <tr>\n",
              "      <th>obl:tmod</th>\n",
              "      <td>0.000543</td>\n",
              "      <td>0.002724</td>\n",
              "      <td>NaN</td>\n",
              "    </tr>\n",
              "    <tr>\n",
              "      <th>reparandum</th>\n",
              "      <td>NaN</td>\n",
              "      <td>0.000177</td>\n",
              "      <td>0.000008</td>\n",
              "    </tr>\n",
              "    <tr>\n",
              "      <th>csubj:pass</th>\n",
              "      <td>0.000144</td>\n",
              "      <td>0.000032</td>\n",
              "      <td>0.000049</td>\n",
              "    </tr>\n",
              "    <tr>\n",
              "      <th>xcomp</th>\n",
              "      <td>0.010838</td>\n",
              "      <td>0.015014</td>\n",
              "      <td>0.015605</td>\n",
              "    </tr>\n",
              "    <tr>\n",
              "      <th>iobj</th>\n",
              "      <td>0.008767</td>\n",
              "      <td>0.003115</td>\n",
              "      <td>0.000633</td>\n",
              "    </tr>\n",
              "    <tr>\n",
              "      <th>goeswith</th>\n",
              "      <td>NaN</td>\n",
              "      <td>0.000662</td>\n",
              "      <td>NaN</td>\n",
              "    </tr>\n",
              "    <tr>\n",
              "      <th>nummod:gov</th>\n",
              "      <td>0.002311</td>\n",
              "      <td>NaN</td>\n",
              "      <td>NaN</td>\n",
              "    </tr>\n",
              "    <tr>\n",
              "      <th>flat:name</th>\n",
              "      <td>0.005134</td>\n",
              "      <td>NaN</td>\n",
              "      <td>0.009863</td>\n",
              "    </tr>\n",
              "    <tr>\n",
              "      <th>aux</th>\n",
              "      <td>0.002124</td>\n",
              "      <td>0.031707</td>\n",
              "      <td>0.014819</td>\n",
              "    </tr>\n",
              "    <tr>\n",
              "      <th>acl:relcl</th>\n",
              "      <td>0.006369</td>\n",
              "      <td>0.009151</td>\n",
              "      <td>0.014413</td>\n",
              "    </tr>\n",
              "    <tr>\n",
              "      <th>nmod:poss</th>\n",
              "      <td>NaN</td>\n",
              "      <td>0.017521</td>\n",
              "      <td>NaN</td>\n",
              "    </tr>\n",
              "    <tr>\n",
              "      <th>nsubj</th>\n",
              "      <td>0.067931</td>\n",
              "      <td>0.078097</td>\n",
              "      <td>0.076445</td>\n",
              "    </tr>\n",
              "    <tr>\n",
              "      <th>dep</th>\n",
              "      <td>0.000003</td>\n",
              "      <td>0.000020</td>\n",
              "      <td>NaN</td>\n",
              "    </tr>\n",
              "    <tr>\n",
              "      <th>det</th>\n",
              "      <td>0.025146</td>\n",
              "      <td>0.076311</td>\n",
              "      <td>0.012239</td>\n",
              "    </tr>\n",
              "    <tr>\n",
              "      <th>case</th>\n",
              "      <td>0.091784</td>\n",
              "      <td>0.083999</td>\n",
              "      <td>0.073558</td>\n",
              "    </tr>\n",
              "    <tr>\n",
              "      <th>nmod:tmod</th>\n",
              "      <td>NaN</td>\n",
              "      <td>0.001530</td>\n",
              "      <td>0.013099</td>\n",
              "    </tr>\n",
              "    <tr>\n",
              "      <th>mark</th>\n",
              "      <td>0.017629</td>\n",
              "      <td>0.033880</td>\n",
              "      <td>0.036905</td>\n",
              "    </tr>\n",
              "    <tr>\n",
              "      <th>mark:adv</th>\n",
              "      <td>NaN</td>\n",
              "      <td>NaN</td>\n",
              "      <td>0.000844</td>\n",
              "    </tr>\n",
              "    <tr>\n",
              "      <th>acl</th>\n",
              "      <td>0.010603</td>\n",
              "      <td>0.007203</td>\n",
              "      <td>0.006294</td>\n",
              "    </tr>\n",
              "    <tr>\n",
              "      <th>discourse</th>\n",
              "      <td>0.000811</td>\n",
              "      <td>0.004199</td>\n",
              "      <td>0.001533</td>\n",
              "    </tr>\n",
              "    <tr>\n",
              "      <th>cc:preconj</th>\n",
              "      <td>NaN</td>\n",
              "      <td>0.000378</td>\n",
              "      <td>NaN</td>\n",
              "    </tr>\n",
              "  </tbody>\n",
              "</table>\n",
              "</div>\n",
              "    <div class=\"colab-df-buttons\">\n",
              "\n",
              "  <div class=\"colab-df-container\">\n",
              "    <button class=\"colab-df-convert\" onclick=\"convertToInteractive('df-de33ca7d-d162-4b34-8986-a0e13da74af4')\"\n",
              "            title=\"Convert this dataframe to an interactive table.\"\n",
              "            style=\"display:none;\">\n",
              "\n",
              "  <svg xmlns=\"http://www.w3.org/2000/svg\" height=\"24px\" viewBox=\"0 -960 960 960\">\n",
              "    <path d=\"M120-120v-720h720v720H120Zm60-500h600v-160H180v160Zm220 220h160v-160H400v160Zm0 220h160v-160H400v160ZM180-400h160v-160H180v160Zm440 0h160v-160H620v160ZM180-180h160v-160H180v160Zm440 0h160v-160H620v160Z\"/>\n",
              "  </svg>\n",
              "    </button>\n",
              "\n",
              "  <style>\n",
              "    .colab-df-container {\n",
              "      display:flex;\n",
              "      gap: 12px;\n",
              "    }\n",
              "\n",
              "    .colab-df-convert {\n",
              "      background-color: #E8F0FE;\n",
              "      border: none;\n",
              "      border-radius: 50%;\n",
              "      cursor: pointer;\n",
              "      display: none;\n",
              "      fill: #1967D2;\n",
              "      height: 32px;\n",
              "      padding: 0 0 0 0;\n",
              "      width: 32px;\n",
              "    }\n",
              "\n",
              "    .colab-df-convert:hover {\n",
              "      background-color: #E2EBFA;\n",
              "      box-shadow: 0px 1px 2px rgba(60, 64, 67, 0.3), 0px 1px 3px 1px rgba(60, 64, 67, 0.15);\n",
              "      fill: #174EA6;\n",
              "    }\n",
              "\n",
              "    .colab-df-buttons div {\n",
              "      margin-bottom: 4px;\n",
              "    }\n",
              "\n",
              "    [theme=dark] .colab-df-convert {\n",
              "      background-color: #3B4455;\n",
              "      fill: #D2E3FC;\n",
              "    }\n",
              "\n",
              "    [theme=dark] .colab-df-convert:hover {\n",
              "      background-color: #434B5C;\n",
              "      box-shadow: 0px 1px 3px 1px rgba(0, 0, 0, 0.15);\n",
              "      filter: drop-shadow(0px 1px 2px rgba(0, 0, 0, 0.3));\n",
              "      fill: #FFFFFF;\n",
              "    }\n",
              "  </style>\n",
              "\n",
              "    <script>\n",
              "      const buttonEl =\n",
              "        document.querySelector('#df-de33ca7d-d162-4b34-8986-a0e13da74af4 button.colab-df-convert');\n",
              "      buttonEl.style.display =\n",
              "        google.colab.kernel.accessAllowed ? 'block' : 'none';\n",
              "\n",
              "      async function convertToInteractive(key) {\n",
              "        const element = document.querySelector('#df-de33ca7d-d162-4b34-8986-a0e13da74af4');\n",
              "        const dataTable =\n",
              "          await google.colab.kernel.invokeFunction('convertToInteractive',\n",
              "                                                    [key], {});\n",
              "        if (!dataTable) return;\n",
              "\n",
              "        const docLinkHtml = 'Like what you see? Visit the ' +\n",
              "          '<a target=\"_blank\" href=https://colab.research.google.com/notebooks/data_table.ipynb>data table notebook</a>'\n",
              "          + ' to learn more about interactive tables.';\n",
              "        element.innerHTML = '';\n",
              "        dataTable['output_type'] = 'display_data';\n",
              "        await google.colab.output.renderOutput(dataTable, element);\n",
              "        const docLink = document.createElement('div');\n",
              "        docLink.innerHTML = docLinkHtml;\n",
              "        element.appendChild(docLink);\n",
              "      }\n",
              "    </script>\n",
              "  </div>\n",
              "\n",
              "\n",
              "<div id=\"df-af0d5a96-7b4c-4e65-9b44-dfc749a75c97\">\n",
              "  <button class=\"colab-df-quickchart\" onclick=\"quickchart('df-af0d5a96-7b4c-4e65-9b44-dfc749a75c97')\"\n",
              "            title=\"Suggest charts\"\n",
              "            style=\"display:none;\">\n",
              "\n",
              "<svg xmlns=\"http://www.w3.org/2000/svg\" height=\"24px\"viewBox=\"0 0 24 24\"\n",
              "     width=\"24px\">\n",
              "    <g>\n",
              "        <path d=\"M19 3H5c-1.1 0-2 .9-2 2v14c0 1.1.9 2 2 2h14c1.1 0 2-.9 2-2V5c0-1.1-.9-2-2-2zM9 17H7v-7h2v7zm4 0h-2V7h2v10zm4 0h-2v-4h2v4z\"/>\n",
              "    </g>\n",
              "</svg>\n",
              "  </button>\n",
              "\n",
              "<style>\n",
              "  .colab-df-quickchart {\n",
              "      --bg-color: #E8F0FE;\n",
              "      --fill-color: #1967D2;\n",
              "      --hover-bg-color: #E2EBFA;\n",
              "      --hover-fill-color: #174EA6;\n",
              "      --disabled-fill-color: #AAA;\n",
              "      --disabled-bg-color: #DDD;\n",
              "  }\n",
              "\n",
              "  [theme=dark] .colab-df-quickchart {\n",
              "      --bg-color: #3B4455;\n",
              "      --fill-color: #D2E3FC;\n",
              "      --hover-bg-color: #434B5C;\n",
              "      --hover-fill-color: #FFFFFF;\n",
              "      --disabled-bg-color: #3B4455;\n",
              "      --disabled-fill-color: #666;\n",
              "  }\n",
              "\n",
              "  .colab-df-quickchart {\n",
              "    background-color: var(--bg-color);\n",
              "    border: none;\n",
              "    border-radius: 50%;\n",
              "    cursor: pointer;\n",
              "    display: none;\n",
              "    fill: var(--fill-color);\n",
              "    height: 32px;\n",
              "    padding: 0;\n",
              "    width: 32px;\n",
              "  }\n",
              "\n",
              "  .colab-df-quickchart:hover {\n",
              "    background-color: var(--hover-bg-color);\n",
              "    box-shadow: 0 1px 2px rgba(60, 64, 67, 0.3), 0 1px 3px 1px rgba(60, 64, 67, 0.15);\n",
              "    fill: var(--button-hover-fill-color);\n",
              "  }\n",
              "\n",
              "  .colab-df-quickchart-complete:disabled,\n",
              "  .colab-df-quickchart-complete:disabled:hover {\n",
              "    background-color: var(--disabled-bg-color);\n",
              "    fill: var(--disabled-fill-color);\n",
              "    box-shadow: none;\n",
              "  }\n",
              "\n",
              "  .colab-df-spinner {\n",
              "    border: 2px solid var(--fill-color);\n",
              "    border-color: transparent;\n",
              "    border-bottom-color: var(--fill-color);\n",
              "    animation:\n",
              "      spin 1s steps(1) infinite;\n",
              "  }\n",
              "\n",
              "  @keyframes spin {\n",
              "    0% {\n",
              "      border-color: transparent;\n",
              "      border-bottom-color: var(--fill-color);\n",
              "      border-left-color: var(--fill-color);\n",
              "    }\n",
              "    20% {\n",
              "      border-color: transparent;\n",
              "      border-left-color: var(--fill-color);\n",
              "      border-top-color: var(--fill-color);\n",
              "    }\n",
              "    30% {\n",
              "      border-color: transparent;\n",
              "      border-left-color: var(--fill-color);\n",
              "      border-top-color: var(--fill-color);\n",
              "      border-right-color: var(--fill-color);\n",
              "    }\n",
              "    40% {\n",
              "      border-color: transparent;\n",
              "      border-right-color: var(--fill-color);\n",
              "      border-top-color: var(--fill-color);\n",
              "    }\n",
              "    60% {\n",
              "      border-color: transparent;\n",
              "      border-right-color: var(--fill-color);\n",
              "    }\n",
              "    80% {\n",
              "      border-color: transparent;\n",
              "      border-right-color: var(--fill-color);\n",
              "      border-bottom-color: var(--fill-color);\n",
              "    }\n",
              "    90% {\n",
              "      border-color: transparent;\n",
              "      border-bottom-color: var(--fill-color);\n",
              "    }\n",
              "  }\n",
              "</style>\n",
              "\n",
              "  <script>\n",
              "    async function quickchart(key) {\n",
              "      const quickchartButtonEl =\n",
              "        document.querySelector('#' + key + ' button');\n",
              "      quickchartButtonEl.disabled = true;  // To prevent multiple clicks.\n",
              "      quickchartButtonEl.classList.add('colab-df-spinner');\n",
              "      try {\n",
              "        const charts = await google.colab.kernel.invokeFunction(\n",
              "            'suggestCharts', [key], {});\n",
              "      } catch (error) {\n",
              "        console.error('Error during call to suggestCharts:', error);\n",
              "      }\n",
              "      quickchartButtonEl.classList.remove('colab-df-spinner');\n",
              "      quickchartButtonEl.classList.add('colab-df-quickchart-complete');\n",
              "    }\n",
              "    (() => {\n",
              "      let quickchartButtonEl =\n",
              "        document.querySelector('#df-af0d5a96-7b4c-4e65-9b44-dfc749a75c97 button');\n",
              "      quickchartButtonEl.style.display =\n",
              "        google.colab.kernel.accessAllowed ? 'block' : 'none';\n",
              "    })();\n",
              "  </script>\n",
              "</div>\n",
              "    </div>\n",
              "  </div>\n"
            ],
            "application/vnd.google.colaboratory.intrinsic+json": {
              "type": "dataframe",
              "summary": "{\n  \"name\": \"relation_df\",\n  \"rows\": 63,\n  \"fields\": [\n    {\n      \"column\": \"rus\",\n      \"properties\": {\n        \"dtype\": \"number\",\n        \"std\": 0.03654865182869198,\n        \"min\": 1e-06,\n        \"max\": 0.184497,\n        \"num_unique_values\": 44,\n        \"samples\": [\n          0.067931,\n          0.006303,\n          0.000141\n        ],\n        \"semantic_type\": \"\",\n        \"description\": \"\"\n      }\n    },\n    {\n      \"column\": \"eng\",\n      \"properties\": {\n        \"dtype\": \"number\",\n        \"std\": 0.026626344234953664,\n        \"min\": 2e-05,\n        \"max\": 0.11642,\n        \"num_unique_values\": 51,\n        \"samples\": [\n          2e-05,\n          0.009151,\n          0.00153\n        ],\n        \"semantic_type\": \"\",\n        \"description\": \"\"\n      }\n    },\n    {\n      \"column\": \"chi\",\n      \"properties\": {\n        \"dtype\": \"number\",\n        \"std\": 0.03181164662551403,\n        \"min\": 8e-06,\n        \"max\": 0.138412,\n        \"num_unique_values\": 42,\n        \"samples\": [\n          6.5e-05,\n          0.016587,\n          0.026879\n        ],\n        \"semantic_type\": \"\",\n        \"description\": \"\"\n      }\n    }\n  ]\n}"
            }
          },
          "metadata": {},
          "execution_count": 45
        }
      ]
    },
    {
      "cell_type": "code",
      "source": [],
      "metadata": {
        "id": "ptjzn82dPtmE"
      },
      "execution_count": null,
      "outputs": []
    }
  ]
}