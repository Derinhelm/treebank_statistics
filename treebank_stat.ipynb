{
  "nbformat": 4,
  "nbformat_minor": 0,
  "metadata": {
    "colab": {
      "provenance": [],
      "authorship_tag": "ABX9TyM+q7aDhsmj+RLliJcTyI3R",
      "include_colab_link": true
    },
    "kernelspec": {
      "name": "python3",
      "display_name": "Python 3"
    },
    "language_info": {
      "name": "python"
    }
  },
  "cells": [
    {
      "cell_type": "markdown",
      "metadata": {
        "id": "view-in-github",
        "colab_type": "text"
      },
      "source": [
        "<a href=\"https://colab.research.google.com/github/Derinhelm/treebank_statistics/blob/main/treebank_stat.ipynb\" target=\"_parent\"><img src=\"https://colab.research.google.com/assets/colab-badge.svg\" alt=\"Open In Colab\"/></a>"
      ]
    },
    {
      "cell_type": "markdown",
      "source": [
        "# Getting datasets"
      ],
      "metadata": {
        "id": "NEQsypAOmAdt"
      }
    },
    {
      "cell_type": "code",
      "source": [
        "from IPython.display import clear_output"
      ],
      "metadata": {
        "id": "7k1doCGgZv12"
      },
      "execution_count": null,
      "outputs": []
    },
    {
      "cell_type": "markdown",
      "source": [
        "## Russian"
      ],
      "metadata": {
        "id": "Gq0XOuJ31H0b"
      }
    },
    {
      "cell_type": "code",
      "execution_count": null,
      "metadata": {
        "id": "ZIZjIxKylxom"
      },
      "outputs": [],
      "source": [
        "!wget -m https://raw.githubusercontent.com/UniversalDependencies/UD_Russian-SynTagRus/master/ru_syntagrus-ud-train-a.conllu\n",
        "!wget -m https://raw.githubusercontent.com/UniversalDependencies/UD_Russian-SynTagRus/master/ru_syntagrus-ud-train-b.conllu\n",
        "!wget -m https://raw.githubusercontent.com/UniversalDependencies/UD_Russian-SynTagRus/master/ru_syntagrus-ud-train-c.conllu\n",
        "\n",
        "!wget -m https://raw.githubusercontent.com/UniversalDependencies/UD_Russian-SynTagRus/master/ru_syntagrus-ud-dev.conllu\n",
        "\n",
        "\n",
        "!wget -m https://raw.githubusercontent.com/UniversalDependencies/UD_Russian-SynTagRus/master/ru_syntagrus-ud-test.conllu\n",
        "clear_output()"
      ]
    },
    {
      "cell_type": "code",
      "source": [
        "!mv /content/raw.githubusercontent.com/UniversalDependencies/UD_Russian-SynTagRus/master/ru_syntagrus-ud-train-a.conllu /content/ru_syntagrus-ud-train-a.conllu\n",
        "!mv /content/raw.githubusercontent.com/UniversalDependencies/UD_Russian-SynTagRus/master/ru_syntagrus-ud-train-b.conllu /content/ru_syntagrus-ud-train-b.conllu\n",
        "!mv /content/raw.githubusercontent.com/UniversalDependencies/UD_Russian-SynTagRus/master/ru_syntagrus-ud-train-c.conllu /content/ru_syntagrus-ud-train-c.conllu\n",
        "\n",
        "!mv /content/raw.githubusercontent.com/UniversalDependencies/UD_Russian-SynTagRus/master/ru_syntagrus-ud-dev.conllu /content/ru_syntagrus-ud-dev.conllu\n",
        "\n",
        "!mv /content/raw.githubusercontent.com/UniversalDependencies/UD_Russian-SynTagRus/master/ru_syntagrus-ud-test.conllu /content/ru_syntagrus-ud-test.conllu\n",
        "clear_output()"
      ],
      "metadata": {
        "id": "TetUqwkHl_fp"
      },
      "execution_count": null,
      "outputs": []
    },
    {
      "cell_type": "code",
      "source": [
        "!rm -r /content/raw.githubusercontent.com\n",
        "clear_output()"
      ],
      "metadata": {
        "id": "IuVq47ZVl_ig",
        "colab": {
          "base_uri": "https://localhost:8080/",
          "height": 176
        },
        "outputId": "f21600f5-9436-4b84-eb93-b97c91d34c2c"
      },
      "execution_count": null,
      "outputs": [
        {
          "output_type": "stream",
          "name": "stdout",
          "text": [
            "rm: cannot remove '/content/raw.githubusercontent.com': No such file or directory\n"
          ]
        },
        {
          "output_type": "error",
          "ename": "NameError",
          "evalue": "name 'clear_output' is not defined",
          "traceback": [
            "\u001b[0;31m---------------------------------------------------------------------------\u001b[0m",
            "\u001b[0;31mNameError\u001b[0m                                 Traceback (most recent call last)",
            "\u001b[0;32m<ipython-input-1-a3beed968694>\u001b[0m in \u001b[0;36m<cell line: 2>\u001b[0;34m()\u001b[0m\n\u001b[1;32m      1\u001b[0m \u001b[0mget_ipython\u001b[0m\u001b[0;34m(\u001b[0m\u001b[0;34m)\u001b[0m\u001b[0;34m.\u001b[0m\u001b[0msystem\u001b[0m\u001b[0;34m(\u001b[0m\u001b[0;34m'rm -r /content/raw.githubusercontent.com'\u001b[0m\u001b[0;34m)\u001b[0m\u001b[0;34m\u001b[0m\u001b[0;34m\u001b[0m\u001b[0m\n\u001b[0;32m----> 2\u001b[0;31m \u001b[0mclear_output\u001b[0m\u001b[0;34m(\u001b[0m\u001b[0;34m)\u001b[0m\u001b[0;34m\u001b[0m\u001b[0;34m\u001b[0m\u001b[0m\n\u001b[0m",
            "\u001b[0;31mNameError\u001b[0m: name 'clear_output' is not defined"
          ]
        }
      ]
    },
    {
      "cell_type": "markdown",
      "source": [
        "## English"
      ],
      "metadata": {
        "id": "4oRm1Vh0Z95U"
      }
    },
    {
      "cell_type": "code",
      "source": [
        "!wget -m https://github.com/UniversalDependencies/UD_English-EWT/raw/master/en_ewt-ud-train.conllu\n",
        "!wget -m https://github.com/UniversalDependencies/UD_English-EWT/raw/master/en_ewt-ud-dev.conllu\n",
        "!wget -m https://github.com/UniversalDependencies/UD_English-EWT/raw/master/en_ewt-ud-test.conllu\n",
        "clear_output()"
      ],
      "metadata": {
        "id": "FninJwgoZ-ey"
      },
      "execution_count": null,
      "outputs": []
    },
    {
      "cell_type": "code",
      "source": [
        "!mv /content/github.com/UniversalDependencies/UD_English-EWT/raw/master/en_ewt-ud-train.conllu /content/en_ewt-ud-train.conllu\n",
        "!mv /content/github.com/UniversalDependencies/UD_English-EWT/raw/master/en_ewt-ud-dev.conllu /content/en_ewt-ud-dev.conllu\n",
        "!mv /content/github.com/UniversalDependencies/UD_English-EWT/raw/master/en_ewt-ud-test.conllu /content/en_ewt-ud-test.conllu\n",
        "\n",
        "clear_output()"
      ],
      "metadata": {
        "id": "iVS0XjvUaTOI"
      },
      "execution_count": null,
      "outputs": []
    },
    {
      "cell_type": "code",
      "source": [
        "!rm -r /content/github.com\n",
        "clear_output()"
      ],
      "metadata": {
        "id": "R_vo_mfkaTUc"
      },
      "execution_count": null,
      "outputs": []
    },
    {
      "cell_type": "markdown",
      "source": [
        "## Chinese"
      ],
      "metadata": {
        "id": "apeHziRhZ-Ds"
      }
    },
    {
      "cell_type": "code",
      "source": [
        "!wget -m https://github.com/UniversalDependencies/UD_Chinese-GSD/raw/master/zh_gsd-ud-train.conllu\n",
        "!wget -m https://github.com/UniversalDependencies/UD_Chinese-GSD/raw/master/zh_gsd-ud-dev.conllu\n",
        "!wget -m https://github.com/UniversalDependencies/UD_Chinese-GSD/raw/master/zh_gsd-ud-test.conllu\n",
        "clear_output()"
      ],
      "metadata": {
        "id": "xdwEpsvHaJ1e"
      },
      "execution_count": null,
      "outputs": []
    },
    {
      "cell_type": "code",
      "source": [
        "!mv /content/github.com/UniversalDependencies/UD_Chinese-GSD/raw/master/zh_gsd-ud-train.conllu /content/zh_gsd-ud-train.conllu\n",
        "!mv /content/github.com/UniversalDependencies/UD_Chinese-GSD/raw/master/zh_gsd-ud-dev.conllu /content/zh_gsd-ud-dev.conllu\n",
        "!mv /content/github.com/UniversalDependencies/UD_Chinese-GSD/raw/master/zh_gsd-ud-test.conllu /content/zh_gsd-ud-test.conllu\n",
        "clear_output()"
      ],
      "metadata": {
        "id": "Sotrt0ftav84"
      },
      "execution_count": null,
      "outputs": []
    },
    {
      "cell_type": "code",
      "source": [
        "!rm -r /content/github.com\n",
        "clear_output()"
      ],
      "metadata": {
        "id": "8RpohT46av_-"
      },
      "execution_count": null,
      "outputs": []
    },
    {
      "cell_type": "markdown",
      "source": [
        "# Word and Sentence storing"
      ],
      "metadata": {
        "id": "texKU7AWqFGH"
      }
    },
    {
      "cell_type": "code",
      "source": [
        "class ConllEntry:\n",
        "    def __init__(self, id, form, lemma, pos, cpos, feats=None, \\\n",
        "                 parent_id=None, relation=None,deps=None, misc=None):\n",
        "        self.id = id\n",
        "        self.form = form\n",
        "        self.lemma = lemma\n",
        "        self.pos = pos\n",
        "        self.cpos = cpos\n",
        "        self.feats = feats\n",
        "        self.parent_id = parent_id\n",
        "        self.relation = relation\n",
        "        self.deps = deps\n",
        "        self.misc = misc"
      ],
      "metadata": {
        "id": "Y3JJJ-5aqKD3"
      },
      "execution_count": null,
      "outputs": []
    },
    {
      "cell_type": "code",
      "source": [
        "class Sentence:\n",
        "    def __init__(self):\n",
        "        self.text = \"\"\n",
        "        self.sent_id = \"\"\n",
        "        self.words = []\n",
        "        self.is_complex = False\n",
        "\n",
        "    def add_word(self, word):\n",
        "        self.words.append(word)\n",
        "\n",
        "    def set_sent_id(self, sent_id):\n",
        "        self.sent_id = sent_id\n",
        "\n",
        "    def set_text(self, text):\n",
        "        self.text = text\n",
        "\n",
        "    def is_not_empty(self):\n",
        "        return len(self.words) > 0\n",
        "\n",
        "    def set_complex(self):\n",
        "        self.is_complex = True\n",
        "\n",
        "    def is_complex(self):\n",
        "        return self.is_complex"
      ],
      "metadata": {
        "id": "C6LK0INJraFl"
      },
      "execution_count": null,
      "outputs": []
    },
    {
      "cell_type": "markdown",
      "source": [
        "# Reading info from files"
      ],
      "metadata": {
        "id": "j62mVokE004a"
      }
    },
    {
      "cell_type": "markdown",
      "source": [
        "В SynTagRus есть предложения с пропуском слов. Их пока записываем в complex_sents и не рассматриваем (потом, возможно, обработаем их отдельно)."
      ],
      "metadata": {
        "id": "JEQ3DqRP04DB"
      }
    },
    {
      "cell_type": "code",
      "source": [
        "def read_conll(filename):\n",
        "    fh = open(filename,'r',encoding='utf-8')\n",
        "    sents_read = 0\n",
        "    sents = []\n",
        "    complex_sents = []\n",
        "    comments = set()\n",
        "\n",
        "    sent = Sentence()\n",
        "    for line in fh:\n",
        "        tok = line.strip().split('\\t')\n",
        "        if not tok or line.strip() == '': # empty line, add sentence to list\n",
        "            if sent.is_not_empty:\n",
        "                sents_read += 1\n",
        "                if sent.is_complex:\n",
        "                    complex_sents.append(sent)\n",
        "                else:\n",
        "                    sents.append(sent)\n",
        "            sent = Sentence()\n",
        "        else:\n",
        "            if line[0] == '#' or '-' in tok[0]: # a comment line\n",
        "                line = line.strip()\n",
        "                if line[:12] == \"# sent_id = \":\n",
        "                    sent.set_sent_id(line[12:])\n",
        "                elif line[:9] == \"# text = \":\n",
        "                    sent.set_text(line[9:])\n",
        "                else:\n",
        "                    comments.add(line)\n",
        "\n",
        "            else: # an actual ConllEntry, add to tokens\n",
        "                if tok[2] == \"_\":\n",
        "                    tok[2] = tok[1].lower()\n",
        "\n",
        "                word = ConllEntry(*tok)\n",
        "                sent.add_word(word)\n",
        "                if \".\" in tok[0]:\n",
        "                    sent.set_complex()\n",
        "    fh.close()\n",
        "    return sents, complex_sents"
      ],
      "metadata": {
        "id": "bfX1Ulkrmra3"
      },
      "execution_count": null,
      "outputs": []
    },
    {
      "cell_type": "code",
      "source": [
        "def create_lang_dicts():\n",
        "  return {'rus': {'train': [], 'dev': [], 'test': []},\n",
        "          'eng': {'train': [], 'dev': [], 'test': []},\n",
        "          'chn': {'train': [], 'dev': [], 'test': []}}"
      ],
      "metadata": {
        "id": "rsSh67-2gNHG"
      },
      "execution_count": null,
      "outputs": []
    },
    {
      "cell_type": "code",
      "source": [
        "sents = create_lang_dicts()"
      ],
      "metadata": {
        "id": "UocWUOurdqEa"
      },
      "execution_count": null,
      "outputs": []
    },
    {
      "cell_type": "code",
      "source": [
        "for f in ['train-a', 'train-b', 'train-c']:\n",
        "    cur_sents, _ = read_conll(\"/content/ru_syntagrus-ud-\" + f + \".conllu\")\n",
        "    sents['rus']['train'] += cur_sents\n",
        "sents['rus']['dev'], _ = read_conll(\"/content/ru_syntagrus-ud-dev.conllu\")\n",
        "sents['rus']['test'], _ = read_conll(\"/content/ru_syntagrus-ud-test.conllu\")"
      ],
      "metadata": {
        "id": "_KK-pT7edGQs"
      },
      "execution_count": null,
      "outputs": []
    },
    {
      "cell_type": "code",
      "source": [
        "sents['eng']['train'], _ = read_conll(\"/content/en_ewt-ud-train.conllu\")\n",
        "sents['eng']['dev'], _ = read_conll(\"/content/en_ewt-ud-dev.conllu\")\n",
        "sents['eng']['test'], _ = read_conll(\"/content/en_ewt-ud-test.conllu\")\n",
        "\n",
        "sents['chn']['train'], _ = read_conll(\"/content/zh_gsd-ud-train.conllu\")\n",
        "sents['chn']['dev'], _ = read_conll(\"/content/zh_gsd-ud-dev.conllu\")\n",
        "sents['chn']['test'], _ = read_conll(\"/content/zh_gsd-ud-test.conllu\")"
      ],
      "metadata": {
        "id": "AhyCTv9KMsD2"
      },
      "execution_count": null,
      "outputs": []
    },
    {
      "cell_type": "code",
      "source": [
        "for lang in sents.keys():\n",
        "    print(lang, \":\", [(k, len(v)) for k, v in sents[lang].items()])"
      ],
      "metadata": {
        "colab": {
          "base_uri": "https://localhost:8080/"
        },
        "id": "OJRs9mzrde-s",
        "outputId": "bdb5a045-633c-4071-8a6a-a7ae67db3b2e"
      },
      "execution_count": null,
      "outputs": [
        {
          "output_type": "stream",
          "name": "stdout",
          "text": [
            "rus : [('train', 68292), ('dev', 8691), ('test', 8589)]\n",
            "eng : [('train', 12509), ('dev', 1998), ('test', 2075)]\n",
            "chn : [('train', 3997), ('dev', 500), ('test', 500)]\n"
          ]
        }
      ]
    },
    {
      "cell_type": "markdown",
      "source": [
        "# Глубина"
      ],
      "metadata": {
        "id": "Y15lnqRGSVPd"
      }
    },
    {
      "cell_type": "code",
      "source": [
        "import networkx as nx"
      ],
      "metadata": {
        "id": "PTN5RJaPb1sV"
      },
      "execution_count": null,
      "outputs": []
    },
    {
      "cell_type": "code",
      "source": [
        "def create_graph(sent):\n",
        "  G = nx.DiGraph()\n",
        "  G.add_node('0', word='root')\n",
        "  for w in sent:\n",
        "    G.add_node(w.id, word=w.form)\n",
        "  for w in sent:\n",
        "    G.add_edge(w.parent_id, w.id, dep_rel=w.relation)\n",
        "  return G"
      ],
      "metadata": {
        "id": "i2p8jlXrbh-k"
      },
      "execution_count": null,
      "outputs": []
    },
    {
      "cell_type": "code",
      "source": [
        "graphs = create_lang_dicts()\n",
        "depth_stat = create_lang_dicts()\n",
        "node_stat = create_lang_dicts()"
      ],
      "metadata": {
        "id": "QT4yKT8NgJNa"
      },
      "execution_count": null,
      "outputs": []
    },
    {
      "cell_type": "code",
      "source": [
        "for lang in graphs.keys():\n",
        "  for d in graphs[lang].keys():\n",
        "    graphs[lang][d] = [create_graph(s.words) for s in sents[lang][d]]\n",
        "    depth_stat[lang][d] = [len(nx.dag_longest_path(g)) for g in graphs[lang][d]]\n",
        "    node_stat[lang][d] = [g.number_of_nodes() for g in graphs[lang][d]]"
      ],
      "metadata": {
        "id": "t0qVRanygaRq"
      },
      "execution_count": null,
      "outputs": []
    },
    {
      "cell_type": "code",
      "source": [
        "for lang in depth_stat.keys():\n",
        "  for d in depth_stat[lang].keys():\n",
        "    print(lang, d, sum(depth_stat[lang][d]) / len(depth_stat[lang][d]))"
      ],
      "metadata": {
        "id": "h4i5T6u3qJYU",
        "colab": {
          "base_uri": "https://localhost:8080/"
        },
        "outputId": "57d7c938-7ef8-4aa8-e701-52357328d1f3"
      },
      "execution_count": null,
      "outputs": [
        {
          "output_type": "stream",
          "name": "stdout",
          "text": [
            "rus train 6.077197914836291\n",
            "rus dev 6.024277988723967\n",
            "rus test 6.093724531377343\n",
            "eng train 5.49780158286034\n",
            "eng dev 4.936436436436437\n",
            "eng test 4.805301204819277\n",
            "chn train 6.282962221666249\n",
            "chn dev 6.316\n",
            "chn test 6.236\n"
          ]
        }
      ]
    },
    {
      "cell_type": "code",
      "source": [
        "for lang in node_stat.keys():\n",
        "  for d in node_stat[lang].keys():\n",
        "    print(lang, d, sum(node_stat[lang][d]) / len(node_stat[lang][d]))"
      ],
      "metadata": {
        "id": "IHYCzlWfqZVL",
        "colab": {
          "base_uri": "https://localhost:8080/"
        },
        "outputId": "a8044d88-f718-4e8d-d2f6-0501089d58bd"
      },
      "execution_count": null,
      "outputs": [
        {
          "output_type": "stream",
          "name": "stdout",
          "text": [
            "rus train 18.185028993147075\n",
            "rus dev 18.039005868139455\n",
            "rus test 18.75678193037606\n",
            "eng train 17.27044527939883\n",
            "eng dev 13.546046046046046\n",
            "eng test 13.067469879518072\n",
            "chn train 25.672504378283712\n",
            "chn dev 26.326\n",
            "chn test 25.024\n"
          ]
        }
      ]
    },
    {
      "cell_type": "code",
      "source": [
        "import matplotlib.pyplot as plt\n"
      ],
      "metadata": {
        "id": "EHUL_q8ieuaV"
      },
      "execution_count": null,
      "outputs": []
    },
    {
      "cell_type": "code",
      "source": [
        "fig, ax = plt.subplots(nrows=1, ncols=3, figsize = (10,8), sharey=True)\n",
        "\n",
        "for col_i, lang in enumerate(depth_stat.keys()):\n",
        "        ax[col_i].boxplot(x=depth_stat[lang]['train'] + depth_stat[lang]['dev'] + depth_stat[lang]['test'], showfliers=False,showcaps=True)\n",
        "        ax[col_i].title.set_text(lang)\n",
        "\n",
        "plt.show()"
      ],
      "metadata": {
        "colab": {
          "base_uri": "https://localhost:8080/",
          "height": 699
        },
        "id": "q51RIsG_ooQL",
        "outputId": "dbcfee4c-cb7a-4e62-ac1d-0cf1c83f399e"
      },
      "execution_count": null,
      "outputs": [
        {
          "output_type": "display_data",
          "data": {
            "text/plain": [
              "<Figure size 1000x800 with 3 Axes>"
            ],
            "image/png": "[encoded data removed]"
          },
          "metadata": {}
        }
      ]
    },
    {
      "cell_type": "code",
      "source": [],
      "metadata": {
        "id": "WxAwjkN5hJ1J"
      },
      "execution_count": null,
      "outputs": []
    },
    {
      "cell_type": "code",
      "source": [
        "plt.boxplot(node_stat['rus']['dev'], showfliers=False)"
      ],
      "metadata": {
        "colab": {
          "base_uri": "https://localhost:8080/",
          "height": 569
        },
        "id": "7NBFGcE4hUmU",
        "outputId": "df7e2157-ed1c-4f0d-866d-42e88b6cc781"
      },
      "execution_count": null,
      "outputs": [
        {
          "output_type": "execute_result",
          "data": {
            "text/plain": [
              "{'whiskers': [<matplotlib.lines.Line2D at 0x793bf135dab0>,\n",
              "  <matplotlib.lines.Line2D at 0x793bf135dd50>],\n",
              " 'caps': [<matplotlib.lines.Line2D at 0x793bf135dff0>,\n",
              "  <matplotlib.lines.Line2D at 0x793bf135e290>],\n",
              " 'boxes': [<matplotlib.lines.Line2D at 0x793bf135d6f0>],\n",
              " 'medians': [<matplotlib.lines.Line2D at 0x793bf135e530>],\n",
              " 'fliers': [],\n",
              " 'means': []}"
            ]
          },
          "metadata": {},
          "execution_count": 28
        },
        {
          "output_type": "display_data",
          "data": {
            "text/plain": [
              "<Figure size 640x480 with 1 Axes>"
            ],
            "image/png": "[encoded data removed]"
          },
          "metadata": {}
        }
      ]
    },
    {
      "cell_type": "code",
      "source": [
        "plt.boxplot([node_stat[lang]['train'], node_stat[lang]['dev']])\n"
      ],
      "metadata": {
        "colab": {
          "base_uri": "https://localhost:8080/",
          "height": 691
        },
        "id": "THdbnP2NiyLp",
        "outputId": "b3003694-667c-49e2-f770-b27feba98ea2"
      },
      "execution_count": null,
      "outputs": [
        {
          "output_type": "execute_result",
          "data": {
            "text/plain": [
              "{'whiskers': [<matplotlib.lines.Line2D at 0x793bf13c92a0>,\n",
              "  <matplotlib.lines.Line2D at 0x793bf13c9540>,\n",
              "  <matplotlib.lines.Line2D at 0x793bf13ca4a0>,\n",
              "  <matplotlib.lines.Line2D at 0x793bf13ca740>],\n",
              " 'caps': [<matplotlib.lines.Line2D at 0x793bf13c9750>,\n",
              "  <matplotlib.lines.Line2D at 0x793bf13c99f0>,\n",
              "  <matplotlib.lines.Line2D at 0x793bf13ca9e0>,\n",
              "  <matplotlib.lines.Line2D at 0x793bf13cac80>],\n",
              " 'boxes': [<matplotlib.lines.Line2D at 0x793bf13c9000>,\n",
              "  <matplotlib.lines.Line2D at 0x793bf13ca200>],\n",
              " 'medians': [<matplotlib.lines.Line2D at 0x793bf13c9c90>,\n",
              "  <matplotlib.lines.Line2D at 0x793bf13caf20>],\n",
              " 'fliers': [<matplotlib.lines.Line2D at 0x793bf13c9f30>,\n",
              "  <matplotlib.lines.Line2D at 0x793bf13cb1c0>],\n",
              " 'means': []}"
            ]
          },
          "metadata": {},
          "execution_count": 29
        },
        {
          "output_type": "display_data",
          "data": {
            "text/plain": [
              "<Figure size 640x480 with 1 Axes>"
            ],
            "image/png": "[encoded data removed]"
          },
          "metadata": {}
        }
      ]
    },
    {
      "cell_type": "code",
      "source": [
        "fig, ax = plt.subplots(nrows=1, ncols=3, figsize = (10,8), sharey=True)\n",
        "\n",
        "for col_i, lang in enumerate(node_stat.keys()):\n",
        "        ax[col_i].boxplot(x=node_stat[lang]['train'] + node_stat[lang]['dev'] + node_stat[lang]['test'], showfliers=False,showcaps=True)\n",
        "        ax[col_i].title.set_text(lang)\n",
        "\n",
        "plt.show()"
      ],
      "metadata": {
        "colab": {
          "base_uri": "https://localhost:8080/",
          "height": 699
        },
        "id": "zpRfeZ6NhB7y",
        "outputId": "1ecf1a98-a024-4aec-e3fb-125323a674de"
      },
      "execution_count": null,
      "outputs": [
        {
          "output_type": "display_data",
          "data": {
            "text/plain": [
              "<Figure size 1000x800 with 3 Axes>"
            ],
            "image/png": "[encoded data removed]"
          },
          "metadata": {}
        }
      ]
    },
    {
      "cell_type": "markdown",
      "source": [
        "# word depth"
      ],
      "metadata": {
        "id": "PfYd3vDsVXHH"
      }
    },
    {
      "cell_type": "code",
      "source": [
        "def get_word_depths(graphs, sents):\n",
        "    res = []\n",
        "    for i in range(len(graphs)):\n",
        "        cur_sent_depths = []\n",
        "        sent = sents[i]\n",
        "        g = graphs[i]\n",
        "        for w in sent.words:\n",
        "            w_depth = nx.shortest_path_length(g, '0', w.id)\n",
        "            cur_sent_depths.append(w_depth)\n",
        "        res.append(cur_sent_depths)\n",
        "    return res"
      ],
      "metadata": {
        "id": "uRejd1gupD53"
      },
      "execution_count": null,
      "outputs": []
    },
    {
      "cell_type": "code",
      "source": [
        "word_depths = create_lang_dicts()\n",
        "flatten_word_depths = create_lang_dicts()\n",
        "for lang in graphs.keys():\n",
        "  for d in graphs[lang].keys():\n",
        "    word_depths[lang][d] = get_word_depths(graphs[lang][d], sents[lang][d])\n",
        "    flatten_word_depths[lang][d] = [element\n",
        "                                    for nestedlist in word_depths[lang][d]\n",
        "                                    for element in nestedlist]"
      ],
      "metadata": {
        "id": "2CtJJKX-jJLZ"
      },
      "execution_count": null,
      "outputs": []
    },
    {
      "cell_type": "code",
      "source": [
        "for lang in flatten_word_depths.keys():\n",
        "  for d in flatten_word_depths[lang].keys():\n",
        "    print(lang, d, sum(flatten_word_depths[lang][d]) / len(flatten_word_depths[lang][d]))"
      ],
      "metadata": {
        "colab": {
          "base_uri": "https://localhost:8080/"
        },
        "id": "nVs-PXVhigur",
        "outputId": "b397ea55-668c-4688-ab2a-515b5d7aacc6"
      },
      "execution_count": null,
      "outputs": [
        {
          "output_type": "stream",
          "name": "stdout",
          "text": [
            "rus train 3.592264826175869\n",
            "rus dev 3.607687424874735\n",
            "rus test 3.589497288755713\n",
            "eng train 3.4482992428522996\n",
            "eng dev 3.1839470219810906\n",
            "eng test 3.1913338658146966\n",
            "chn train 3.4271010789324245\n",
            "chn dev 3.4263602621811575\n",
            "chn test 3.3933566433566433\n"
          ]
        }
      ]
    },
    {
      "cell_type": "markdown",
      "source": [
        "## Word grouping into pandas"
      ],
      "metadata": {
        "id": "eKuq9qo2AmPS"
      }
    },
    {
      "cell_type": "code",
      "source": [
        "import pandas as pd"
      ],
      "metadata": {
        "id": "WRPKG2IPAlPE"
      },
      "execution_count": null,
      "outputs": []
    },
    {
      "cell_type": "code",
      "source": [
        "def create_node_df(cur_sents, cur_word_depths):\n",
        "    info = []\n",
        "    for sent_i, sent in enumerate(cur_sents):\n",
        "      for w_i, w in enumerate(sent.words):\n",
        "        info.append((w.parent_id, w.relation, w.pos, cur_word_depths[sent_i][w_i], w.form, w.lemma, sent_i))\n",
        "    info_df = pd.DataFrame(info, columns=[\"parent_id\", \"relation\", \"pos\", \"word_depth\", \"form\", \"lemma\", \"sent_i\"])\n",
        "    return info_df"
      ],
      "metadata": {
        "id": "clb2DC9nBZ16"
      },
      "execution_count": null,
      "outputs": []
    },
    {
      "cell_type": "code",
      "source": [
        "node_df_dict = create_lang_dicts()\n",
        "for lang in node_df_dict.keys():\n",
        "  for d in node_df_dict[lang].keys():\n",
        "    node_df_dict[lang][d] = create_node_df(sents[lang][d], word_depths[lang][d])"
      ],
      "metadata": {
        "id": "z1YyOFcRCJgl"
      },
      "execution_count": null,
      "outputs": []
    },
    {
      "cell_type": "code",
      "source": [
        "def create_boxplots(df_column):\n",
        "    fig, ax = plt.subplots(nrows=3, ncols=3, figsize = (10,8), sharex=True, sharey=True)\n",
        "\n",
        "    for col_i, lang in enumerate(node_df_dict.keys()):\n",
        "        for row_i, d in enumerate(node_df_dict[lang].keys()):\n",
        "            ax[row_i][col_i].boxplot(x=node_df_dict[lang][d][df_column], showfliers=False)\n",
        "            ax[row_i][col_i].title.set_text(lang + \"_\" + d)\n",
        "\n",
        "    plt.show()"
      ],
      "metadata": {
        "id": "C1zTut4TMUwG"
      },
      "execution_count": null,
      "outputs": []
    },
    {
      "cell_type": "code",
      "source": [
        "create_boxplots(\"word_depth\")"
      ],
      "metadata": {
        "colab": {
          "base_uri": "https://localhost:8080/",
          "height": 699
        },
        "id": "GayClo6GOnWt",
        "outputId": "24b49c6c-4f68-4919-b243-79f7ad0bca9a"
      },
      "execution_count": null,
      "outputs": [
        {
          "output_type": "display_data",
          "data": {
            "text/plain": [
              "<Figure size 1000x800 with 9 Axes>"
            ],
            "image/png": "[encoded data removed]"
          },
          "metadata": {}
        }
      ]
    },
    {
      "cell_type": "code",
      "source": [],
      "metadata": {
        "id": "r56UEvQ6Q5pK"
      },
      "execution_count": null,
      "outputs": []
    },
    {
      "cell_type": "code",
      "source": [
        "node_df_dict_all = create_lang_dicts()\n",
        "for lang in node_df_dict_all.keys():\n",
        "    node_df_dict_all[lang] = create_node_df(sents[lang]['train'] + sents[lang]['dev'] + sents[lang]['test'],\n",
        "                             word_depths[lang]['train'] + word_depths[lang]['dev'] + word_depths[lang]['test'])"
      ],
      "metadata": {
        "id": "WfAAJ22oQ5rp"
      },
      "execution_count": null,
      "outputs": []
    },
    {
      "cell_type": "code",
      "source": [
        "fig, ax = plt.subplots(nrows=1, ncols=3, figsize = (10,8), sharex=True, sharey=True)\n",
        "\n",
        "for col_i, lang in enumerate(node_df_dict_all.keys()):\n",
        "        ax[col_i].boxplot(x=node_df_dict_all[lang][\"word_depth\"], showfliers=False)\n",
        "        ax[col_i].title.set_text(lang)\n",
        "\n",
        "plt.show()"
      ],
      "metadata": {
        "colab": {
          "base_uri": "https://localhost:8080/",
          "height": 699
        },
        "id": "iMopJ6ZgRS_r",
        "outputId": "0eb44721-50a0-4dc9-dc3f-ee1c15c3a098"
      },
      "execution_count": null,
      "outputs": [
        {
          "output_type": "display_data",
          "data": {
            "text/plain": [
              "<Figure size 1000x800 with 3 Axes>"
            ],
            "image/png": "[encoded data removed]"
          },
          "metadata": {}
        }
      ]
    },
    {
      "cell_type": "code",
      "source": [
        "from collections import Counter"
      ],
      "metadata": {
        "id": "m8IuB0sgpald"
      },
      "execution_count": null,
      "outputs": []
    },
    {
      "cell_type": "code",
      "source": [
        "rus_depth_counter = Counter(node_df_dict_all['rus'][\"word_depth\"])"
      ],
      "metadata": {
        "id": "H4DF6OcjO1hX"
      },
      "execution_count": null,
      "outputs": []
    },
    {
      "cell_type": "code",
      "source": [
        "rus_depth_counter"
      ],
      "metadata": {
        "colab": {
          "base_uri": "https://localhost:8080/"
        },
        "id": "iGdatArjqdKk",
        "outputId": "65883308-0181-445d-88d7-a61024675e68"
      },
      "execution_count": null,
      "outputs": [
        {
          "output_type": "execute_result",
          "data": {
            "text/plain": [
              "Counter({1: 85572,\n",
              "         2: 359127,\n",
              "         4: 274770,\n",
              "         3: 381850,\n",
              "         5: 174050,\n",
              "         6: 99124,\n",
              "         7: 52129,\n",
              "         8: 26047,\n",
              "         9: 11948,\n",
              "         10: 5317,\n",
              "         11: 2420,\n",
              "         12: 1052,\n",
              "         13: 467,\n",
              "         14: 186,\n",
              "         15: 82,\n",
              "         16: 28,\n",
              "         17: 10,\n",
              "         18: 9,\n",
              "         19: 7,\n",
              "         21: 2,\n",
              "         20: 2})"
            ]
          },
          "metadata": {},
          "execution_count": 43
        }
      ]
    },
    {
      "cell_type": "code",
      "source": [
        "l = sum(rus_depth_counter.values())"
      ],
      "metadata": {
        "id": "klWMGLdFqecH"
      },
      "execution_count": null,
      "outputs": []
    },
    {
      "cell_type": "code",
      "source": [
        "y = {2:1, 3:2}\n",
        "sorted(y.items(), key=lambda x: x[0])"
      ],
      "metadata": {
        "colab": {
          "base_uri": "https://localhost:8080/"
        },
        "id": "mJ6sUHQZrZT5",
        "outputId": "e1a00c9c-fb2d-4480-f9ed-ace4a3f9ac0f"
      },
      "execution_count": null,
      "outputs": [
        {
          "output_type": "execute_result",
          "data": {
            "text/plain": [
              "[(2, 1), (3, 2)]"
            ]
          },
          "metadata": {},
          "execution_count": 45
        }
      ]
    },
    {
      "cell_type": "code",
      "source": [
        "sum(node_df_dict_all['rus']['word_depth'])"
      ],
      "metadata": {
        "colab": {
          "base_uri": "https://localhost:8080/"
        },
        "id": "a1scstcHuF_6",
        "outputId": "cd22c724-9a87-4780-e8e7-a5aede9feffd"
      },
      "execution_count": null,
      "outputs": [
        {
          "output_type": "execute_result",
          "data": {
            "text/plain": [
              "5297575"
            ]
          },
          "metadata": {},
          "execution_count": 46
        }
      ]
    },
    {
      "cell_type": "code",
      "source": [
        "x = {'rus': [], 'eng': [], 'chn':[]}\n",
        "y = {'rus': [], 'eng': [], 'chn':[]}\n",
        "for lang in node_df_dict_all.keys():\n",
        "  l = sum(node_df_dict_all[lang]['word_depth'])\n",
        "  for k, v in sorted(Counter(node_df_dict_all[lang][\"word_depth\"]).items(), key=lambda x: x[0]):\n",
        "    x[lang].append(k)\n",
        "    y[lang].append(v/l)\n",
        "  print(lang, list(zip(x[lang], y[lang])))\n",
        "  plt.bar(x[lang], height=y[lang], alpha=0.7)\n",
        "plt.legend(['rus', 'eng', 'chn'])\n",
        "plt.show()\n"
      ],
      "metadata": {
        "colab": {
          "base_uri": "https://localhost:8080/",
          "height": 502
        },
        "id": "Y9tJ1_ymgntC",
        "outputId": "6e5fb6cd-43a8-4d62-8918-8d022224bd55"
      },
      "execution_count": null,
      "outputs": [
        {
          "output_type": "stream",
          "name": "stdout",
          "text": [
            "rus [(1, 0.016153051160200656), (2, 0.06779082882262168), (3, 0.07208014987989787), (4, 0.051867127883984655), (5, 0.0328546551960095), (6, 0.018711202767303908), (7, 0.009840162715959661), (8, 0.004916777959726856), (9, 0.002255371561516354), (10, 0.0010036667720608014), (11, 0.0004568127869827232), (12, 0.00019858142640736564), (13, 8.815354195079824e-05), (14, 3.511040428875476e-05), (15, 1.5478780385365002e-05), (16, 5.2854372047587815e-06), (17, 1.8876561445567076e-06), (18, 1.6988905301010367e-06), (19, 1.3213593011896954e-06), (20, 3.775312289113415e-07), (21, 3.775312289113415e-07)]\n",
            "eng [(1, 0.019246818216111752), (2, 0.07707780789163654), (3, 0.08068876262992647), (4, 0.055409758050943364), (5, 0.03233145105595181), (6, 0.016303269126975377), (7, 0.007496996674578809), (8, 0.0034171169236662043), (9, 0.0014532032569395678), (10, 0.0005617814507657754), (11, 0.00020312345843803863), (12, 9.517784909668096e-05), (13, 4.41068081179741e-05), (14, 3.0178342396508598e-05), (15, 2.7856931442931013e-05), (16, 5.803527383943961e-06), (17, 1.1607054767887921e-06)]\n",
            "chn [(1, 0.011837978186091027), (2, 0.0629187237631362), (3, 0.09271858920296791), (4, 0.06784154118773039), (5, 0.036286234115740695), (6, 0.014178567028968341), (7, 0.004560357816334846), (8, 0.0013290185636175838), (9, 0.0003387694377848743), (10, 5.922542618616684e-05), (11, 9.476068189786693e-06)]\n"
          ]
        },
        {
          "output_type": "display_data",
          "data": {
            "text/plain": [
              "<Figure size 640x480 with 1 Axes>"
            ],
            "image/png": "[encoded data removed]"
          },
          "metadata": {}
        }
      ]
    },
    {
      "cell_type": "code",
      "source": [
        "for lang, node_df_lang in node_df_dict_all.items():\n",
        "  print(lang, len(set(node_df_dict_all[lang]['lemma'])) / len(node_df_dict_all[lang]))"
      ],
      "metadata": {
        "colab": {
          "base_uri": "https://localhost:8080/"
        },
        "id": "DmdjlM8T8PMC",
        "outputId": "537e7dda-6687-49f2-cdb3-266e05355212"
      },
      "execution_count": null,
      "outputs": [
        {
          "output_type": "stream",
          "name": "stdout",
          "text": [
            "rus 0.03606229552455265\n",
            "eng 0.06659990379838665\n",
            "chn 0.1636291375688412\n"
          ]
        }
      ]
    },
    {
      "cell_type": "code",
      "source": [
        "node_df_dict_all[lang][['sent_i', 'word_depth']].groupby('sent_i').mean().columns"
      ],
      "metadata": {
        "colab": {
          "base_uri": "https://localhost:8080/"
        },
        "id": "39aPtx7hhvA0",
        "outputId": "ed09dd41-05cd-47a7-cd19-290741be9421"
      },
      "execution_count": null,
      "outputs": [
        {
          "output_type": "execute_result",
          "data": {
            "text/plain": [
              "Index(['word_depth'], dtype='object')"
            ]
          },
          "metadata": {},
          "execution_count": 71
        }
      ]
    },
    {
      "cell_type": "code",
      "source": [
        "boxplot_list = []\n",
        "for i, lang in enumerate(['rus', 'eng', 'chn']):\n",
        "  boxplot_list.append(node_df_dict_all[lang][['sent_i', 'word_depth']].groupby('sent_i').mean()['word_depth'])\n",
        "plt.boxplot(boxplot_list, showfliers=False, labels=['rus', 'eng', 'chn'])\n",
        "plt.show()"
      ],
      "metadata": {
        "colab": {
          "base_uri": "https://localhost:8080/",
          "height": 430
        },
        "id": "baPlWr-aeFlz",
        "outputId": "e9ce634a-46fa-4e80-86af-059b94f8d073"
      },
      "execution_count": null,
      "outputs": [
        {
          "output_type": "display_data",
          "data": {
            "text/plain": [
              "<Figure size 640x480 with 1 Axes>"
            ],
            "image/png": "[encoded data removed]"
          },
          "metadata": {}
        }
      ]
    },
    {
      "cell_type": "code",
      "source": [],
      "metadata": {
        "id": "j5kz_DMbe0-l"
      },
      "execution_count": null,
      "outputs": []
    },
    {
      "cell_type": "code",
      "source": [
        "graphs['rus']['train'][0]"
      ],
      "metadata": {
        "colab": {
          "base_uri": "https://localhost:8080/"
        },
        "id": "GrDaoFdSe1GO",
        "outputId": "98ed8485-c7f4-4b16-bc1f-bc7eabc70d7e"
      },
      "execution_count": null,
      "outputs": [
        {
          "output_type": "execute_result",
          "data": {
            "text/plain": [
              "<networkx.classes.digraph.DiGraph at 0x793c5a9912a0>"
            ]
          },
          "metadata": {},
          "execution_count": 80
        }
      ]
    },
    {
      "cell_type": "code",
      "source": [
        "from networkx.algorithms import isomorphism as iso"
      ],
      "metadata": {
        "id": "MseiJPabeGW2"
      },
      "execution_count": null,
      "outputs": []
    },
    {
      "cell_type": "code",
      "source": [
        "iso.tree_isomorphism(graphs['rus']['train'][0], graphs['rus']['train'][1])"
      ],
      "metadata": {
        "colab": {
          "base_uri": "https://localhost:8080/",
          "height": 287
        },
        "id": "YgCX-U5Fj8P3",
        "outputId": "01cc23b4-ff8e-4c47-eb10-b048ee01c4e3"
      },
      "execution_count": null,
      "outputs": [
        {
          "output_type": "error",
          "ename": "NetworkXNotImplemented",
          "evalue": "not implemented for directed type",
          "traceback": [
            "\u001b[0;31m---------------------------------------------------------------------------\u001b[0m",
            "\u001b[0;31mNetworkXNotImplemented\u001b[0m                    Traceback (most recent call last)",
            "\u001b[0;32m<ipython-input-83-44c1c5eb1703>\u001b[0m in \u001b[0;36m<cell line: 1>\u001b[0;34m()\u001b[0m\n\u001b[0;32m----> 1\u001b[0;31m \u001b[0miso\u001b[0m\u001b[0;34m.\u001b[0m\u001b[0mtree_isomorphism\u001b[0m\u001b[0;34m(\u001b[0m\u001b[0mgraphs\u001b[0m\u001b[0;34m[\u001b[0m\u001b[0;34m'rus'\u001b[0m\u001b[0;34m]\u001b[0m\u001b[0;34m[\u001b[0m\u001b[0;34m'train'\u001b[0m\u001b[0;34m]\u001b[0m\u001b[0;34m[\u001b[0m\u001b[0;36m0\u001b[0m\u001b[0;34m]\u001b[0m\u001b[0;34m,\u001b[0m \u001b[0mgraphs\u001b[0m\u001b[0;34m[\u001b[0m\u001b[0;34m'rus'\u001b[0m\u001b[0;34m]\u001b[0m\u001b[0;34m[\u001b[0m\u001b[0;34m'train'\u001b[0m\u001b[0;34m]\u001b[0m\u001b[0;34m[\u001b[0m\u001b[0;36m1\u001b[0m\u001b[0;34m]\u001b[0m\u001b[0;34m)\u001b[0m\u001b[0;34m\u001b[0m\u001b[0;34m\u001b[0m\u001b[0m\n\u001b[0m",
            "\u001b[0;32m/usr/local/lib/python3.10/dist-packages/networkx/utils/decorators.py\u001b[0m in \u001b[0;36mfunc\u001b[0;34m(_argmap__wrapper, *args, **kwargs)\u001b[0m\n\u001b[1;32m    787\u001b[0m \u001b[0;34m\u001b[0m\u001b[0m\n\u001b[1;32m    788\u001b[0m         \u001b[0;32mdef\u001b[0m \u001b[0mfunc\u001b[0m\u001b[0;34m(\u001b[0m\u001b[0;34m*\u001b[0m\u001b[0margs\u001b[0m\u001b[0;34m,\u001b[0m \u001b[0m__wrapper\u001b[0m\u001b[0;34m=\u001b[0m\u001b[0;32mNone\u001b[0m\u001b[0;34m,\u001b[0m \u001b[0;34m**\u001b[0m\u001b[0mkwargs\u001b[0m\u001b[0;34m)\u001b[0m\u001b[0;34m:\u001b[0m\u001b[0;34m\u001b[0m\u001b[0;34m\u001b[0m\u001b[0m\n\u001b[0;32m--> 789\u001b[0;31m             \u001b[0;32mreturn\u001b[0m \u001b[0margmap\u001b[0m\u001b[0;34m.\u001b[0m\u001b[0m_lazy_compile\u001b[0m\u001b[0;34m(\u001b[0m\u001b[0m__wrapper\u001b[0m\u001b[0;34m)\u001b[0m\u001b[0;34m(\u001b[0m\u001b[0;34m*\u001b[0m\u001b[0margs\u001b[0m\u001b[0;34m,\u001b[0m \u001b[0;34m**\u001b[0m\u001b[0mkwargs\u001b[0m\u001b[0;34m)\u001b[0m\u001b[0;34m\u001b[0m\u001b[0;34m\u001b[0m\u001b[0m\n\u001b[0m\u001b[1;32m    790\u001b[0m \u001b[0;34m\u001b[0m\u001b[0m\n\u001b[1;32m    791\u001b[0m         \u001b[0;31m# standard function-wrapping stuff\u001b[0m\u001b[0;34m\u001b[0m\u001b[0;34m\u001b[0m\u001b[0m\n",
            "\u001b[0;32m/usr/local/lib/python3.10/dist-packages/networkx/utils/decorators.py\u001b[0m in \u001b[0;36margmap_tree_isomorphism_22\u001b[0;34m(t1, t2, backend, **backend_kwargs)\u001b[0m\n\u001b[1;32m      2\u001b[0m \u001b[0;32mimport\u001b[0m \u001b[0mcollections\u001b[0m\u001b[0;34m\u001b[0m\u001b[0;34m\u001b[0m\u001b[0m\n\u001b[1;32m      3\u001b[0m \u001b[0;32mimport\u001b[0m \u001b[0mgzip\u001b[0m\u001b[0;34m\u001b[0m\u001b[0;34m\u001b[0m\u001b[0m\n\u001b[0;32m----> 4\u001b[0;31m \u001b[0;32mimport\u001b[0m \u001b[0minspect\u001b[0m\u001b[0;34m\u001b[0m\u001b[0;34m\u001b[0m\u001b[0m\n\u001b[0m\u001b[1;32m      5\u001b[0m \u001b[0;32mimport\u001b[0m \u001b[0mitertools\u001b[0m\u001b[0;34m\u001b[0m\u001b[0;34m\u001b[0m\u001b[0m\n\u001b[1;32m      6\u001b[0m \u001b[0;32mimport\u001b[0m \u001b[0mre\u001b[0m\u001b[0;34m\u001b[0m\u001b[0;34m\u001b[0m\u001b[0m\n",
            "\u001b[0;32m/usr/local/lib/python3.10/dist-packages/networkx/utils/decorators.py\u001b[0m in \u001b[0;36m_not_implemented_for\u001b[0;34m(g)\u001b[0m\n\u001b[1;32m     90\u001b[0m             \u001b[0mdval\u001b[0m \u001b[0;32mis\u001b[0m \u001b[0;32mNone\u001b[0m \u001b[0;32mor\u001b[0m \u001b[0mdval\u001b[0m \u001b[0;34m==\u001b[0m \u001b[0mg\u001b[0m\u001b[0;34m.\u001b[0m\u001b[0mis_directed\u001b[0m\u001b[0;34m(\u001b[0m\u001b[0;34m)\u001b[0m\u001b[0;34m\u001b[0m\u001b[0;34m\u001b[0m\u001b[0m\n\u001b[1;32m     91\u001b[0m         ):\n\u001b[0;32m---> 92\u001b[0;31m             \u001b[0;32mraise\u001b[0m \u001b[0mnx\u001b[0m\u001b[0;34m.\u001b[0m\u001b[0mNetworkXNotImplemented\u001b[0m\u001b[0;34m(\u001b[0m\u001b[0merrmsg\u001b[0m\u001b[0;34m)\u001b[0m\u001b[0;34m\u001b[0m\u001b[0;34m\u001b[0m\u001b[0m\n\u001b[0m\u001b[1;32m     93\u001b[0m \u001b[0;34m\u001b[0m\u001b[0m\n\u001b[1;32m     94\u001b[0m         \u001b[0;32mreturn\u001b[0m \u001b[0mg\u001b[0m\u001b[0;34m\u001b[0m\u001b[0;34m\u001b[0m\u001b[0m\n",
            "\u001b[0;31mNetworkXNotImplemented\u001b[0m: not implemented for directed type"
          ]
        }
      ]
    },
    {
      "cell_type": "code",
      "source": [
        "nx.weisfeiler_lehman_graph_hash(graphs['rus']['train'][0])"
      ],
      "metadata": {
        "colab": {
          "base_uri": "https://localhost:8080/",
          "height": 35
        },
        "id": "pBqOahiF8QFU",
        "outputId": "c68973ae-6267-438b-87ad-936c5fe5a80d"
      },
      "execution_count": null,
      "outputs": [
        {
          "output_type": "execute_result",
          "data": {
            "text/plain": [
              "'58916e5534b845124ae54d8a8b4d2c07'"
            ],
            "application/vnd.google.colaboratory.intrinsic+json": {
              "type": "string"
            }
          },
          "metadata": {},
          "execution_count": 85
        }
      ]
    },
    {
      "cell_type": "code",
      "source": [
        "info_df.groupby(\"relation\").word_depth.mean()"
      ],
      "metadata": {
        "colab": {
          "base_uri": "https://localhost:8080/"
        },
        "id": "AV7rF0chFRjn",
        "outputId": "f90f6d30-8502-4a37-eeb9-969f2a4ad773"
      },
      "execution_count": null,
      "outputs": [
        {
          "output_type": "execute_result",
          "data": {
            "text/plain": [
              "relation\n",
              "acl              4.042243\n",
              "acl:relcl        3.994823\n",
              "advcl            2.793349\n",
              "advmod           3.436040\n",
              "amod             4.494379\n",
              "appos            4.162159\n",
              "aux              3.117075\n",
              "aux:pass         3.008981\n",
              "case             4.444587\n",
              "cc               4.304084\n",
              "ccomp            2.581978\n",
              "compound         5.216276\n",
              "conj             3.739500\n",
              "cop              2.895257\n",
              "csubj            2.740337\n",
              "csubj:pass       2.619632\n",
              "dep              3.000000\n",
              "det              4.248919\n",
              "discourse        3.139121\n",
              "dislocated       3.166667\n",
              "expl             2.501896\n",
              "fixed            4.783490\n",
              "flat             4.089178\n",
              "flat:foreign     4.258101\n",
              "flat:name        4.592189\n",
              "iobj             3.352953\n",
              "list             6.000000\n",
              "mark             3.769283\n",
              "nmod             4.355170\n",
              "nsubj            2.797501\n",
              "nsubj:outer      2.285714\n",
              "nsubj:pass       2.886842\n",
              "nummod           4.362580\n",
              "nummod:entity    4.464945\n",
              "nummod:gov       3.932437\n",
              "obj              3.421643\n",
              "obl              3.307963\n",
              "obl:agent        4.185501\n",
              "obl:tmod         2.887073\n",
              "orphan           2.000000\n",
              "parataxis        2.961534\n",
              "punct            3.545610\n",
              "root             1.000000\n",
              "vocative         2.765432\n",
              "xcomp            3.026728\n",
              "Name: word_depth, dtype: float64"
            ]
          },
          "metadata": {},
          "execution_count": 58
        }
      ]
    },
    {
      "cell_type": "code",
      "source": [
        "info_df.groupby(\"pos\").word_depth.mean()"
      ],
      "metadata": {
        "colab": {
          "base_uri": "https://localhost:8080/"
        },
        "id": "a7L-lJpyFSwq",
        "outputId": "500d7d2a-8f3d-4511-f480-40900381d639"
      },
      "execution_count": null,
      "outputs": [
        {
          "output_type": "execute_result",
          "data": {
            "text/plain": [
              "pos\n",
              "ADJ      4.178393\n",
              "ADP      4.434999\n",
              "ADV      3.271898\n",
              "AUX      2.979736\n",
              "CCONJ    4.300878\n",
              "DET      4.179239\n",
              "INTJ     2.297143\n",
              "NOUN     3.528171\n",
              "NUM      4.091218\n",
              "PART     3.610305\n",
              "PRON     3.295790\n",
              "PROPN    3.894594\n",
              "PUNCT    3.545610\n",
              "SCONJ    3.865085\n",
              "SYM      3.376691\n",
              "VERB     2.374624\n",
              "X        4.204762\n",
              "Name: word_depth, dtype: float64"
            ]
          },
          "metadata": {},
          "execution_count": 55
        }
      ]
    },
    {
      "cell_type": "code",
      "source": [],
      "metadata": {
        "id": "axWfpTiWFRmP"
      },
      "execution_count": null,
      "outputs": []
    },
    {
      "cell_type": "code",
      "source": [],
      "metadata": {
        "id": "mKzSeT_71wrC"
      },
      "execution_count": null,
      "outputs": []
    },
    {
      "cell_type": "code",
      "source": [
        "rel_counter_dict = {}\n",
        "for lang in ['rus', 'eng', 'chn']:\n",
        "  rel_counter_dict[lang] = Counter(node_df_dict_all[lang]['relation'])"
      ],
      "metadata": {
        "id": "po9oO72m1wt8"
      },
      "execution_count": null,
      "outputs": []
    },
    {
      "cell_type": "code",
      "source": [
        "rel_counter_dict.keys()"
      ],
      "metadata": {
        "colab": {
          "base_uri": "https://localhost:8080/"
        },
        "id": "QEj9rGmi2Qyr",
        "outputId": "a6d1c3ec-2885-44d4-c537-e9cfd5506267"
      },
      "execution_count": null,
      "outputs": [
        {
          "output_type": "execute_result",
          "data": {
            "text/plain": [
              "dict_keys(['rus', 'eng', 'chn'])"
            ]
          },
          "metadata": {},
          "execution_count": 191
        }
      ]
    },
    {
      "cell_type": "code",
      "source": [
        "[(lang, len(c.keys())) for lang, c in rel_counter_dict.items()]"
      ],
      "metadata": {
        "colab": {
          "base_uri": "https://localhost:8080/"
        },
        "id": "EIXAixml2Exc",
        "outputId": "9d0fbe29-a010-4318-9679-f91fa2279da5"
      },
      "execution_count": null,
      "outputs": [
        {
          "output_type": "execute_result",
          "data": {
            "text/plain": [
              "[('rus', 45), ('eng', 52), ('chn', 43)]"
            ]
          },
          "metadata": {},
          "execution_count": 193
        }
      ]
    },
    {
      "cell_type": "code",
      "source": [
        "rel_set = {r for c in rel_counter_dict.values() for r in c}"
      ],
      "metadata": {
        "id": "3OUlkCV82fsB"
      },
      "execution_count": null,
      "outputs": []
    },
    {
      "cell_type": "code",
      "source": [
        "len(rel_set)"
      ],
      "metadata": {
        "colab": {
          "base_uri": "https://localhost:8080/"
        },
        "id": "Fzme1Lox2N0C",
        "outputId": "128e922b-c225-485a-e6f7-f1684253b82e"
      },
      "execution_count": null,
      "outputs": [
        {
          "output_type": "execute_result",
          "data": {
            "text/plain": [
              "63"
            ]
          },
          "metadata": {},
          "execution_count": 195
        }
      ]
    },
    {
      "cell_type": "code",
      "source": [
        "node_stat = {lang: rel_counter.total() for lang, rel_counter in rel_counter_dict.items()}"
      ],
      "metadata": {
        "id": "2yfkeUD24HUj"
      },
      "execution_count": null,
      "outputs": []
    },
    {
      "cell_type": "code",
      "source": [
        "node_stat"
      ],
      "metadata": {
        "colab": {
          "base_uri": "https://localhost:8080/"
        },
        "id": "mvuhF8FM4lLP",
        "outputId": "632dfce7-ce96-4d46-8101-bc5897ba68e3"
      },
      "execution_count": null,
      "outputs": [
        {
          "output_type": "execute_result",
          "data": {
            "text/plain": [
              "{'rus': 1474199, 'eng': 253634, 'chn': 123291}"
            ]
          },
          "metadata": {},
          "execution_count": 207
        }
      ]
    },
    {
      "cell_type": "code",
      "source": [
        "rel_info = []\n",
        "labels = []\n",
        "for r in rel_set:\n",
        "  rel_stat = {}\n",
        "  for lang, counter in rel_counter_dict.items():\n",
        "    rel_stat[lang] = counter[r] / node_stat[lang]\n",
        "  rel_info.append(rel_stat)\n",
        "  labels.append(r)\n",
        "rel_df = pd.DataFrame(rel_info, index=labels)"
      ],
      "metadata": {
        "id": "5qRM2E3Z2-D2"
      },
      "execution_count": null,
      "outputs": []
    },
    {
      "cell_type": "code",
      "source": [
        "[rel_df['rus'] > 0.1 or rel_df['eng'] > 0.1 or rel_df['chn'] > 0.1]"
      ],
      "metadata": {
        "colab": {
          "base_uri": "https://localhost:8080/",
          "height": 263
        },
        "id": "UuEUHO3Q5g0y",
        "outputId": "05cadc3c-77fd-47cb-a759-e10a6714a319"
      },
      "execution_count": null,
      "outputs": [
        {
          "output_type": "error",
          "ename": "ValueError",
          "evalue": "The truth value of a Series is ambiguous. Use a.empty, a.bool(), a.item(), a.any() or a.all().",
          "traceback": [
            "\u001b[0;31m---------------------------------------------------------------------------\u001b[0m",
            "\u001b[0;31mValueError\u001b[0m                                Traceback (most recent call last)",
            "\u001b[0;32m<ipython-input-213-99c2c816d638>\u001b[0m in \u001b[0;36m<cell line: 1>\u001b[0;34m()\u001b[0m\n\u001b[0;32m----> 1\u001b[0;31m \u001b[0;34m[\u001b[0m\u001b[0mrel_df\u001b[0m\u001b[0;34m[\u001b[0m\u001b[0;34m'rus'\u001b[0m\u001b[0;34m]\u001b[0m \u001b[0;34m>\u001b[0m \u001b[0;36m0.1\u001b[0m \u001b[0;32mor\u001b[0m \u001b[0mrel_df\u001b[0m\u001b[0;34m[\u001b[0m\u001b[0;34m'eng'\u001b[0m\u001b[0;34m]\u001b[0m \u001b[0;34m>\u001b[0m \u001b[0;36m0.1\u001b[0m \u001b[0;32mor\u001b[0m \u001b[0mrel_df\u001b[0m\u001b[0;34m[\u001b[0m\u001b[0;34m'chn'\u001b[0m\u001b[0;34m]\u001b[0m \u001b[0;34m>\u001b[0m \u001b[0;36m0.1\u001b[0m\u001b[0;34m]\u001b[0m\u001b[0;34m\u001b[0m\u001b[0;34m\u001b[0m\u001b[0m\n\u001b[0m",
            "\u001b[0;32m/usr/local/lib/python3.10/dist-packages/pandas/core/generic.py\u001b[0m in \u001b[0;36m__nonzero__\u001b[0;34m(self)\u001b[0m\n\u001b[1;32m   1464\u001b[0m     \u001b[0;34m@\u001b[0m\u001b[0mfinal\u001b[0m\u001b[0;34m\u001b[0m\u001b[0;34m\u001b[0m\u001b[0m\n\u001b[1;32m   1465\u001b[0m     \u001b[0;32mdef\u001b[0m \u001b[0m__nonzero__\u001b[0m\u001b[0;34m(\u001b[0m\u001b[0mself\u001b[0m\u001b[0;34m)\u001b[0m \u001b[0;34m->\u001b[0m \u001b[0mNoReturn\u001b[0m\u001b[0;34m:\u001b[0m\u001b[0;34m\u001b[0m\u001b[0;34m\u001b[0m\u001b[0m\n\u001b[0;32m-> 1466\u001b[0;31m         raise ValueError(\n\u001b[0m\u001b[1;32m   1467\u001b[0m             \u001b[0;34mf\"The truth value of a {type(self).__name__} is ambiguous. \"\u001b[0m\u001b[0;34m\u001b[0m\u001b[0;34m\u001b[0m\u001b[0m\n\u001b[1;32m   1468\u001b[0m             \u001b[0;34m\"Use a.empty, a.bool(), a.item(), a.any() or a.all().\"\u001b[0m\u001b[0;34m\u001b[0m\u001b[0;34m\u001b[0m\u001b[0m\n",
            "\u001b[0;31mValueError\u001b[0m: The truth value of a Series is ambiguous. Use a.empty, a.bool(), a.item(), a.any() or a.all()."
          ]
        }
      ]
    },
    {
      "cell_type": "code",
      "source": [
        "border = 0.05\n",
        "frequent_rel_df = rel_df[(rel_df['rus'] > border) | (rel_df['eng'] > border) | (rel_df['chn'] > border)].round(3)"
      ],
      "metadata": {
        "id": "f_jM_f15FRo3"
      },
      "execution_count": null,
      "outputs": []
    },
    {
      "cell_type": "code",
      "source": [
        "frequent_rel_df"
      ],
      "metadata": {
        "colab": {
          "base_uri": "https://localhost:8080/",
          "height": 394
        },
        "id": "wFt_7bE16ZTR",
        "outputId": "d0296aee-6c08-4ecb-b9f2-f81689422818"
      },
      "execution_count": null,
      "outputs": [
        {
          "output_type": "execute_result",
          "data": {
            "text/plain": [
              "          rus    eng    chn\n",
              "punct   0.184  0.116  0.138\n",
              "det     0.025  0.076  0.012\n",
              "root    0.058  0.065  0.041\n",
              "case    0.092  0.084  0.074\n",
              "nummod  0.006  0.012  0.051\n",
              "nmod    0.082  0.033  0.132\n",
              "nsubj   0.068  0.078  0.076\n",
              "advmod  0.064  0.055  0.026\n",
              "obl     0.081  0.042  0.027\n",
              "amod    0.080  0.048  0.017\n",
              "obj     0.033  0.048  0.063"
            ],
            "text/html": [
              "\n",
              "  <div id=\"df-edddb065-7778-4513-bfdc-72856c1cfb5a\" class=\"colab-df-container\">\n",
              "    <div>\n",
              "<style scoped>\n",
              "    .dataframe tbody tr th:only-of-type {\n",
              "        vertical-align: middle;\n",
              "    }\n",
              "\n",
              "    .dataframe tbody tr th {\n",
              "        vertical-align: top;\n",
              "    }\n",
              "\n",
              "    .dataframe thead th {\n",
              "        text-align: right;\n",
              "    }\n",
              "</style>\n",
              "<table border=\"1\" class=\"dataframe\">\n",
              "  <thead>\n",
              "    <tr style=\"text-align: right;\">\n",
              "      <th></th>\n",
              "      <th>rus</th>\n",
              "      <th>eng</th>\n",
              "      <th>chn</th>\n",
              "    </tr>\n",
              "  </thead>\n",
              "  <tbody>\n",
              "    <tr>\n",
              "      <th>punct</th>\n",
              "      <td>0.184</td>\n",
              "      <td>0.116</td>\n",
              "      <td>0.138</td>\n",
              "    </tr>\n",
              "    <tr>\n",
              "      <th>det</th>\n",
              "      <td>0.025</td>\n",
              "      <td>0.076</td>\n",
              "      <td>0.012</td>\n",
              "    </tr>\n",
              "    <tr>\n",
              "      <th>root</th>\n",
              "      <td>0.058</td>\n",
              "      <td>0.065</td>\n",
              "      <td>0.041</td>\n",
              "    </tr>\n",
              "    <tr>\n",
              "      <th>case</th>\n",
              "      <td>0.092</td>\n",
              "      <td>0.084</td>\n",
              "      <td>0.074</td>\n",
              "    </tr>\n",
              "    <tr>\n",
              "      <th>nummod</th>\n",
              "      <td>0.006</td>\n",
              "      <td>0.012</td>\n",
              "      <td>0.051</td>\n",
              "    </tr>\n",
              "    <tr>\n",
              "      <th>nmod</th>\n",
              "      <td>0.082</td>\n",
              "      <td>0.033</td>\n",
              "      <td>0.132</td>\n",
              "    </tr>\n",
              "    <tr>\n",
              "      <th>nsubj</th>\n",
              "      <td>0.068</td>\n",
              "      <td>0.078</td>\n",
              "      <td>0.076</td>\n",
              "    </tr>\n",
              "    <tr>\n",
              "      <th>advmod</th>\n",
              "      <td>0.064</td>\n",
              "      <td>0.055</td>\n",
              "      <td>0.026</td>\n",
              "    </tr>\n",
              "    <tr>\n",
              "      <th>obl</th>\n",
              "      <td>0.081</td>\n",
              "      <td>0.042</td>\n",
              "      <td>0.027</td>\n",
              "    </tr>\n",
              "    <tr>\n",
              "      <th>amod</th>\n",
              "      <td>0.080</td>\n",
              "      <td>0.048</td>\n",
              "      <td>0.017</td>\n",
              "    </tr>\n",
              "    <tr>\n",
              "      <th>obj</th>\n",
              "      <td>0.033</td>\n",
              "      <td>0.048</td>\n",
              "      <td>0.063</td>\n",
              "    </tr>\n",
              "  </tbody>\n",
              "</table>\n",
              "</div>\n",
              "    <div class=\"colab-df-buttons\">\n",
              "\n",
              "  <div class=\"colab-df-container\">\n",
              "    <button class=\"colab-df-convert\" onclick=\"convertToInteractive('df-edddb065-7778-4513-bfdc-72856c1cfb5a')\"\n",
              "            title=\"Convert this dataframe to an interactive table.\"\n",
              "            style=\"display:none;\">\n",
              "\n",
              "  <svg xmlns=\"http://www.w3.org/2000/svg\" height=\"24px\" viewBox=\"0 -960 960 960\">\n",
              "    <path d=\"M120-120v-720h720v720H120Zm60-500h600v-160H180v160Zm220 220h160v-160H400v160Zm0 220h160v-160H400v160ZM180-400h160v-160H180v160Zm440 0h160v-160H620v160ZM180-180h160v-160H180v160Zm440 0h160v-160H620v160Z\"/>\n",
              "  </svg>\n",
              "    </button>\n",
              "\n",
              "  <style>\n",
              "    .colab-df-container {\n",
              "      display:flex;\n",
              "      gap: 12px;\n",
              "    }\n",
              "\n",
              "    .colab-df-convert {\n",
              "      background-color: #E8F0FE;\n",
              "      border: none;\n",
              "      border-radius: 50%;\n",
              "      cursor: pointer;\n",
              "      display: none;\n",
              "      fill: #1967D2;\n",
              "      height: 32px;\n",
              "      padding: 0 0 0 0;\n",
              "      width: 32px;\n",
              "    }\n",
              "\n",
              "    .colab-df-convert:hover {\n",
              "      background-color: #E2EBFA;\n",
              "      box-shadow: 0px 1px 2px rgba(60, 64, 67, 0.3), 0px 1px 3px 1px rgba(60, 64, 67, 0.15);\n",
              "      fill: #174EA6;\n",
              "    }\n",
              "\n",
              "    .colab-df-buttons div {\n",
              "      margin-bottom: 4px;\n",
              "    }\n",
              "\n",
              "    [theme=dark] .colab-df-convert {\n",
              "      background-color: #3B4455;\n",
              "      fill: #D2E3FC;\n",
              "    }\n",
              "\n",
              "    [theme=dark] .colab-df-convert:hover {\n",
              "      background-color: #434B5C;\n",
              "      box-shadow: 0px 1px 3px 1px rgba(0, 0, 0, 0.15);\n",
              "      filter: drop-shadow(0px 1px 2px rgba(0, 0, 0, 0.3));\n",
              "      fill: #FFFFFF;\n",
              "    }\n",
              "  </style>\n",
              "\n",
              "    <script>\n",
              "      const buttonEl =\n",
              "        document.querySelector('#df-edddb065-7778-4513-bfdc-72856c1cfb5a button.colab-df-convert');\n",
              "      buttonEl.style.display =\n",
              "        google.colab.kernel.accessAllowed ? 'block' : 'none';\n",
              "\n",
              "      async function convertToInteractive(key) {\n",
              "        const element = document.querySelector('#df-edddb065-7778-4513-bfdc-72856c1cfb5a');\n",
              "        const dataTable =\n",
              "          await google.colab.kernel.invokeFunction('convertToInteractive',\n",
              "                                                    [key], {});\n",
              "        if (!dataTable) return;\n",
              "\n",
              "        const docLinkHtml = 'Like what you see? Visit the ' +\n",
              "          '<a target=\"_blank\" href=https://colab.research.google.com/notebooks/data_table.ipynb>data table notebook</a>'\n",
              "          + ' to learn more about interactive tables.';\n",
              "        element.innerHTML = '';\n",
              "        dataTable['output_type'] = 'display_data';\n",
              "        await google.colab.output.renderOutput(dataTable, element);\n",
              "        const docLink = document.createElement('div');\n",
              "        docLink.innerHTML = docLinkHtml;\n",
              "        element.appendChild(docLink);\n",
              "      }\n",
              "    </script>\n",
              "  </div>\n",
              "\n",
              "\n",
              "<div id=\"df-aac5ba7d-3935-4549-afc8-b6d8e7b20ffe\">\n",
              "  <button class=\"colab-df-quickchart\" onclick=\"quickchart('df-aac5ba7d-3935-4549-afc8-b6d8e7b20ffe')\"\n",
              "            title=\"Suggest charts\"\n",
              "            style=\"display:none;\">\n",
              "\n",
              "<svg xmlns=\"http://www.w3.org/2000/svg\" height=\"24px\"viewBox=\"0 0 24 24\"\n",
              "     width=\"24px\">\n",
              "    <g>\n",
              "        <path d=\"M19 3H5c-1.1 0-2 .9-2 2v14c0 1.1.9 2 2 2h14c1.1 0 2-.9 2-2V5c0-1.1-.9-2-2-2zM9 17H7v-7h2v7zm4 0h-2V7h2v10zm4 0h-2v-4h2v4z\"/>\n",
              "    </g>\n",
              "</svg>\n",
              "  </button>\n",
              "\n",
              "<style>\n",
              "  .colab-df-quickchart {\n",
              "      --bg-color: #E8F0FE;\n",
              "      --fill-color: #1967D2;\n",
              "      --hover-bg-color: #E2EBFA;\n",
              "      --hover-fill-color: #174EA6;\n",
              "      --disabled-fill-color: #AAA;\n",
              "      --disabled-bg-color: #DDD;\n",
              "  }\n",
              "\n",
              "  [theme=dark] .colab-df-quickchart {\n",
              "      --bg-color: #3B4455;\n",
              "      --fill-color: #D2E3FC;\n",
              "      --hover-bg-color: #434B5C;\n",
              "      --hover-fill-color: #FFFFFF;\n",
              "      --disabled-bg-color: #3B4455;\n",
              "      --disabled-fill-color: #666;\n",
              "  }\n",
              "\n",
              "  .colab-df-quickchart {\n",
              "    background-color: var(--bg-color);\n",
              "    border: none;\n",
              "    border-radius: 50%;\n",
              "    cursor: pointer;\n",
              "    display: none;\n",
              "    fill: var(--fill-color);\n",
              "    height: 32px;\n",
              "    padding: 0;\n",
              "    width: 32px;\n",
              "  }\n",
              "\n",
              "  .colab-df-quickchart:hover {\n",
              "    background-color: var(--hover-bg-color);\n",
              "    box-shadow: 0 1px 2px rgba(60, 64, 67, 0.3), 0 1px 3px 1px rgba(60, 64, 67, 0.15);\n",
              "    fill: var(--button-hover-fill-color);\n",
              "  }\n",
              "\n",
              "  .colab-df-quickchart-complete:disabled,\n",
              "  .colab-df-quickchart-complete:disabled:hover {\n",
              "    background-color: var(--disabled-bg-color);\n",
              "    fill: var(--disabled-fill-color);\n",
              "    box-shadow: none;\n",
              "  }\n",
              "\n",
              "  .colab-df-spinner {\n",
              "    border: 2px solid var(--fill-color);\n",
              "    border-color: transparent;\n",
              "    border-bottom-color: var(--fill-color);\n",
              "    animation:\n",
              "      spin 1s steps(1) infinite;\n",
              "  }\n",
              "\n",
              "  @keyframes spin {\n",
              "    0% {\n",
              "      border-color: transparent;\n",
              "      border-bottom-color: var(--fill-color);\n",
              "      border-left-color: var(--fill-color);\n",
              "    }\n",
              "    20% {\n",
              "      border-color: transparent;\n",
              "      border-left-color: var(--fill-color);\n",
              "      border-top-color: var(--fill-color);\n",
              "    }\n",
              "    30% {\n",
              "      border-color: transparent;\n",
              "      border-left-color: var(--fill-color);\n",
              "      border-top-color: var(--fill-color);\n",
              "      border-right-color: var(--fill-color);\n",
              "    }\n",
              "    40% {\n",
              "      border-color: transparent;\n",
              "      border-right-color: var(--fill-color);\n",
              "      border-top-color: var(--fill-color);\n",
              "    }\n",
              "    60% {\n",
              "      border-color: transparent;\n",
              "      border-right-color: var(--fill-color);\n",
              "    }\n",
              "    80% {\n",
              "      border-color: transparent;\n",
              "      border-right-color: var(--fill-color);\n",
              "      border-bottom-color: var(--fill-color);\n",
              "    }\n",
              "    90% {\n",
              "      border-color: transparent;\n",
              "      border-bottom-color: var(--fill-color);\n",
              "    }\n",
              "  }\n",
              "</style>\n",
              "\n",
              "  <script>\n",
              "    async function quickchart(key) {\n",
              "      const quickchartButtonEl =\n",
              "        document.querySelector('#' + key + ' button');\n",
              "      quickchartButtonEl.disabled = true;  // To prevent multiple clicks.\n",
              "      quickchartButtonEl.classList.add('colab-df-spinner');\n",
              "      try {\n",
              "        const charts = await google.colab.kernel.invokeFunction(\n",
              "            'suggestCharts', [key], {});\n",
              "      } catch (error) {\n",
              "        console.error('Error during call to suggestCharts:', error);\n",
              "      }\n",
              "      quickchartButtonEl.classList.remove('colab-df-spinner');\n",
              "      quickchartButtonEl.classList.add('colab-df-quickchart-complete');\n",
              "    }\n",
              "    (() => {\n",
              "      let quickchartButtonEl =\n",
              "        document.querySelector('#df-aac5ba7d-3935-4549-afc8-b6d8e7b20ffe button');\n",
              "      quickchartButtonEl.style.display =\n",
              "        google.colab.kernel.accessAllowed ? 'block' : 'none';\n",
              "    })();\n",
              "  </script>\n",
              "</div>\n",
              "    </div>\n",
              "  </div>\n"
            ],
            "application/vnd.google.colaboratory.intrinsic+json": {
              "type": "dataframe",
              "variable_name": "frequent_rel_df",
              "summary": "{\n  \"name\": \"frequent_rel_df\",\n  \"rows\": 11,\n  \"fields\": [\n    {\n      \"column\": \"rus\",\n      \"properties\": {\n        \"dtype\": \"number\",\n        \"std\": 0.046387694292971515,\n        \"min\": 0.006,\n        \"max\": 0.184,\n        \"num_unique_values\": 11,\n        \"samples\": [\n          0.082,\n          0.184,\n          0.08\n        ],\n        \"semantic_type\": \"\",\n        \"description\": \"\"\n      }\n    },\n    {\n      \"column\": \"eng\",\n      \"properties\": {\n        \"dtype\": \"number\",\n        \"std\": 0.028259833365010874,\n        \"min\": 0.012,\n        \"max\": 0.116,\n        \"num_unique_values\": 10,\n        \"samples\": [\n          0.042,\n          0.076,\n          0.033\n        ],\n        \"semantic_type\": \"\",\n        \"description\": \"\"\n      }\n    },\n    {\n      \"column\": \"chn\",\n      \"properties\": {\n        \"dtype\": \"number\",\n        \"std\": 0.04309081319513687,\n        \"min\": 0.012,\n        \"max\": 0.138,\n        \"num_unique_values\": 11,\n        \"samples\": [\n          0.132,\n          0.138,\n          0.017\n        ],\n        \"semantic_type\": \"\",\n        \"description\": \"\"\n      }\n    }\n  ]\n}"
            }
          },
          "metadata": {},
          "execution_count": 219
        }
      ]
    },
    {
      "cell_type": "code",
      "source": [
        "frequent_rel_df.plot.barh()"
      ],
      "metadata": {
        "colab": {
          "base_uri": "https://localhost:8080/",
          "height": 447
        },
        "id": "4vb-KbG4AY55",
        "outputId": "93459b4d-eb25-42b7-8db5-42e978c4d8ba"
      },
      "execution_count": null,
      "outputs": [
        {
          "output_type": "execute_result",
          "data": {
            "text/plain": [
              "<Axes: >"
            ]
          },
          "metadata": {},
          "execution_count": 221
        },
        {
          "output_type": "display_data",
          "data": {
            "text/plain": [
              "<Figure size 640x480 with 1 Axes>"
            ],
            "image/png": "[encoded data removed]"
          },
          "metadata": {}
        }
      ]
    },
    {
      "cell_type": "code",
      "source": [
        "rel_df.plot.barh()"
      ],
      "metadata": {
        "colab": {
          "base_uri": "https://localhost:8080/",
          "height": 449
        },
        "id": "_Rc5f4KJ6eV4",
        "outputId": "7365cd3d-18f0-44da-9258-cb27f980e99a"
      },
      "execution_count": null,
      "outputs": [
        {
          "output_type": "execute_result",
          "data": {
            "text/plain": [
              "<Axes: >"
            ]
          },
          "metadata": {},
          "execution_count": 222
        },
        {
          "output_type": "display_data",
          "data": {
            "text/plain": [
              "<Figure size 640x480 with 1 Axes>"
            ],
            "image/png": "[encoded data removed]"
          },
          "metadata": {}
        }
      ]
    },
    {
      "cell_type": "code",
      "source": [
        "zero_rel_df = rel_df[(rel_df['rus'] == 0) | (rel_df['eng'] == 0) | (rel_df['chn'] == 0)].round(3)"
      ],
      "metadata": {
        "id": "VVeDMaVz6xgO"
      },
      "execution_count": null,
      "outputs": []
    },
    {
      "cell_type": "code",
      "source": [
        "len(zero_rel_df)"
      ],
      "metadata": {
        "colab": {
          "base_uri": "https://localhost:8080/"
        },
        "id": "HOGVcc7764eG",
        "outputId": "77dae8a7-314d-4cfa-aedd-394e3a70ddb8"
      },
      "execution_count": null,
      "outputs": [
        {
          "output_type": "execute_result",
          "data": {
            "text/plain": [
              "31"
            ]
          },
          "metadata": {},
          "execution_count": 228
        }
      ]
    },
    {
      "cell_type": "code",
      "source": [
        "from copy import deepcopy\n",
        "info_df = deepcopy(node_df_dict['rus']['train'])\n",
        "for column in [\"relation\", \"pos\"]:\n",
        "  info_df[column] = pd.factorize(info_df[column])[0]\n",
        "\n",
        "import matplotlib.pyplot as plt\n",
        "\n",
        "plt.matshow(info_df[[\"parent_id\", \"relation\", \"pos\", \"word_depth\"]].corr())\n",
        "plt.show()\n"
      ],
      "metadata": {
        "id": "QH03gtRbAY7q"
      },
      "execution_count": null,
      "outputs": []
    },
    {
      "cell_type": "code",
      "source": [
        "from collections import Counter\n",
        "\n",
        "def get_relations(sents):\n",
        "    rel = [w.relation for s in sents for w in s.words]\n",
        "    return Counter(rel)\n",
        "\n",
        "rel_counters = {}\n",
        "for f in sents:\n",
        "    rel_counters[f] = get_relations(sents[f])\n"
      ],
      "metadata": {
        "id": "ZbgjUDn_dW7I"
      },
      "execution_count": null,
      "outputs": []
    },
    {
      "cell_type": "code",
      "source": [
        "import numpy as np\n",
        "import matplotlib.pyplot as plt\n",
        "\n",
        "for f, counter in rel_counters.items():\n",
        "    x, y = [], []\n",
        "    for x1, y1 in counter.most_common():\n",
        "      x.append(x1)\n",
        "      y.append(y1)\n",
        "    fig = plt.figure(figsize=(10, 18))\n",
        "    ax = fig.add_subplot()\n",
        "\n",
        "    bars = ax.barh(x, y, height=0.7)\n",
        "    ax.bar_label(bars)\n",
        "\n",
        "    plt.show()\n",
        "    fig = plt.figure(figsize=(10, 18))\n",
        "    ax = fig.add_subplot()\n",
        "\n",
        "    bars = ax.pie(y, labels=x, autopct='%1.1f%%')\n",
        "\n",
        "    plt.show()"
      ],
      "metadata": {
        "id": "yaXg2f2xdXSj"
      },
      "execution_count": null,
      "outputs": []
    },
    {
      "cell_type": "code",
      "source": [
        "from collections import Counter\n",
        "syntagrus_depth_relative_rate = {}\n",
        "syntagrus_all = len(syntagrus_train_graphs)\n",
        "syntagrus_depth_relative_rate = {depth: abs_rate / syntagrus_all for depth, abs_rate in Counter(syntagrus_train_depths).items()}\n",
        "syntagrus_avg_depth = sum([depth * rel_rate for depth, rel_rate in syntagrus_depth_relative_rate.items()])"
      ],
      "metadata": {
        "id": "GbWpeDfJdbLF"
      },
      "execution_count": null,
      "outputs": []
    },
    {
      "cell_type": "code",
      "source": [
        "import matplotlib.pyplot as plt\n",
        "vals = syntagrus_depth_relative_rate.values()\n",
        "labels = syntagrus_depth_relative_rate.keys()\n",
        "fig, ax = plt.subplots()\n",
        "ax.pie(vals, labels=labels, autopct='%1.1f%%')\n",
        "ax.axis(\"equal\")"
      ],
      "metadata": {
        "id": "4ifz7IGcdbNU"
      },
      "execution_count": null,
      "outputs": []
    }
  ]
}